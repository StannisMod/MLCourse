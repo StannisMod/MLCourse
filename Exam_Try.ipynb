{
 "cells": [
  {
   "cell_type": "code",
   "execution_count": 6,
   "id": "initial_id",
   "metadata": {
    "collapsed": true,
    "ExecuteTime": {
     "end_time": "2023-12-31T09:33:54.456070600Z",
     "start_time": "2023-12-31T09:33:54.444071500Z"
    }
   },
   "outputs": [],
   "source": [
    "import math\n",
    "\n",
    "from sklearn.linear_model import LogisticRegression\n",
    "import pandas as pd\n",
    "import numpy as np\n",
    "import seaborn as sns\n",
    "import matplotlib.pyplot as plt"
   ]
  },
  {
   "cell_type": "code",
   "execution_count": 7,
   "outputs": [],
   "source": [
    "vec = np.array([0.24, 1.102])"
   ],
   "metadata": {
    "collapsed": false,
    "ExecuteTime": {
     "end_time": "2023-12-31T09:33:54.617070500Z",
     "start_time": "2023-12-31T09:33:54.599104Z"
    }
   },
   "id": "80803ad01333f001"
  },
  {
   "cell_type": "code",
   "execution_count": 8,
   "outputs": [
    {
     "data": {
      "text/plain": "0.048"
     },
     "execution_count": 8,
     "metadata": {},
     "output_type": "execute_result"
    }
   ],
   "source": [
    "l = -2.992\n",
    "\n",
    "np.round(1 / (1 + math.e ** -l), 3)"
   ],
   "metadata": {
    "collapsed": false,
    "ExecuteTime": {
     "end_time": "2023-12-31T09:33:54.770085400Z",
     "start_time": "2023-12-31T09:33:54.746088200Z"
    }
   },
   "id": "d8dca093dccf6d89"
  },
  {
   "cell_type": "markdown",
   "source": [
    "# Task 2"
   ],
   "metadata": {
    "collapsed": false
   },
   "id": "f55fab23ae99f60c"
  },
  {
   "cell_type": "code",
   "execution_count": 9,
   "outputs": [
    {
     "data": {
      "text/plain": "              MIP      STDIP      EKIP       SIP          MC       STDC  \\\n0      140.562500  55.683782 -0.234571 -0.699648    3.199833  19.110426   \n1      102.507812  58.882430  0.465318 -0.515088    1.677258  14.860146   \n2      103.015625  39.341649  0.323328  1.051164    3.121237  21.744669   \n3      136.750000  57.178449 -0.068415 -0.636238    3.642977  20.959280   \n4       88.726562  40.672225  0.600866  1.123492    1.178930  11.468720   \n...           ...        ...       ...       ...         ...        ...   \n17893  136.429688  59.847421 -0.187846 -0.738123    1.296823  12.166062   \n17894  122.554688  49.485605  0.127978  0.323061   16.409699  44.626893   \n17895  119.335938  59.935939  0.159363 -0.743025   21.430602  58.872000   \n17896  114.507812  53.902400  0.201161 -0.024789    1.946488  13.381731   \n17897   57.062500  85.797340  1.406391  0.089520  188.306020  64.712562   \n\n             EKC          SC  TG  \n0       7.975532   74.242225   0  \n1      10.576487  127.393580   0  \n2       7.735822   63.171909   0  \n3       6.896499   53.593661   0  \n4      14.269573  252.567306   0  \n...          ...         ...  ..  \n17893  15.450260  285.931022   0  \n17894   2.945244    8.297092   0  \n17895   2.499517    4.595173   0  \n17896  10.007967  134.238910   0  \n17897  -1.597527    1.429475   0  \n\n[17898 rows x 9 columns]",
      "text/html": "<div>\n<style scoped>\n    .dataframe tbody tr th:only-of-type {\n        vertical-align: middle;\n    }\n\n    .dataframe tbody tr th {\n        vertical-align: top;\n    }\n\n    .dataframe thead th {\n        text-align: right;\n    }\n</style>\n<table border=\"1\" class=\"dataframe\">\n  <thead>\n    <tr style=\"text-align: right;\">\n      <th></th>\n      <th>MIP</th>\n      <th>STDIP</th>\n      <th>EKIP</th>\n      <th>SIP</th>\n      <th>MC</th>\n      <th>STDC</th>\n      <th>EKC</th>\n      <th>SC</th>\n      <th>TG</th>\n    </tr>\n  </thead>\n  <tbody>\n    <tr>\n      <th>0</th>\n      <td>140.562500</td>\n      <td>55.683782</td>\n      <td>-0.234571</td>\n      <td>-0.699648</td>\n      <td>3.199833</td>\n      <td>19.110426</td>\n      <td>7.975532</td>\n      <td>74.242225</td>\n      <td>0</td>\n    </tr>\n    <tr>\n      <th>1</th>\n      <td>102.507812</td>\n      <td>58.882430</td>\n      <td>0.465318</td>\n      <td>-0.515088</td>\n      <td>1.677258</td>\n      <td>14.860146</td>\n      <td>10.576487</td>\n      <td>127.393580</td>\n      <td>0</td>\n    </tr>\n    <tr>\n      <th>2</th>\n      <td>103.015625</td>\n      <td>39.341649</td>\n      <td>0.323328</td>\n      <td>1.051164</td>\n      <td>3.121237</td>\n      <td>21.744669</td>\n      <td>7.735822</td>\n      <td>63.171909</td>\n      <td>0</td>\n    </tr>\n    <tr>\n      <th>3</th>\n      <td>136.750000</td>\n      <td>57.178449</td>\n      <td>-0.068415</td>\n      <td>-0.636238</td>\n      <td>3.642977</td>\n      <td>20.959280</td>\n      <td>6.896499</td>\n      <td>53.593661</td>\n      <td>0</td>\n    </tr>\n    <tr>\n      <th>4</th>\n      <td>88.726562</td>\n      <td>40.672225</td>\n      <td>0.600866</td>\n      <td>1.123492</td>\n      <td>1.178930</td>\n      <td>11.468720</td>\n      <td>14.269573</td>\n      <td>252.567306</td>\n      <td>0</td>\n    </tr>\n    <tr>\n      <th>...</th>\n      <td>...</td>\n      <td>...</td>\n      <td>...</td>\n      <td>...</td>\n      <td>...</td>\n      <td>...</td>\n      <td>...</td>\n      <td>...</td>\n      <td>...</td>\n    </tr>\n    <tr>\n      <th>17893</th>\n      <td>136.429688</td>\n      <td>59.847421</td>\n      <td>-0.187846</td>\n      <td>-0.738123</td>\n      <td>1.296823</td>\n      <td>12.166062</td>\n      <td>15.450260</td>\n      <td>285.931022</td>\n      <td>0</td>\n    </tr>\n    <tr>\n      <th>17894</th>\n      <td>122.554688</td>\n      <td>49.485605</td>\n      <td>0.127978</td>\n      <td>0.323061</td>\n      <td>16.409699</td>\n      <td>44.626893</td>\n      <td>2.945244</td>\n      <td>8.297092</td>\n      <td>0</td>\n    </tr>\n    <tr>\n      <th>17895</th>\n      <td>119.335938</td>\n      <td>59.935939</td>\n      <td>0.159363</td>\n      <td>-0.743025</td>\n      <td>21.430602</td>\n      <td>58.872000</td>\n      <td>2.499517</td>\n      <td>4.595173</td>\n      <td>0</td>\n    </tr>\n    <tr>\n      <th>17896</th>\n      <td>114.507812</td>\n      <td>53.902400</td>\n      <td>0.201161</td>\n      <td>-0.024789</td>\n      <td>1.946488</td>\n      <td>13.381731</td>\n      <td>10.007967</td>\n      <td>134.238910</td>\n      <td>0</td>\n    </tr>\n    <tr>\n      <th>17897</th>\n      <td>57.062500</td>\n      <td>85.797340</td>\n      <td>1.406391</td>\n      <td>0.089520</td>\n      <td>188.306020</td>\n      <td>64.712562</td>\n      <td>-1.597527</td>\n      <td>1.429475</td>\n      <td>0</td>\n    </tr>\n  </tbody>\n</table>\n<p>17898 rows × 9 columns</p>\n</div>"
     },
     "execution_count": 9,
     "metadata": {},
     "output_type": "execute_result"
    }
   ],
   "source": [
    "df = pd.read_csv('data/exam/pulsar_stars_new.csv')\n",
    "df"
   ],
   "metadata": {
    "collapsed": false,
    "ExecuteTime": {
     "end_time": "2023-12-31T09:35:10.987149700Z",
     "start_time": "2023-12-31T09:35:10.927151100Z"
    }
   },
   "id": "25bd724a44311b92"
  },
  {
   "cell_type": "code",
   "execution_count": 13,
   "outputs": [
    {
     "data": {
      "text/plain": "             MIP      STDIP      EKIP       SIP          MC       STDC  \\\n4      88.726562  40.672225  0.600866  1.123492    1.178930  11.468720   \n5      93.570312  46.698114  0.531905  0.416721    1.636288  14.545074   \n19     99.367188  41.572202  1.547197  4.154106   27.555184  61.719016   \n22     95.867188  42.059922  0.326387  0.803502    1.832776  12.248969   \n31     99.914062  43.919498  0.475729  0.781486    0.619565   9.440976   \n...          ...        ...       ...       ...         ...        ...   \n17878  90.148438  40.786044  0.457139  0.885516    5.354515  29.759511   \n17883  84.421875  41.775555  0.757467  1.107075    1.336120  12.026757   \n17888  98.726562  50.407823  0.565124  0.245231    0.570234   9.011285   \n17892  96.000000  44.193113  0.388674  0.281344    1.871237  15.833746   \n17897  57.062500  85.797340  1.406391  0.089520  188.306020  64.712562   \n\n             EKC          SC  TG  \n4      14.269573  252.567306   0  \n5      10.621748  131.394004   0  \n19      2.208808    3.662680   1  \n22     11.249331  177.230771   0  \n31     20.106639  475.680218   0  \n...          ...         ...  ..  \n17878   6.102231   37.979520   0  \n17883  14.502863  258.119819   0  \n17888  22.018589  561.833787   0  \n17892   9.634927  104.821623   0  \n17897  -1.597527    1.429475   0  \n\n[4218 rows x 9 columns]",
      "text/html": "<div>\n<style scoped>\n    .dataframe tbody tr th:only-of-type {\n        vertical-align: middle;\n    }\n\n    .dataframe tbody tr th {\n        vertical-align: top;\n    }\n\n    .dataframe thead th {\n        text-align: right;\n    }\n</style>\n<table border=\"1\" class=\"dataframe\">\n  <thead>\n    <tr style=\"text-align: right;\">\n      <th></th>\n      <th>MIP</th>\n      <th>STDIP</th>\n      <th>EKIP</th>\n      <th>SIP</th>\n      <th>MC</th>\n      <th>STDC</th>\n      <th>EKC</th>\n      <th>SC</th>\n      <th>TG</th>\n    </tr>\n  </thead>\n  <tbody>\n    <tr>\n      <th>4</th>\n      <td>88.726562</td>\n      <td>40.672225</td>\n      <td>0.600866</td>\n      <td>1.123492</td>\n      <td>1.178930</td>\n      <td>11.468720</td>\n      <td>14.269573</td>\n      <td>252.567306</td>\n      <td>0</td>\n    </tr>\n    <tr>\n      <th>5</th>\n      <td>93.570312</td>\n      <td>46.698114</td>\n      <td>0.531905</td>\n      <td>0.416721</td>\n      <td>1.636288</td>\n      <td>14.545074</td>\n      <td>10.621748</td>\n      <td>131.394004</td>\n      <td>0</td>\n    </tr>\n    <tr>\n      <th>19</th>\n      <td>99.367188</td>\n      <td>41.572202</td>\n      <td>1.547197</td>\n      <td>4.154106</td>\n      <td>27.555184</td>\n      <td>61.719016</td>\n      <td>2.208808</td>\n      <td>3.662680</td>\n      <td>1</td>\n    </tr>\n    <tr>\n      <th>22</th>\n      <td>95.867188</td>\n      <td>42.059922</td>\n      <td>0.326387</td>\n      <td>0.803502</td>\n      <td>1.832776</td>\n      <td>12.248969</td>\n      <td>11.249331</td>\n      <td>177.230771</td>\n      <td>0</td>\n    </tr>\n    <tr>\n      <th>31</th>\n      <td>99.914062</td>\n      <td>43.919498</td>\n      <td>0.475729</td>\n      <td>0.781486</td>\n      <td>0.619565</td>\n      <td>9.440976</td>\n      <td>20.106639</td>\n      <td>475.680218</td>\n      <td>0</td>\n    </tr>\n    <tr>\n      <th>...</th>\n      <td>...</td>\n      <td>...</td>\n      <td>...</td>\n      <td>...</td>\n      <td>...</td>\n      <td>...</td>\n      <td>...</td>\n      <td>...</td>\n      <td>...</td>\n    </tr>\n    <tr>\n      <th>17878</th>\n      <td>90.148438</td>\n      <td>40.786044</td>\n      <td>0.457139</td>\n      <td>0.885516</td>\n      <td>5.354515</td>\n      <td>29.759511</td>\n      <td>6.102231</td>\n      <td>37.979520</td>\n      <td>0</td>\n    </tr>\n    <tr>\n      <th>17883</th>\n      <td>84.421875</td>\n      <td>41.775555</td>\n      <td>0.757467</td>\n      <td>1.107075</td>\n      <td>1.336120</td>\n      <td>12.026757</td>\n      <td>14.502863</td>\n      <td>258.119819</td>\n      <td>0</td>\n    </tr>\n    <tr>\n      <th>17888</th>\n      <td>98.726562</td>\n      <td>50.407823</td>\n      <td>0.565124</td>\n      <td>0.245231</td>\n      <td>0.570234</td>\n      <td>9.011285</td>\n      <td>22.018589</td>\n      <td>561.833787</td>\n      <td>0</td>\n    </tr>\n    <tr>\n      <th>17892</th>\n      <td>96.000000</td>\n      <td>44.193113</td>\n      <td>0.388674</td>\n      <td>0.281344</td>\n      <td>1.871237</td>\n      <td>15.833746</td>\n      <td>9.634927</td>\n      <td>104.821623</td>\n      <td>0</td>\n    </tr>\n    <tr>\n      <th>17897</th>\n      <td>57.062500</td>\n      <td>85.797340</td>\n      <td>1.406391</td>\n      <td>0.089520</td>\n      <td>188.306020</td>\n      <td>64.712562</td>\n      <td>-1.597527</td>\n      <td>1.429475</td>\n      <td>0</td>\n    </tr>\n  </tbody>\n</table>\n<p>4218 rows × 9 columns</p>\n</div>"
     },
     "execution_count": 13,
     "metadata": {},
     "output_type": "execute_result"
    }
   ],
   "source": [
    "df = df[10 <= df['MIP']]\n",
    "df = df[df['MIP'] <= 100]\n",
    "df"
   ],
   "metadata": {
    "collapsed": false,
    "ExecuteTime": {
     "end_time": "2023-12-31T09:36:27.425741200Z",
     "start_time": "2023-12-31T09:36:27.409706200Z"
    }
   },
   "id": "c886fdedc440efe1"
  },
  {
   "cell_type": "code",
   "execution_count": 15,
   "outputs": [
    {
     "data": {
      "text/plain": "77.053"
     },
     "execution_count": 15,
     "metadata": {},
     "output_type": "execute_result"
    }
   ],
   "source": [
    "np.round(df['MIP'].mean(), 3)"
   ],
   "metadata": {
    "collapsed": false,
    "ExecuteTime": {
     "end_time": "2023-12-31T09:36:50.487338400Z",
     "start_time": "2023-12-31T09:36:50.455311200Z"
    }
   },
   "id": "47aa29a59c7abbd1"
  },
  {
   "cell_type": "code",
   "execution_count": 16,
   "outputs": [
    {
     "data": {
      "text/plain": "10.008"
     },
     "execution_count": 16,
     "metadata": {},
     "output_type": "execute_result"
    }
   ],
   "source": [
    "np.round(df['MIP'].min(), 3)"
   ],
   "metadata": {
    "collapsed": false,
    "ExecuteTime": {
     "end_time": "2023-12-31T09:37:06.190654200Z",
     "start_time": "2023-12-31T09:37:06.150656Z"
    }
   },
   "id": "b12a7c0dbb7f7d0b"
  },
  {
   "cell_type": "code",
   "execution_count": 18,
   "outputs": [
    {
     "data": {
      "text/plain": "             MIP      STDIP      EKIP        SIP          MC       STDC  \\\n12785  92.804688  73.323775  0.470206  -1.040048   21.126254  40.828972   \n3210   84.132812  74.457556  0.694280  -0.965077   98.496656  50.698540   \n14467  96.070312  74.560083  0.703671  -0.960082   10.634615  35.096062   \n1236   74.632812  75.867161  0.834880  -0.838742   67.623746  81.199889   \n2876   99.281250  71.956469  0.765558  -0.827640  197.234114  63.758798   \n...          ...        ...       ...        ...         ...        ...   \n4559   12.117188  28.238001  7.525028  57.175232  123.622074  68.761628   \n11343  12.507812  27.597553  7.572577  58.294501   42.612876  59.377834   \n11589  10.320312  26.871201  7.875742  63.149537   38.887960  58.923800   \n10456  18.468750  24.791612  7.595097  65.385974   69.800167  75.244969   \n1834   11.140625  25.695250  8.069522  68.101622   75.832776  70.894822   \n\n            EKC         SC  TG  \n12785  1.837012   2.433000   0  \n3210   1.170048   0.858232   0  \n14467  3.711222  14.282259   1  \n1236   0.998825  -0.311267   0  \n2876  -1.876388   2.431297   0  \n...         ...        ...  ..  \n4559   0.047999  -0.562968   1  \n11343  1.565603   1.907165   1  \n11589  1.635320   2.225703   1  \n10456  0.894922  -0.118137   1  \n1834   0.781356  -0.152781   1  \n\n[4218 rows x 9 columns]",
      "text/html": "<div>\n<style scoped>\n    .dataframe tbody tr th:only-of-type {\n        vertical-align: middle;\n    }\n\n    .dataframe tbody tr th {\n        vertical-align: top;\n    }\n\n    .dataframe thead th {\n        text-align: right;\n    }\n</style>\n<table border=\"1\" class=\"dataframe\">\n  <thead>\n    <tr style=\"text-align: right;\">\n      <th></th>\n      <th>MIP</th>\n      <th>STDIP</th>\n      <th>EKIP</th>\n      <th>SIP</th>\n      <th>MC</th>\n      <th>STDC</th>\n      <th>EKC</th>\n      <th>SC</th>\n      <th>TG</th>\n    </tr>\n  </thead>\n  <tbody>\n    <tr>\n      <th>12785</th>\n      <td>92.804688</td>\n      <td>73.323775</td>\n      <td>0.470206</td>\n      <td>-1.040048</td>\n      <td>21.126254</td>\n      <td>40.828972</td>\n      <td>1.837012</td>\n      <td>2.433000</td>\n      <td>0</td>\n    </tr>\n    <tr>\n      <th>3210</th>\n      <td>84.132812</td>\n      <td>74.457556</td>\n      <td>0.694280</td>\n      <td>-0.965077</td>\n      <td>98.496656</td>\n      <td>50.698540</td>\n      <td>1.170048</td>\n      <td>0.858232</td>\n      <td>0</td>\n    </tr>\n    <tr>\n      <th>14467</th>\n      <td>96.070312</td>\n      <td>74.560083</td>\n      <td>0.703671</td>\n      <td>-0.960082</td>\n      <td>10.634615</td>\n      <td>35.096062</td>\n      <td>3.711222</td>\n      <td>14.282259</td>\n      <td>1</td>\n    </tr>\n    <tr>\n      <th>1236</th>\n      <td>74.632812</td>\n      <td>75.867161</td>\n      <td>0.834880</td>\n      <td>-0.838742</td>\n      <td>67.623746</td>\n      <td>81.199889</td>\n      <td>0.998825</td>\n      <td>-0.311267</td>\n      <td>0</td>\n    </tr>\n    <tr>\n      <th>2876</th>\n      <td>99.281250</td>\n      <td>71.956469</td>\n      <td>0.765558</td>\n      <td>-0.827640</td>\n      <td>197.234114</td>\n      <td>63.758798</td>\n      <td>-1.876388</td>\n      <td>2.431297</td>\n      <td>0</td>\n    </tr>\n    <tr>\n      <th>...</th>\n      <td>...</td>\n      <td>...</td>\n      <td>...</td>\n      <td>...</td>\n      <td>...</td>\n      <td>...</td>\n      <td>...</td>\n      <td>...</td>\n      <td>...</td>\n    </tr>\n    <tr>\n      <th>4559</th>\n      <td>12.117188</td>\n      <td>28.238001</td>\n      <td>7.525028</td>\n      <td>57.175232</td>\n      <td>123.622074</td>\n      <td>68.761628</td>\n      <td>0.047999</td>\n      <td>-0.562968</td>\n      <td>1</td>\n    </tr>\n    <tr>\n      <th>11343</th>\n      <td>12.507812</td>\n      <td>27.597553</td>\n      <td>7.572577</td>\n      <td>58.294501</td>\n      <td>42.612876</td>\n      <td>59.377834</td>\n      <td>1.565603</td>\n      <td>1.907165</td>\n      <td>1</td>\n    </tr>\n    <tr>\n      <th>11589</th>\n      <td>10.320312</td>\n      <td>26.871201</td>\n      <td>7.875742</td>\n      <td>63.149537</td>\n      <td>38.887960</td>\n      <td>58.923800</td>\n      <td>1.635320</td>\n      <td>2.225703</td>\n      <td>1</td>\n    </tr>\n    <tr>\n      <th>10456</th>\n      <td>18.468750</td>\n      <td>24.791612</td>\n      <td>7.595097</td>\n      <td>65.385974</td>\n      <td>69.800167</td>\n      <td>75.244969</td>\n      <td>0.894922</td>\n      <td>-0.118137</td>\n      <td>1</td>\n    </tr>\n    <tr>\n      <th>1834</th>\n      <td>11.140625</td>\n      <td>25.695250</td>\n      <td>8.069522</td>\n      <td>68.101622</td>\n      <td>75.832776</td>\n      <td>70.894822</td>\n      <td>0.781356</td>\n      <td>-0.152781</td>\n      <td>1</td>\n    </tr>\n  </tbody>\n</table>\n<p>4218 rows × 9 columns</p>\n</div>"
     },
     "execution_count": 18,
     "metadata": {},
     "output_type": "execute_result"
    }
   ],
   "source": [
    "df = df.sort_values(by='SIP', ascending=True)\n",
    "df"
   ],
   "metadata": {
    "collapsed": false,
    "ExecuteTime": {
     "end_time": "2023-12-31T09:40:09.611014900Z",
     "start_time": "2023-12-31T09:40:09.583014100Z"
    }
   },
   "id": "cf6eac1bd6532162"
  },
  {
   "cell_type": "code",
   "execution_count": 19,
   "outputs": [],
   "source": [
    "from sklearn.model_selection import train_test_split\n",
    "\n",
    "X, Y = df.drop('TG', axis=1), df['TG']\n",
    "\n",
    "X_train, X_test, Y_train, Y_test = train_test_split(X, Y, test_size=0.2, random_state=33, stratify=df['TG'])"
   ],
   "metadata": {
    "collapsed": false,
    "ExecuteTime": {
     "end_time": "2023-12-31T09:41:44.762354800Z",
     "start_time": "2023-12-31T09:41:44.720355600Z"
    }
   },
   "id": "64aa2e880cc577a"
  },
  {
   "cell_type": "code",
   "execution_count": 21,
   "outputs": [
    {
     "data": {
      "text/plain": "109.655"
     },
     "execution_count": 21,
     "metadata": {},
     "output_type": "execute_result"
    }
   ],
   "source": [
    "np.round(X_train['STDC'].max(), 3)"
   ],
   "metadata": {
    "collapsed": false,
    "ExecuteTime": {
     "end_time": "2023-12-31T09:42:10.472231100Z",
     "start_time": "2023-12-31T09:42:10.451233400Z"
    }
   },
   "id": "f31779fc018ddb1d"
  },
  {
   "cell_type": "code",
   "execution_count": 22,
   "outputs": [],
   "source": [
    "from sklearn.preprocessing import MinMaxScaler\n",
    "\n",
    "scaler = MinMaxScaler()\n",
    "scaler.fit(X_train)\n",
    "\n",
    "X_train[:] = scaler.transform(X_train)\n",
    "X_test[:] = scaler.transform(X_test)"
   ],
   "metadata": {
    "collapsed": false,
    "ExecuteTime": {
     "end_time": "2023-12-31T09:43:54.011636400Z",
     "start_time": "2023-12-31T09:43:53.972653500Z"
    }
   },
   "id": "95ee62d022894177"
  },
  {
   "cell_type": "code",
   "execution_count": 23,
   "outputs": [
    {
     "data": {
      "text/plain": "0.256"
     },
     "execution_count": 23,
     "metadata": {},
     "output_type": "execute_result"
    }
   ],
   "source": [
    "np.round(X_train['STDIP'].mean(), 3)"
   ],
   "metadata": {
    "collapsed": false,
    "ExecuteTime": {
     "end_time": "2023-12-31T09:44:13.107710100Z",
     "start_time": "2023-12-31T09:44:13.075687800Z"
    }
   },
   "id": "4e289c9a30e1f219"
  },
  {
   "cell_type": "code",
   "execution_count": 24,
   "outputs": [
    {
     "data": {
      "text/plain": "LogisticRegression()",
      "text/html": "<style>#sk-container-id-1 {color: black;}#sk-container-id-1 pre{padding: 0;}#sk-container-id-1 div.sk-toggleable {background-color: white;}#sk-container-id-1 label.sk-toggleable__label {cursor: pointer;display: block;width: 100%;margin-bottom: 0;padding: 0.3em;box-sizing: border-box;text-align: center;}#sk-container-id-1 label.sk-toggleable__label-arrow:before {content: \"▸\";float: left;margin-right: 0.25em;color: #696969;}#sk-container-id-1 label.sk-toggleable__label-arrow:hover:before {color: black;}#sk-container-id-1 div.sk-estimator:hover label.sk-toggleable__label-arrow:before {color: black;}#sk-container-id-1 div.sk-toggleable__content {max-height: 0;max-width: 0;overflow: hidden;text-align: left;background-color: #f0f8ff;}#sk-container-id-1 div.sk-toggleable__content pre {margin: 0.2em;color: black;border-radius: 0.25em;background-color: #f0f8ff;}#sk-container-id-1 input.sk-toggleable__control:checked~div.sk-toggleable__content {max-height: 200px;max-width: 100%;overflow: auto;}#sk-container-id-1 input.sk-toggleable__control:checked~label.sk-toggleable__label-arrow:before {content: \"▾\";}#sk-container-id-1 div.sk-estimator input.sk-toggleable__control:checked~label.sk-toggleable__label {background-color: #d4ebff;}#sk-container-id-1 div.sk-label input.sk-toggleable__control:checked~label.sk-toggleable__label {background-color: #d4ebff;}#sk-container-id-1 input.sk-hidden--visually {border: 0;clip: rect(1px 1px 1px 1px);clip: rect(1px, 1px, 1px, 1px);height: 1px;margin: -1px;overflow: hidden;padding: 0;position: absolute;width: 1px;}#sk-container-id-1 div.sk-estimator {font-family: monospace;background-color: #f0f8ff;border: 1px dotted black;border-radius: 0.25em;box-sizing: border-box;margin-bottom: 0.5em;}#sk-container-id-1 div.sk-estimator:hover {background-color: #d4ebff;}#sk-container-id-1 div.sk-parallel-item::after {content: \"\";width: 100%;border-bottom: 1px solid gray;flex-grow: 1;}#sk-container-id-1 div.sk-label:hover label.sk-toggleable__label {background-color: #d4ebff;}#sk-container-id-1 div.sk-serial::before {content: \"\";position: absolute;border-left: 1px solid gray;box-sizing: border-box;top: 0;bottom: 0;left: 50%;z-index: 0;}#sk-container-id-1 div.sk-serial {display: flex;flex-direction: column;align-items: center;background-color: white;padding-right: 0.2em;padding-left: 0.2em;position: relative;}#sk-container-id-1 div.sk-item {position: relative;z-index: 1;}#sk-container-id-1 div.sk-parallel {display: flex;align-items: stretch;justify-content: center;background-color: white;position: relative;}#sk-container-id-1 div.sk-item::before, #sk-container-id-1 div.sk-parallel-item::before {content: \"\";position: absolute;border-left: 1px solid gray;box-sizing: border-box;top: 0;bottom: 0;left: 50%;z-index: -1;}#sk-container-id-1 div.sk-parallel-item {display: flex;flex-direction: column;z-index: 1;position: relative;background-color: white;}#sk-container-id-1 div.sk-parallel-item:first-child::after {align-self: flex-end;width: 50%;}#sk-container-id-1 div.sk-parallel-item:last-child::after {align-self: flex-start;width: 50%;}#sk-container-id-1 div.sk-parallel-item:only-child::after {width: 0;}#sk-container-id-1 div.sk-dashed-wrapped {border: 1px dashed gray;margin: 0 0.4em 0.5em 0.4em;box-sizing: border-box;padding-bottom: 0.4em;background-color: white;}#sk-container-id-1 div.sk-label label {font-family: monospace;font-weight: bold;display: inline-block;line-height: 1.2em;}#sk-container-id-1 div.sk-label-container {text-align: center;}#sk-container-id-1 div.sk-container {/* jupyter's `normalize.less` sets `[hidden] { display: none; }` but bootstrap.min.css set `[hidden] { display: none !important; }` so we also need the `!important` here to be able to override the default hidden behavior on the sphinx rendered scikit-learn.org. See: https://github.com/scikit-learn/scikit-learn/issues/21755 */display: inline-block !important;position: relative;}#sk-container-id-1 div.sk-text-repr-fallback {display: none;}</style><div id=\"sk-container-id-1\" class=\"sk-top-container\"><div class=\"sk-text-repr-fallback\"><pre>LogisticRegression()</pre><b>In a Jupyter environment, please rerun this cell to show the HTML representation or trust the notebook. <br />On GitHub, the HTML representation is unable to render, please try loading this page with nbviewer.org.</b></div><div class=\"sk-container\" hidden><div class=\"sk-item\"><div class=\"sk-estimator sk-toggleable\"><input class=\"sk-toggleable__control sk-hidden--visually\" id=\"sk-estimator-id-1\" type=\"checkbox\" checked><label for=\"sk-estimator-id-1\" class=\"sk-toggleable__label sk-toggleable__label-arrow\">LogisticRegression</label><div class=\"sk-toggleable__content\"><pre>LogisticRegression()</pre></div></div></div></div></div>"
     },
     "execution_count": 24,
     "metadata": {},
     "output_type": "execute_result"
    }
   ],
   "source": [
    "regressor = LogisticRegression()\n",
    "regressor.fit(X_train, Y_train)"
   ],
   "metadata": {
    "collapsed": false,
    "ExecuteTime": {
     "end_time": "2023-12-31T09:45:12.716520Z",
     "start_time": "2023-12-31T09:45:12.661522300Z"
    }
   },
   "id": "c2f21d7c6a89d6d4"
  },
  {
   "cell_type": "code",
   "execution_count": 27,
   "outputs": [],
   "source": [
    "from sklearn.metrics import confusion_matrix\n",
    "\n",
    "Y_predicted = regressor.predict(X_test)\n",
    "\n",
    "tn, fp, fn, tp = confusion_matrix(Y_test, Y_predicted).ravel()"
   ],
   "metadata": {
    "collapsed": false,
    "ExecuteTime": {
     "end_time": "2023-12-31T09:47:22.963101500Z",
     "start_time": "2023-12-31T09:47:22.946104Z"
    }
   },
   "id": "cb0e2dbd02f6fe81"
  },
  {
   "cell_type": "code",
   "execution_count": 28,
   "outputs": [
    {
     "data": {
      "text/plain": "246"
     },
     "execution_count": 28,
     "metadata": {},
     "output_type": "execute_result"
    }
   ],
   "source": [
    "tp"
   ],
   "metadata": {
    "collapsed": false,
    "ExecuteTime": {
     "end_time": "2023-12-31T09:47:36.040217900Z",
     "start_time": "2023-12-31T09:47:36.008128300Z"
    }
   },
   "id": "46cc5c9b9fc5e051"
  },
  {
   "cell_type": "code",
   "execution_count": 30,
   "outputs": [
    {
     "data": {
      "text/plain": "0.893"
     },
     "execution_count": 30,
     "metadata": {},
     "output_type": "execute_result"
    }
   ],
   "source": [
    "from sklearn.metrics import f1_score\n",
    "\n",
    "np.round(f1_score(Y_predicted, Y_test), 3)"
   ],
   "metadata": {
    "collapsed": false,
    "ExecuteTime": {
     "end_time": "2023-12-31T09:48:02.504326700Z",
     "start_time": "2023-12-31T09:48:02.487327200Z"
    }
   },
   "id": "4f2af1928144000c"
  },
  {
   "cell_type": "code",
   "execution_count": 31,
   "outputs": [
    {
     "data": {
      "text/plain": "KNeighborsClassifier(n_neighbors=3)",
      "text/html": "<style>#sk-container-id-2 {color: black;}#sk-container-id-2 pre{padding: 0;}#sk-container-id-2 div.sk-toggleable {background-color: white;}#sk-container-id-2 label.sk-toggleable__label {cursor: pointer;display: block;width: 100%;margin-bottom: 0;padding: 0.3em;box-sizing: border-box;text-align: center;}#sk-container-id-2 label.sk-toggleable__label-arrow:before {content: \"▸\";float: left;margin-right: 0.25em;color: #696969;}#sk-container-id-2 label.sk-toggleable__label-arrow:hover:before {color: black;}#sk-container-id-2 div.sk-estimator:hover label.sk-toggleable__label-arrow:before {color: black;}#sk-container-id-2 div.sk-toggleable__content {max-height: 0;max-width: 0;overflow: hidden;text-align: left;background-color: #f0f8ff;}#sk-container-id-2 div.sk-toggleable__content pre {margin: 0.2em;color: black;border-radius: 0.25em;background-color: #f0f8ff;}#sk-container-id-2 input.sk-toggleable__control:checked~div.sk-toggleable__content {max-height: 200px;max-width: 100%;overflow: auto;}#sk-container-id-2 input.sk-toggleable__control:checked~label.sk-toggleable__label-arrow:before {content: \"▾\";}#sk-container-id-2 div.sk-estimator input.sk-toggleable__control:checked~label.sk-toggleable__label {background-color: #d4ebff;}#sk-container-id-2 div.sk-label input.sk-toggleable__control:checked~label.sk-toggleable__label {background-color: #d4ebff;}#sk-container-id-2 input.sk-hidden--visually {border: 0;clip: rect(1px 1px 1px 1px);clip: rect(1px, 1px, 1px, 1px);height: 1px;margin: -1px;overflow: hidden;padding: 0;position: absolute;width: 1px;}#sk-container-id-2 div.sk-estimator {font-family: monospace;background-color: #f0f8ff;border: 1px dotted black;border-radius: 0.25em;box-sizing: border-box;margin-bottom: 0.5em;}#sk-container-id-2 div.sk-estimator:hover {background-color: #d4ebff;}#sk-container-id-2 div.sk-parallel-item::after {content: \"\";width: 100%;border-bottom: 1px solid gray;flex-grow: 1;}#sk-container-id-2 div.sk-label:hover label.sk-toggleable__label {background-color: #d4ebff;}#sk-container-id-2 div.sk-serial::before {content: \"\";position: absolute;border-left: 1px solid gray;box-sizing: border-box;top: 0;bottom: 0;left: 50%;z-index: 0;}#sk-container-id-2 div.sk-serial {display: flex;flex-direction: column;align-items: center;background-color: white;padding-right: 0.2em;padding-left: 0.2em;position: relative;}#sk-container-id-2 div.sk-item {position: relative;z-index: 1;}#sk-container-id-2 div.sk-parallel {display: flex;align-items: stretch;justify-content: center;background-color: white;position: relative;}#sk-container-id-2 div.sk-item::before, #sk-container-id-2 div.sk-parallel-item::before {content: \"\";position: absolute;border-left: 1px solid gray;box-sizing: border-box;top: 0;bottom: 0;left: 50%;z-index: -1;}#sk-container-id-2 div.sk-parallel-item {display: flex;flex-direction: column;z-index: 1;position: relative;background-color: white;}#sk-container-id-2 div.sk-parallel-item:first-child::after {align-self: flex-end;width: 50%;}#sk-container-id-2 div.sk-parallel-item:last-child::after {align-self: flex-start;width: 50%;}#sk-container-id-2 div.sk-parallel-item:only-child::after {width: 0;}#sk-container-id-2 div.sk-dashed-wrapped {border: 1px dashed gray;margin: 0 0.4em 0.5em 0.4em;box-sizing: border-box;padding-bottom: 0.4em;background-color: white;}#sk-container-id-2 div.sk-label label {font-family: monospace;font-weight: bold;display: inline-block;line-height: 1.2em;}#sk-container-id-2 div.sk-label-container {text-align: center;}#sk-container-id-2 div.sk-container {/* jupyter's `normalize.less` sets `[hidden] { display: none; }` but bootstrap.min.css set `[hidden] { display: none !important; }` so we also need the `!important` here to be able to override the default hidden behavior on the sphinx rendered scikit-learn.org. See: https://github.com/scikit-learn/scikit-learn/issues/21755 */display: inline-block !important;position: relative;}#sk-container-id-2 div.sk-text-repr-fallback {display: none;}</style><div id=\"sk-container-id-2\" class=\"sk-top-container\"><div class=\"sk-text-repr-fallback\"><pre>KNeighborsClassifier(n_neighbors=3)</pre><b>In a Jupyter environment, please rerun this cell to show the HTML representation or trust the notebook. <br />On GitHub, the HTML representation is unable to render, please try loading this page with nbviewer.org.</b></div><div class=\"sk-container\" hidden><div class=\"sk-item\"><div class=\"sk-estimator sk-toggleable\"><input class=\"sk-toggleable__control sk-hidden--visually\" id=\"sk-estimator-id-2\" type=\"checkbox\" checked><label for=\"sk-estimator-id-2\" class=\"sk-toggleable__label sk-toggleable__label-arrow\">KNeighborsClassifier</label><div class=\"sk-toggleable__content\"><pre>KNeighborsClassifier(n_neighbors=3)</pre></div></div></div></div></div>"
     },
     "execution_count": 31,
     "metadata": {},
     "output_type": "execute_result"
    }
   ],
   "source": [
    "from sklearn.neighbors import KNeighborsClassifier\n",
    "\n",
    "classifier = KNeighborsClassifier(n_neighbors=3)\n",
    "classifier.fit(X_train, Y_train)"
   ],
   "metadata": {
    "collapsed": false,
    "ExecuteTime": {
     "end_time": "2023-12-31T09:48:50.412680100Z",
     "start_time": "2023-12-31T09:48:50.340653300Z"
    }
   },
   "id": "82142ef2d97d641a"
  },
  {
   "cell_type": "code",
   "execution_count": 32,
   "outputs": [
    {
     "data": {
      "text/plain": "258"
     },
     "execution_count": 32,
     "metadata": {},
     "output_type": "execute_result"
    }
   ],
   "source": [
    "Y_predicted = classifier.predict(X_test)\n",
    "\n",
    "tn, fp, fn, tp = confusion_matrix(Y_test, Y_predicted).ravel()\n",
    "tp"
   ],
   "metadata": {
    "collapsed": false,
    "ExecuteTime": {
     "end_time": "2023-12-31T09:49:20.019958900Z",
     "start_time": "2023-12-31T09:49:19.957958400Z"
    }
   },
   "id": "f4177a6a18176237"
  },
  {
   "cell_type": "code",
   "execution_count": 33,
   "outputs": [
    {
     "data": {
      "text/plain": "0.918"
     },
     "execution_count": 33,
     "metadata": {},
     "output_type": "execute_result"
    }
   ],
   "source": [
    "np.round(f1_score(Y_predicted, Y_test), 3)"
   ],
   "metadata": {
    "collapsed": false,
    "ExecuteTime": {
     "end_time": "2023-12-31T09:49:29.551084900Z",
     "start_time": "2023-12-31T09:49:29.510086200Z"
    }
   },
   "id": "e16aa190975cb8e5"
  },
  {
   "cell_type": "markdown",
   "source": [
    "# Task 3"
   ],
   "metadata": {
    "collapsed": false
   },
   "id": "817aad2b514e4ea"
  },
  {
   "cell_type": "code",
   "execution_count": 76,
   "outputs": [],
   "source": [
    "df_train = pd.read_csv('data/exam/MNIST_train.csv')\n",
    "df_test = pd.read_csv('data/exam/MNIST_test.csv')"
   ],
   "metadata": {
    "collapsed": false,
    "ExecuteTime": {
     "end_time": "2023-12-31T10:10:03.765198500Z",
     "start_time": "2023-12-31T10:10:00.407427300Z"
    }
   },
   "id": "a14ceaf966484db1"
  },
  {
   "cell_type": "code",
   "execution_count": 77,
   "outputs": [],
   "source": [
    "df_train = df_train[df_train['label'] <= 1]\n",
    "df_test = df_test[df_test['label'] <= 1]\n",
    "df_train.reset_index(drop=True, inplace=True)\n",
    "df_test.reset_index(drop=True, inplace=True)"
   ],
   "metadata": {
    "collapsed": false,
    "ExecuteTime": {
     "end_time": "2023-12-31T10:10:03.859198700Z",
     "start_time": "2023-12-31T10:10:03.768197600Z"
    }
   },
   "id": "898cd0908d4a1e09"
  },
  {
   "cell_type": "code",
   "execution_count": 78,
   "outputs": [
    {
     "data": {
      "text/plain": "PCA(svd_solver='full')",
      "text/html": "<style>#sk-container-id-7 {color: black;}#sk-container-id-7 pre{padding: 0;}#sk-container-id-7 div.sk-toggleable {background-color: white;}#sk-container-id-7 label.sk-toggleable__label {cursor: pointer;display: block;width: 100%;margin-bottom: 0;padding: 0.3em;box-sizing: border-box;text-align: center;}#sk-container-id-7 label.sk-toggleable__label-arrow:before {content: \"▸\";float: left;margin-right: 0.25em;color: #696969;}#sk-container-id-7 label.sk-toggleable__label-arrow:hover:before {color: black;}#sk-container-id-7 div.sk-estimator:hover label.sk-toggleable__label-arrow:before {color: black;}#sk-container-id-7 div.sk-toggleable__content {max-height: 0;max-width: 0;overflow: hidden;text-align: left;background-color: #f0f8ff;}#sk-container-id-7 div.sk-toggleable__content pre {margin: 0.2em;color: black;border-radius: 0.25em;background-color: #f0f8ff;}#sk-container-id-7 input.sk-toggleable__control:checked~div.sk-toggleable__content {max-height: 200px;max-width: 100%;overflow: auto;}#sk-container-id-7 input.sk-toggleable__control:checked~label.sk-toggleable__label-arrow:before {content: \"▾\";}#sk-container-id-7 div.sk-estimator input.sk-toggleable__control:checked~label.sk-toggleable__label {background-color: #d4ebff;}#sk-container-id-7 div.sk-label input.sk-toggleable__control:checked~label.sk-toggleable__label {background-color: #d4ebff;}#sk-container-id-7 input.sk-hidden--visually {border: 0;clip: rect(1px 1px 1px 1px);clip: rect(1px, 1px, 1px, 1px);height: 1px;margin: -1px;overflow: hidden;padding: 0;position: absolute;width: 1px;}#sk-container-id-7 div.sk-estimator {font-family: monospace;background-color: #f0f8ff;border: 1px dotted black;border-radius: 0.25em;box-sizing: border-box;margin-bottom: 0.5em;}#sk-container-id-7 div.sk-estimator:hover {background-color: #d4ebff;}#sk-container-id-7 div.sk-parallel-item::after {content: \"\";width: 100%;border-bottom: 1px solid gray;flex-grow: 1;}#sk-container-id-7 div.sk-label:hover label.sk-toggleable__label {background-color: #d4ebff;}#sk-container-id-7 div.sk-serial::before {content: \"\";position: absolute;border-left: 1px solid gray;box-sizing: border-box;top: 0;bottom: 0;left: 50%;z-index: 0;}#sk-container-id-7 div.sk-serial {display: flex;flex-direction: column;align-items: center;background-color: white;padding-right: 0.2em;padding-left: 0.2em;position: relative;}#sk-container-id-7 div.sk-item {position: relative;z-index: 1;}#sk-container-id-7 div.sk-parallel {display: flex;align-items: stretch;justify-content: center;background-color: white;position: relative;}#sk-container-id-7 div.sk-item::before, #sk-container-id-7 div.sk-parallel-item::before {content: \"\";position: absolute;border-left: 1px solid gray;box-sizing: border-box;top: 0;bottom: 0;left: 50%;z-index: -1;}#sk-container-id-7 div.sk-parallel-item {display: flex;flex-direction: column;z-index: 1;position: relative;background-color: white;}#sk-container-id-7 div.sk-parallel-item:first-child::after {align-self: flex-end;width: 50%;}#sk-container-id-7 div.sk-parallel-item:last-child::after {align-self: flex-start;width: 50%;}#sk-container-id-7 div.sk-parallel-item:only-child::after {width: 0;}#sk-container-id-7 div.sk-dashed-wrapped {border: 1px dashed gray;margin: 0 0.4em 0.5em 0.4em;box-sizing: border-box;padding-bottom: 0.4em;background-color: white;}#sk-container-id-7 div.sk-label label {font-family: monospace;font-weight: bold;display: inline-block;line-height: 1.2em;}#sk-container-id-7 div.sk-label-container {text-align: center;}#sk-container-id-7 div.sk-container {/* jupyter's `normalize.less` sets `[hidden] { display: none; }` but bootstrap.min.css set `[hidden] { display: none !important; }` so we also need the `!important` here to be able to override the default hidden behavior on the sphinx rendered scikit-learn.org. See: https://github.com/scikit-learn/scikit-learn/issues/21755 */display: inline-block !important;position: relative;}#sk-container-id-7 div.sk-text-repr-fallback {display: none;}</style><div id=\"sk-container-id-7\" class=\"sk-top-container\"><div class=\"sk-text-repr-fallback\"><pre>PCA(svd_solver=&#x27;full&#x27;)</pre><b>In a Jupyter environment, please rerun this cell to show the HTML representation or trust the notebook. <br />On GitHub, the HTML representation is unable to render, please try loading this page with nbviewer.org.</b></div><div class=\"sk-container\" hidden><div class=\"sk-item\"><div class=\"sk-estimator sk-toggleable\"><input class=\"sk-toggleable__control sk-hidden--visually\" id=\"sk-estimator-id-7\" type=\"checkbox\" checked><label for=\"sk-estimator-id-7\" class=\"sk-toggleable__label sk-toggleable__label-arrow\">PCA</label><div class=\"sk-toggleable__content\"><pre>PCA(svd_solver=&#x27;full&#x27;)</pre></div></div></div></div></div>"
     },
     "execution_count": 78,
     "metadata": {},
     "output_type": "execute_result"
    }
   ],
   "source": [
    "from sklearn.decomposition import PCA\n",
    "\n",
    "pca = PCA(svd_solver='full')\n",
    "pca.fit(df_train.drop('label', axis=1))"
   ],
   "metadata": {
    "collapsed": false,
    "ExecuteTime": {
     "end_time": "2023-12-31T10:10:05.159198100Z",
     "start_time": "2023-12-31T10:10:03.860198400Z"
    }
   },
   "id": "c8c410c9f162af23"
  },
  {
   "cell_type": "code",
   "execution_count": 79,
   "outputs": [
    {
     "data": {
      "text/plain": "array([0.3208045 , 0.4114056 , 0.49224051, 0.54775656, 0.58681502,\n       0.62070724, 0.64416529, 0.6648919 , 0.68276004, 0.69834481,\n       0.71292303, 0.72610335, 0.73762678, 0.74879593, 0.75956815,\n       0.76903744, 0.77744592, 0.78530183, 0.79276854, 0.79990697,\n       0.80653059, 0.81255324, 0.81831073, 0.82401927, 0.82950018,\n       0.83471163, 0.83958205, 0.84388394, 0.84814187, 0.85182862,\n       0.85550082, 0.85891454, 0.86223033, 0.86547583, 0.86856898,\n       0.87156692, 0.8744694 , 0.877297  , 0.88004669, 0.8826453 ,\n       0.88514178, 0.88750935, 0.88973133, 0.89188629, 0.89393845,\n       0.89592703, 0.89789158, 0.8997974 , 0.90163999, 0.90339328,\n       0.90511917, 0.90672774, 0.9083056 , 0.90982498, 0.91129938,\n       0.91273946, 0.91414181, 0.91552096, 0.91688324, 0.91821506,\n       0.91950698, 0.92075712, 0.92198081, 0.9231721 , 0.92429753,\n       0.92541265, 0.92647538, 0.92751576, 0.92854721, 0.929565  ,\n       0.93057165, 0.93152807, 0.93245385, 0.93336186, 0.93424744,\n       0.93510654, 0.9359561 , 0.93678242, 0.93760168, 0.93841742,\n       0.93921628, 0.94000252, 0.94077477, 0.94152691, 0.94226773,\n       0.94298178, 0.94368615, 0.94438468, 0.94507391, 0.94574879,\n       0.94641622, 0.94707753, 0.94773133, 0.94838057, 0.9489996 ,\n       0.94961073, 0.95021641, 0.95081475, 0.95140605, 0.951983  ,\n       0.95255282, 0.95310878, 0.95365532, 0.95419793, 0.95472727,\n       0.9552512 , 0.95576528, 0.95626575, 0.95675863, 0.95724614,\n       0.95772162, 0.95819517, 0.95866436, 0.95912571, 0.95958022,\n       0.9600324 , 0.96047832, 0.96091849, 0.96135512, 0.96178217,\n       0.96220129, 0.96261195, 0.96301771, 0.96342058, 0.96381198,\n       0.96420211, 0.9645918 , 0.96497561, 0.96535707, 0.96573144,\n       0.96610355, 0.96647206, 0.96683163, 0.9671844 , 0.96753545,\n       0.96788272, 0.96822398, 0.96856347, 0.96890144, 0.96923624,\n       0.96956597, 0.96989214, 0.97021148, 0.97052745, 0.97083762,\n       0.97114362, 0.97144589, 0.9717476 , 0.97204389, 0.97233811,\n       0.97262762, 0.97291542, 0.97320171, 0.97348661, 0.97376568,\n       0.97404111, 0.97430983, 0.97457705, 0.97483994, 0.97509971,\n       0.97535818, 0.97561496, 0.97586906, 0.97612236, 0.97637356,\n       0.97661776, 0.9768607 , 0.97710345, 0.97734199, 0.97758034,\n       0.97781465, 0.97804658, 0.97827575, 0.97850398, 0.97872889,\n       0.97895206, 0.97917155, 0.97938991, 0.97960593, 0.97982109,\n       0.98003205, 0.98024178, 0.98045   , 0.98065647, 0.98086065,\n       0.98106053, 0.98125957, 0.98145719, 0.98165148, 0.98184349,\n       0.98203089, 0.98221784, 0.98240358, 0.98258808, 0.98277074,\n       0.98295148, 0.98313159, 0.98330946, 0.98348607, 0.983662  ,\n       0.98383655, 0.98400946, 0.98418135, 0.98434851, 0.98451484,\n       0.98468008, 0.98484286, 0.98500442, 0.98516556, 0.98532515,\n       0.9854815 , 0.98563719, 0.98579032, 0.98594304, 0.98609504,\n       0.98624405, 0.98639281, 0.9865395 , 0.98668484, 0.98682923,\n       0.98697236, 0.98711206, 0.98725134, 0.98739005, 0.98752765,\n       0.98766449, 0.98779985, 0.98793456, 0.98806752, 0.98819848,\n       0.98832885, 0.98845796, 0.98858592, 0.9887127 , 0.98883786,\n       0.9889616 , 0.98908382, 0.9892055 , 0.98932547, 0.98944389,\n       0.98956105, 0.98967811, 0.98979371, 0.98990913, 0.99002374,\n       0.99013741, 0.99024979, 0.99036124, 0.99047102, 0.99058034,\n       0.99068864, 0.99079594, 0.99090277, 0.99100925, 0.99111406,\n       0.99121855, 0.99132166, 0.99142262, 0.9915227 , 0.99162258,\n       0.99172218, 0.99182097, 0.99191944, 0.99201576, 0.99211167,\n       0.9922071 , 0.99230166, 0.99239514, 0.99248784, 0.99258028,\n       0.99267176, 0.99276277, 0.99285284, 0.99294189, 0.99302995,\n       0.99311743, 0.99320436, 0.9932896 , 0.9933743 , 0.99345832,\n       0.99354196, 0.99362499, 0.9937068 , 0.99378831, 0.99386964,\n       0.99395013, 0.99402939, 0.99410823, 0.99418671, 0.99426476,\n       0.99434188, 0.9944176 , 0.9944924 , 0.99456696, 0.99464042,\n       0.99471305, 0.99478545, 0.99485726, 0.99492805, 0.99499839,\n       0.99506825, 0.99513782, 0.99520675, 0.99527502, 0.99534263,\n       0.99540973, 0.99547633, 0.99554254, 0.99560817, 0.99567267,\n       0.99573664, 0.99580022, 0.99586325, 0.99592503, 0.99598625,\n       0.9960467 , 0.99610654, 0.996166  , 0.99622506, 0.99628342,\n       0.99634141, 0.99639921, 0.99645675, 0.99651381, 0.99657041,\n       0.9966267 , 0.99668177, 0.99673645, 0.99679068, 0.99684423,\n       0.99689701, 0.99694931, 0.99700125, 0.9970531 , 0.99710385,\n       0.99715412, 0.99720408, 0.99725386, 0.99730312, 0.99735134,\n       0.99739937, 0.99744706, 0.99749406, 0.99754032, 0.99758613,\n       0.99763089, 0.99767528, 0.99771913, 0.99776287, 0.99780621,\n       0.99784898, 0.99789173, 0.99793307, 0.99797394, 0.99801419,\n       0.99805416, 0.99809386, 0.99813273, 0.9981714 , 0.99820971,\n       0.9982476 , 0.9982851 , 0.99832217, 0.99835879, 0.99839529,\n       0.99843156, 0.99846703, 0.99850177, 0.99853608, 0.99857019,\n       0.99860389, 0.99863687, 0.99866944, 0.9987016 , 0.99873337,\n       0.99876463, 0.99879467, 0.99882456, 0.99885407, 0.99888262,\n       0.99891078, 0.99893859, 0.99896592, 0.99899318, 0.99901999,\n       0.99904654, 0.99907217, 0.99909757, 0.99912271, 0.99914742,\n       0.99917185, 0.99919617, 0.99922029, 0.99924315, 0.99926565,\n       0.99928779, 0.99930922, 0.99933   , 0.99935037, 0.9993699 ,\n       0.99938887, 0.99940718, 0.99942525, 0.999443  , 0.9994601 ,\n       0.99947701, 0.9994929 , 0.99950853, 0.99952383, 0.9995389 ,\n       0.99955367, 0.99956716, 0.9995805 , 0.99959363, 0.99960651,\n       0.99961931, 0.99963154, 0.99964349, 0.99965431, 0.99966511,\n       0.9996757 , 0.9996862 , 0.99969655, 0.99970667, 0.99971649,\n       0.99972584, 0.99973471, 0.99974337, 0.99975181, 0.99975989,\n       0.99976795, 0.99977584, 0.99978338, 0.99979054, 0.99979764,\n       0.99980442, 0.99981081, 0.99981699, 0.99982306, 0.99982884,\n       0.99983453, 0.99984015, 0.9998455 , 0.99985056, 0.99985548,\n       0.99986015, 0.99986476, 0.99986918, 0.99987356, 0.99987779,\n       0.99988174, 0.99988566, 0.99988943, 0.99989318, 0.99989689,\n       0.99990044, 0.99990399, 0.99990741, 0.9999107 , 0.99991392,\n       0.99991699, 0.99992   , 0.99992293, 0.99992565, 0.99992834,\n       0.99993097, 0.99993349, 0.9999359 , 0.99993814, 0.99994031,\n       0.99994248, 0.9999446 , 0.99994669, 0.99994857, 0.9999504 ,\n       0.99995218, 0.99995394, 0.9999556 , 0.99995722, 0.99995882,\n       0.99996031, 0.99996177, 0.99996321, 0.99996463, 0.999966  ,\n       0.99996729, 0.99996853, 0.99996976, 0.99997093, 0.99997206,\n       0.99997319, 0.99997429, 0.99997532, 0.99997633, 0.99997729,\n       0.99997825, 0.99997915, 0.99998002, 0.99998088, 0.9999817 ,\n       0.99998251, 0.99998327, 0.999984  , 0.9999847 , 0.99998539,\n       0.99998607, 0.99998667, 0.99998725, 0.99998783, 0.99998839,\n       0.99998894, 0.99998948, 0.99999   , 0.99999051, 0.999991  ,\n       0.99999148, 0.99999194, 0.99999237, 0.99999275, 0.99999312,\n       0.99999348, 0.99999381, 0.99999413, 0.99999444, 0.99999474,\n       0.99999503, 0.99999532, 0.9999956 , 0.99999587, 0.99999613,\n       0.9999964 , 0.9999966 , 0.99999679, 0.99999697, 0.99999715,\n       0.99999732, 0.99999748, 0.99999764, 0.99999779, 0.99999795,\n       0.9999981 , 0.99999824, 0.99999837, 0.9999985 , 0.99999862,\n       0.99999872, 0.99999882, 0.99999891, 0.999999  , 0.99999908,\n       0.99999916, 0.99999924, 0.9999993 , 0.99999937, 0.99999944,\n       0.9999995 , 0.99999957, 0.99999963, 0.99999968, 0.99999973,\n       0.99999976, 0.99999979, 0.99999982, 0.99999985, 0.99999987,\n       0.99999989, 0.99999991, 0.99999993, 0.99999994, 0.99999996,\n       0.99999997, 0.99999998, 0.99999999, 0.99999999, 1.        ,\n       1.        , 1.        , 1.        , 1.        , 1.        ,\n       1.        , 1.        , 1.        , 1.        , 1.        ,\n       1.        , 1.        , 1.        , 1.        , 1.        ,\n       1.        , 1.        , 1.        , 1.        , 1.        ,\n       1.        , 1.        , 1.        , 1.        , 1.        ,\n       1.        , 1.        , 1.        , 1.        , 1.        ,\n       1.        , 1.        , 1.        , 1.        , 1.        ,\n       1.        , 1.        , 1.        , 1.        , 1.        ,\n       1.        , 1.        , 1.        , 1.        , 1.        ,\n       1.        , 1.        , 1.        , 1.        , 1.        ,\n       1.        , 1.        , 1.        , 1.        , 1.        ,\n       1.        , 1.        , 1.        , 1.        , 1.        ,\n       1.        , 1.        , 1.        , 1.        , 1.        ,\n       1.        , 1.        , 1.        , 1.        , 1.        ,\n       1.        , 1.        , 1.        , 1.        , 1.        ,\n       1.        , 1.        , 1.        , 1.        , 1.        ,\n       1.        , 1.        , 1.        , 1.        , 1.        ,\n       1.        , 1.        , 1.        , 1.        , 1.        ,\n       1.        , 1.        , 1.        , 1.        , 1.        ,\n       1.        , 1.        , 1.        , 1.        , 1.        ,\n       1.        , 1.        , 1.        , 1.        , 1.        ,\n       1.        , 1.        , 1.        , 1.        , 1.        ,\n       1.        , 1.        , 1.        , 1.        , 1.        ,\n       1.        , 1.        , 1.        , 1.        , 1.        ,\n       1.        , 1.        , 1.        , 1.        , 1.        ,\n       1.        , 1.        , 1.        , 1.        , 1.        ,\n       1.        , 1.        , 1.        , 1.        , 1.        ,\n       1.        , 1.        , 1.        , 1.        , 1.        ,\n       1.        , 1.        , 1.        , 1.        , 1.        ,\n       1.        , 1.        , 1.        , 1.        , 1.        ,\n       1.        , 1.        , 1.        , 1.        , 1.        ,\n       1.        , 1.        , 1.        , 1.        , 1.        ,\n       1.        , 1.        , 1.        , 1.        , 1.        ,\n       1.        , 1.        , 1.        , 1.        , 1.        ,\n       1.        , 1.        , 1.        , 1.        , 1.        ,\n       1.        , 1.        , 1.        , 1.        , 1.        ,\n       1.        , 1.        , 1.        , 1.        , 1.        ,\n       1.        , 1.        , 1.        , 1.        , 1.        ,\n       1.        , 1.        , 1.        , 1.        , 1.        ,\n       1.        , 1.        , 1.        , 1.        , 1.        ,\n       1.        , 1.        , 1.        , 1.        , 1.        ,\n       1.        , 1.        , 1.        , 1.        ])"
     },
     "execution_count": 79,
     "metadata": {},
     "output_type": "execute_result"
    }
   ],
   "source": [
    "np.cumsum(pca.explained_variance_ratio_)"
   ],
   "metadata": {
    "collapsed": false,
    "ExecuteTime": {
     "end_time": "2023-12-31T10:10:05.191215300Z",
     "start_time": "2023-12-31T10:10:05.163200Z"
    }
   },
   "id": "680a021037f766c5"
  },
  {
   "cell_type": "code",
   "execution_count": 80,
   "outputs": [
    {
     "data": {
      "text/plain": "PCA(n_components=49, svd_solver='full')",
      "text/html": "<style>#sk-container-id-8 {color: black;}#sk-container-id-8 pre{padding: 0;}#sk-container-id-8 div.sk-toggleable {background-color: white;}#sk-container-id-8 label.sk-toggleable__label {cursor: pointer;display: block;width: 100%;margin-bottom: 0;padding: 0.3em;box-sizing: border-box;text-align: center;}#sk-container-id-8 label.sk-toggleable__label-arrow:before {content: \"▸\";float: left;margin-right: 0.25em;color: #696969;}#sk-container-id-8 label.sk-toggleable__label-arrow:hover:before {color: black;}#sk-container-id-8 div.sk-estimator:hover label.sk-toggleable__label-arrow:before {color: black;}#sk-container-id-8 div.sk-toggleable__content {max-height: 0;max-width: 0;overflow: hidden;text-align: left;background-color: #f0f8ff;}#sk-container-id-8 div.sk-toggleable__content pre {margin: 0.2em;color: black;border-radius: 0.25em;background-color: #f0f8ff;}#sk-container-id-8 input.sk-toggleable__control:checked~div.sk-toggleable__content {max-height: 200px;max-width: 100%;overflow: auto;}#sk-container-id-8 input.sk-toggleable__control:checked~label.sk-toggleable__label-arrow:before {content: \"▾\";}#sk-container-id-8 div.sk-estimator input.sk-toggleable__control:checked~label.sk-toggleable__label {background-color: #d4ebff;}#sk-container-id-8 div.sk-label input.sk-toggleable__control:checked~label.sk-toggleable__label {background-color: #d4ebff;}#sk-container-id-8 input.sk-hidden--visually {border: 0;clip: rect(1px 1px 1px 1px);clip: rect(1px, 1px, 1px, 1px);height: 1px;margin: -1px;overflow: hidden;padding: 0;position: absolute;width: 1px;}#sk-container-id-8 div.sk-estimator {font-family: monospace;background-color: #f0f8ff;border: 1px dotted black;border-radius: 0.25em;box-sizing: border-box;margin-bottom: 0.5em;}#sk-container-id-8 div.sk-estimator:hover {background-color: #d4ebff;}#sk-container-id-8 div.sk-parallel-item::after {content: \"\";width: 100%;border-bottom: 1px solid gray;flex-grow: 1;}#sk-container-id-8 div.sk-label:hover label.sk-toggleable__label {background-color: #d4ebff;}#sk-container-id-8 div.sk-serial::before {content: \"\";position: absolute;border-left: 1px solid gray;box-sizing: border-box;top: 0;bottom: 0;left: 50%;z-index: 0;}#sk-container-id-8 div.sk-serial {display: flex;flex-direction: column;align-items: center;background-color: white;padding-right: 0.2em;padding-left: 0.2em;position: relative;}#sk-container-id-8 div.sk-item {position: relative;z-index: 1;}#sk-container-id-8 div.sk-parallel {display: flex;align-items: stretch;justify-content: center;background-color: white;position: relative;}#sk-container-id-8 div.sk-item::before, #sk-container-id-8 div.sk-parallel-item::before {content: \"\";position: absolute;border-left: 1px solid gray;box-sizing: border-box;top: 0;bottom: 0;left: 50%;z-index: -1;}#sk-container-id-8 div.sk-parallel-item {display: flex;flex-direction: column;z-index: 1;position: relative;background-color: white;}#sk-container-id-8 div.sk-parallel-item:first-child::after {align-self: flex-end;width: 50%;}#sk-container-id-8 div.sk-parallel-item:last-child::after {align-self: flex-start;width: 50%;}#sk-container-id-8 div.sk-parallel-item:only-child::after {width: 0;}#sk-container-id-8 div.sk-dashed-wrapped {border: 1px dashed gray;margin: 0 0.4em 0.5em 0.4em;box-sizing: border-box;padding-bottom: 0.4em;background-color: white;}#sk-container-id-8 div.sk-label label {font-family: monospace;font-weight: bold;display: inline-block;line-height: 1.2em;}#sk-container-id-8 div.sk-label-container {text-align: center;}#sk-container-id-8 div.sk-container {/* jupyter's `normalize.less` sets `[hidden] { display: none; }` but bootstrap.min.css set `[hidden] { display: none !important; }` so we also need the `!important` here to be able to override the default hidden behavior on the sphinx rendered scikit-learn.org. See: https://github.com/scikit-learn/scikit-learn/issues/21755 */display: inline-block !important;position: relative;}#sk-container-id-8 div.sk-text-repr-fallback {display: none;}</style><div id=\"sk-container-id-8\" class=\"sk-top-container\"><div class=\"sk-text-repr-fallback\"><pre>PCA(n_components=49, svd_solver=&#x27;full&#x27;)</pre><b>In a Jupyter environment, please rerun this cell to show the HTML representation or trust the notebook. <br />On GitHub, the HTML representation is unable to render, please try loading this page with nbviewer.org.</b></div><div class=\"sk-container\" hidden><div class=\"sk-item\"><div class=\"sk-estimator sk-toggleable\"><input class=\"sk-toggleable__control sk-hidden--visually\" id=\"sk-estimator-id-8\" type=\"checkbox\" checked><label for=\"sk-estimator-id-8\" class=\"sk-toggleable__label sk-toggleable__label-arrow\">PCA</label><div class=\"sk-toggleable__content\"><pre>PCA(n_components=49, svd_solver=&#x27;full&#x27;)</pre></div></div></div></div></div>"
     },
     "execution_count": 80,
     "metadata": {},
     "output_type": "execute_result"
    }
   ],
   "source": [
    "pca = PCA(svd_solver='full', n_components=49)\n",
    "pca.fit(df_train.drop('label', axis=1))"
   ],
   "metadata": {
    "collapsed": false,
    "ExecuteTime": {
     "end_time": "2023-12-31T10:10:13.595966900Z",
     "start_time": "2023-12-31T10:10:12.326967300Z"
    }
   },
   "id": "760241590402a477"
  },
  {
   "cell_type": "code",
   "execution_count": 81,
   "outputs": [],
   "source": [
    "df_train_transformed = pd.DataFrame(pca.transform(df_train.drop('label', axis=1)))\n",
    "df_test_transformed = pd.DataFrame(pca.transform(df_test.drop('label', axis=1)))\n",
    "df_train_transformed.set_index(df_train.index)\n",
    "df_test_transformed.set_index(df_test.index)\n",
    "\n",
    "df_train_transformed['label'] = df_train['label']\n",
    "df_test_transformed['label'] = df_test['label']"
   ],
   "metadata": {
    "collapsed": false,
    "ExecuteTime": {
     "end_time": "2023-12-31T10:10:13.705965400Z",
     "start_time": "2023-12-31T10:10:13.581969600Z"
    }
   },
   "id": "fa82fc520fed5acf"
  },
  {
   "cell_type": "code",
   "execution_count": 82,
   "outputs": [
    {
     "data": {
      "text/plain": "                 0           1           2            3           4  \\\n0      1119.663388  321.497910 -402.411416  -219.147163 -144.279368   \n1      -883.615892  907.386295  622.503551    94.588506 -270.590217   \n2      -798.393094 -842.909712 -484.062797    16.355192 -209.628601   \n3      -863.614849 -752.822365 -363.947142   -63.756511 -440.838191   \n4      -898.965176 -706.871855 -275.507597   -45.735106 -279.794245   \n...            ...         ...         ...          ...         ...   \n12660   807.485744  719.262248 -978.667043  -703.758608 -177.065399   \n12661  -923.824668  573.430566  554.928473    72.293544 -386.716880   \n12662  -726.574010  652.364352  528.079711   169.629038 -748.717241   \n12663   816.368589  679.558542 -625.934840 -1072.033554 -304.597130   \n12664  -821.887254  356.096385  491.304484    78.841065 -649.796037   \n\n                5           6           7           8           9  ...  \\\n0     -584.819679  -72.106965  -81.959160   27.554926 -165.505640  ...   \n1      192.681390 -211.520576 -179.896252   -6.451600    3.757399  ...   \n2      547.116632 -348.899665 -282.609499   30.052462   37.972363  ...   \n3      319.596246  -79.482970   16.165514  -72.163448  -42.063494  ...   \n4      181.276405  -32.728634  -11.807047  -32.398514  -53.277601  ...   \n...           ...         ...         ...         ...         ...  ...   \n12660  -33.632625  327.747731  617.070012  233.043041  -54.533810  ...   \n12661   78.274704    7.343674 -200.190855  -19.533455  -18.319998  ...   \n12662  536.627107  -94.478509  -31.936281   29.354934 -268.907860  ...   \n12663 -100.910542  322.841503  109.365148  100.372646   56.136357  ...   \n12664  119.117806  179.788415  -80.139246  -94.980558   -9.245210  ...   \n\n               40          41         42          43          44          45  \\\n0     -107.618279   74.334768 -28.824814   23.337672   59.281607   42.859005   \n1      -53.438254   -7.737775 -79.898555   36.423687  -27.116938    1.073534   \n2      -12.774865   -8.769336  42.537930   16.657997  -60.705626  -98.084292   \n3       -4.289335 -129.195506  24.235790  -11.472919   91.020834   -4.273249   \n4       60.884420    4.542551  57.539281  -14.186307   36.261901  -81.544323   \n...           ...         ...        ...         ...         ...         ...   \n12660  -23.930714  -69.775931 -46.630014  -96.112036 -134.353206  102.636059   \n12661  -14.216393   41.781787 -83.302297   33.757251 -104.407589   29.241321   \n12662   -0.812717 -161.481309  -8.942214   23.006545   72.371978  -79.690924   \n12663  160.228696  -97.750517  30.009912  118.776557    6.934999   86.121628   \n12664  -56.689554   34.449976 -26.316478   43.051898  -87.311767  -46.622509   \n\n               46         47         48  label  \n0      -24.079799 -38.053835  59.461866      0  \n1       20.195278  39.968542  55.252302      1  \n2       67.373824 -85.740543 -35.463346      1  \n3     -101.915203  45.167200  -8.511606      1  \n4       30.700215  29.621101  23.410289      1  \n...           ...        ...        ...    ...  \n12660  120.016011  21.926420  -9.397202      0  \n12661   19.081587  88.769286 -16.357333      1  \n12662   25.934190 -35.354107  45.463900      1  \n12663  203.805869 -67.043594 -12.751278      0  \n12664   17.642265 -37.090386 -10.297231      1  \n\n[12665 rows x 50 columns]",
      "text/html": "<div>\n<style scoped>\n    .dataframe tbody tr th:only-of-type {\n        vertical-align: middle;\n    }\n\n    .dataframe tbody tr th {\n        vertical-align: top;\n    }\n\n    .dataframe thead th {\n        text-align: right;\n    }\n</style>\n<table border=\"1\" class=\"dataframe\">\n  <thead>\n    <tr style=\"text-align: right;\">\n      <th></th>\n      <th>0</th>\n      <th>1</th>\n      <th>2</th>\n      <th>3</th>\n      <th>4</th>\n      <th>5</th>\n      <th>6</th>\n      <th>7</th>\n      <th>8</th>\n      <th>9</th>\n      <th>...</th>\n      <th>40</th>\n      <th>41</th>\n      <th>42</th>\n      <th>43</th>\n      <th>44</th>\n      <th>45</th>\n      <th>46</th>\n      <th>47</th>\n      <th>48</th>\n      <th>label</th>\n    </tr>\n  </thead>\n  <tbody>\n    <tr>\n      <th>0</th>\n      <td>1119.663388</td>\n      <td>321.497910</td>\n      <td>-402.411416</td>\n      <td>-219.147163</td>\n      <td>-144.279368</td>\n      <td>-584.819679</td>\n      <td>-72.106965</td>\n      <td>-81.959160</td>\n      <td>27.554926</td>\n      <td>-165.505640</td>\n      <td>...</td>\n      <td>-107.618279</td>\n      <td>74.334768</td>\n      <td>-28.824814</td>\n      <td>23.337672</td>\n      <td>59.281607</td>\n      <td>42.859005</td>\n      <td>-24.079799</td>\n      <td>-38.053835</td>\n      <td>59.461866</td>\n      <td>0</td>\n    </tr>\n    <tr>\n      <th>1</th>\n      <td>-883.615892</td>\n      <td>907.386295</td>\n      <td>622.503551</td>\n      <td>94.588506</td>\n      <td>-270.590217</td>\n      <td>192.681390</td>\n      <td>-211.520576</td>\n      <td>-179.896252</td>\n      <td>-6.451600</td>\n      <td>3.757399</td>\n      <td>...</td>\n      <td>-53.438254</td>\n      <td>-7.737775</td>\n      <td>-79.898555</td>\n      <td>36.423687</td>\n      <td>-27.116938</td>\n      <td>1.073534</td>\n      <td>20.195278</td>\n      <td>39.968542</td>\n      <td>55.252302</td>\n      <td>1</td>\n    </tr>\n    <tr>\n      <th>2</th>\n      <td>-798.393094</td>\n      <td>-842.909712</td>\n      <td>-484.062797</td>\n      <td>16.355192</td>\n      <td>-209.628601</td>\n      <td>547.116632</td>\n      <td>-348.899665</td>\n      <td>-282.609499</td>\n      <td>30.052462</td>\n      <td>37.972363</td>\n      <td>...</td>\n      <td>-12.774865</td>\n      <td>-8.769336</td>\n      <td>42.537930</td>\n      <td>16.657997</td>\n      <td>-60.705626</td>\n      <td>-98.084292</td>\n      <td>67.373824</td>\n      <td>-85.740543</td>\n      <td>-35.463346</td>\n      <td>1</td>\n    </tr>\n    <tr>\n      <th>3</th>\n      <td>-863.614849</td>\n      <td>-752.822365</td>\n      <td>-363.947142</td>\n      <td>-63.756511</td>\n      <td>-440.838191</td>\n      <td>319.596246</td>\n      <td>-79.482970</td>\n      <td>16.165514</td>\n      <td>-72.163448</td>\n      <td>-42.063494</td>\n      <td>...</td>\n      <td>-4.289335</td>\n      <td>-129.195506</td>\n      <td>24.235790</td>\n      <td>-11.472919</td>\n      <td>91.020834</td>\n      <td>-4.273249</td>\n      <td>-101.915203</td>\n      <td>45.167200</td>\n      <td>-8.511606</td>\n      <td>1</td>\n    </tr>\n    <tr>\n      <th>4</th>\n      <td>-898.965176</td>\n      <td>-706.871855</td>\n      <td>-275.507597</td>\n      <td>-45.735106</td>\n      <td>-279.794245</td>\n      <td>181.276405</td>\n      <td>-32.728634</td>\n      <td>-11.807047</td>\n      <td>-32.398514</td>\n      <td>-53.277601</td>\n      <td>...</td>\n      <td>60.884420</td>\n      <td>4.542551</td>\n      <td>57.539281</td>\n      <td>-14.186307</td>\n      <td>36.261901</td>\n      <td>-81.544323</td>\n      <td>30.700215</td>\n      <td>29.621101</td>\n      <td>23.410289</td>\n      <td>1</td>\n    </tr>\n    <tr>\n      <th>...</th>\n      <td>...</td>\n      <td>...</td>\n      <td>...</td>\n      <td>...</td>\n      <td>...</td>\n      <td>...</td>\n      <td>...</td>\n      <td>...</td>\n      <td>...</td>\n      <td>...</td>\n      <td>...</td>\n      <td>...</td>\n      <td>...</td>\n      <td>...</td>\n      <td>...</td>\n      <td>...</td>\n      <td>...</td>\n      <td>...</td>\n      <td>...</td>\n      <td>...</td>\n      <td>...</td>\n    </tr>\n    <tr>\n      <th>12660</th>\n      <td>807.485744</td>\n      <td>719.262248</td>\n      <td>-978.667043</td>\n      <td>-703.758608</td>\n      <td>-177.065399</td>\n      <td>-33.632625</td>\n      <td>327.747731</td>\n      <td>617.070012</td>\n      <td>233.043041</td>\n      <td>-54.533810</td>\n      <td>...</td>\n      <td>-23.930714</td>\n      <td>-69.775931</td>\n      <td>-46.630014</td>\n      <td>-96.112036</td>\n      <td>-134.353206</td>\n      <td>102.636059</td>\n      <td>120.016011</td>\n      <td>21.926420</td>\n      <td>-9.397202</td>\n      <td>0</td>\n    </tr>\n    <tr>\n      <th>12661</th>\n      <td>-923.824668</td>\n      <td>573.430566</td>\n      <td>554.928473</td>\n      <td>72.293544</td>\n      <td>-386.716880</td>\n      <td>78.274704</td>\n      <td>7.343674</td>\n      <td>-200.190855</td>\n      <td>-19.533455</td>\n      <td>-18.319998</td>\n      <td>...</td>\n      <td>-14.216393</td>\n      <td>41.781787</td>\n      <td>-83.302297</td>\n      <td>33.757251</td>\n      <td>-104.407589</td>\n      <td>29.241321</td>\n      <td>19.081587</td>\n      <td>88.769286</td>\n      <td>-16.357333</td>\n      <td>1</td>\n    </tr>\n    <tr>\n      <th>12662</th>\n      <td>-726.574010</td>\n      <td>652.364352</td>\n      <td>528.079711</td>\n      <td>169.629038</td>\n      <td>-748.717241</td>\n      <td>536.627107</td>\n      <td>-94.478509</td>\n      <td>-31.936281</td>\n      <td>29.354934</td>\n      <td>-268.907860</td>\n      <td>...</td>\n      <td>-0.812717</td>\n      <td>-161.481309</td>\n      <td>-8.942214</td>\n      <td>23.006545</td>\n      <td>72.371978</td>\n      <td>-79.690924</td>\n      <td>25.934190</td>\n      <td>-35.354107</td>\n      <td>45.463900</td>\n      <td>1</td>\n    </tr>\n    <tr>\n      <th>12663</th>\n      <td>816.368589</td>\n      <td>679.558542</td>\n      <td>-625.934840</td>\n      <td>-1072.033554</td>\n      <td>-304.597130</td>\n      <td>-100.910542</td>\n      <td>322.841503</td>\n      <td>109.365148</td>\n      <td>100.372646</td>\n      <td>56.136357</td>\n      <td>...</td>\n      <td>160.228696</td>\n      <td>-97.750517</td>\n      <td>30.009912</td>\n      <td>118.776557</td>\n      <td>6.934999</td>\n      <td>86.121628</td>\n      <td>203.805869</td>\n      <td>-67.043594</td>\n      <td>-12.751278</td>\n      <td>0</td>\n    </tr>\n    <tr>\n      <th>12664</th>\n      <td>-821.887254</td>\n      <td>356.096385</td>\n      <td>491.304484</td>\n      <td>78.841065</td>\n      <td>-649.796037</td>\n      <td>119.117806</td>\n      <td>179.788415</td>\n      <td>-80.139246</td>\n      <td>-94.980558</td>\n      <td>-9.245210</td>\n      <td>...</td>\n      <td>-56.689554</td>\n      <td>34.449976</td>\n      <td>-26.316478</td>\n      <td>43.051898</td>\n      <td>-87.311767</td>\n      <td>-46.622509</td>\n      <td>17.642265</td>\n      <td>-37.090386</td>\n      <td>-10.297231</td>\n      <td>1</td>\n    </tr>\n  </tbody>\n</table>\n<p>12665 rows × 50 columns</p>\n</div>"
     },
     "execution_count": 82,
     "metadata": {},
     "output_type": "execute_result"
    }
   ],
   "source": [
    "df_train_transformed"
   ],
   "metadata": {
    "collapsed": false,
    "ExecuteTime": {
     "end_time": "2023-12-31T10:10:15.489086Z",
     "start_time": "2023-12-31T10:10:15.437055300Z"
    }
   },
   "id": "a30b659ed02b3227"
  },
  {
   "cell_type": "code",
   "execution_count": 84,
   "outputs": [
    {
     "data": {
      "text/plain": "GradientBoostingClassifier(learning_rate=0.8, max_depth=2, n_estimators=500,\n                           random_state=23)",
      "text/html": "<style>#sk-container-id-9 {color: black;}#sk-container-id-9 pre{padding: 0;}#sk-container-id-9 div.sk-toggleable {background-color: white;}#sk-container-id-9 label.sk-toggleable__label {cursor: pointer;display: block;width: 100%;margin-bottom: 0;padding: 0.3em;box-sizing: border-box;text-align: center;}#sk-container-id-9 label.sk-toggleable__label-arrow:before {content: \"▸\";float: left;margin-right: 0.25em;color: #696969;}#sk-container-id-9 label.sk-toggleable__label-arrow:hover:before {color: black;}#sk-container-id-9 div.sk-estimator:hover label.sk-toggleable__label-arrow:before {color: black;}#sk-container-id-9 div.sk-toggleable__content {max-height: 0;max-width: 0;overflow: hidden;text-align: left;background-color: #f0f8ff;}#sk-container-id-9 div.sk-toggleable__content pre {margin: 0.2em;color: black;border-radius: 0.25em;background-color: #f0f8ff;}#sk-container-id-9 input.sk-toggleable__control:checked~div.sk-toggleable__content {max-height: 200px;max-width: 100%;overflow: auto;}#sk-container-id-9 input.sk-toggleable__control:checked~label.sk-toggleable__label-arrow:before {content: \"▾\";}#sk-container-id-9 div.sk-estimator input.sk-toggleable__control:checked~label.sk-toggleable__label {background-color: #d4ebff;}#sk-container-id-9 div.sk-label input.sk-toggleable__control:checked~label.sk-toggleable__label {background-color: #d4ebff;}#sk-container-id-9 input.sk-hidden--visually {border: 0;clip: rect(1px 1px 1px 1px);clip: rect(1px, 1px, 1px, 1px);height: 1px;margin: -1px;overflow: hidden;padding: 0;position: absolute;width: 1px;}#sk-container-id-9 div.sk-estimator {font-family: monospace;background-color: #f0f8ff;border: 1px dotted black;border-radius: 0.25em;box-sizing: border-box;margin-bottom: 0.5em;}#sk-container-id-9 div.sk-estimator:hover {background-color: #d4ebff;}#sk-container-id-9 div.sk-parallel-item::after {content: \"\";width: 100%;border-bottom: 1px solid gray;flex-grow: 1;}#sk-container-id-9 div.sk-label:hover label.sk-toggleable__label {background-color: #d4ebff;}#sk-container-id-9 div.sk-serial::before {content: \"\";position: absolute;border-left: 1px solid gray;box-sizing: border-box;top: 0;bottom: 0;left: 50%;z-index: 0;}#sk-container-id-9 div.sk-serial {display: flex;flex-direction: column;align-items: center;background-color: white;padding-right: 0.2em;padding-left: 0.2em;position: relative;}#sk-container-id-9 div.sk-item {position: relative;z-index: 1;}#sk-container-id-9 div.sk-parallel {display: flex;align-items: stretch;justify-content: center;background-color: white;position: relative;}#sk-container-id-9 div.sk-item::before, #sk-container-id-9 div.sk-parallel-item::before {content: \"\";position: absolute;border-left: 1px solid gray;box-sizing: border-box;top: 0;bottom: 0;left: 50%;z-index: -1;}#sk-container-id-9 div.sk-parallel-item {display: flex;flex-direction: column;z-index: 1;position: relative;background-color: white;}#sk-container-id-9 div.sk-parallel-item:first-child::after {align-self: flex-end;width: 50%;}#sk-container-id-9 div.sk-parallel-item:last-child::after {align-self: flex-start;width: 50%;}#sk-container-id-9 div.sk-parallel-item:only-child::after {width: 0;}#sk-container-id-9 div.sk-dashed-wrapped {border: 1px dashed gray;margin: 0 0.4em 0.5em 0.4em;box-sizing: border-box;padding-bottom: 0.4em;background-color: white;}#sk-container-id-9 div.sk-label label {font-family: monospace;font-weight: bold;display: inline-block;line-height: 1.2em;}#sk-container-id-9 div.sk-label-container {text-align: center;}#sk-container-id-9 div.sk-container {/* jupyter's `normalize.less` sets `[hidden] { display: none; }` but bootstrap.min.css set `[hidden] { display: none !important; }` so we also need the `!important` here to be able to override the default hidden behavior on the sphinx rendered scikit-learn.org. See: https://github.com/scikit-learn/scikit-learn/issues/21755 */display: inline-block !important;position: relative;}#sk-container-id-9 div.sk-text-repr-fallback {display: none;}</style><div id=\"sk-container-id-9\" class=\"sk-top-container\"><div class=\"sk-text-repr-fallback\"><pre>GradientBoostingClassifier(learning_rate=0.8, max_depth=2, n_estimators=500,\n                           random_state=23)</pre><b>In a Jupyter environment, please rerun this cell to show the HTML representation or trust the notebook. <br />On GitHub, the HTML representation is unable to render, please try loading this page with nbviewer.org.</b></div><div class=\"sk-container\" hidden><div class=\"sk-item\"><div class=\"sk-estimator sk-toggleable\"><input class=\"sk-toggleable__control sk-hidden--visually\" id=\"sk-estimator-id-9\" type=\"checkbox\" checked><label for=\"sk-estimator-id-9\" class=\"sk-toggleable__label sk-toggleable__label-arrow\">GradientBoostingClassifier</label><div class=\"sk-toggleable__content\"><pre>GradientBoostingClassifier(learning_rate=0.8, max_depth=2, n_estimators=500,\n                           random_state=23)</pre></div></div></div></div></div>"
     },
     "execution_count": 84,
     "metadata": {},
     "output_type": "execute_result"
    }
   ],
   "source": [
    "from sklearn.ensemble import GradientBoostingClassifier\n",
    "\n",
    "classifier = GradientBoostingClassifier(n_estimators=500, learning_rate=0.8, random_state=23, max_depth=2)\n",
    "classifier.fit(df_train_transformed.drop('label', axis=1), df_train_transformed['label'])"
   ],
   "metadata": {
    "collapsed": false,
    "ExecuteTime": {
     "end_time": "2023-12-31T10:16:41.463930500Z",
     "start_time": "2023-12-31T10:14:45.734817900Z"
    }
   },
   "id": "7013cde24552b39a"
  },
  {
   "cell_type": "code",
   "execution_count": 85,
   "outputs": [],
   "source": [
    "Y_predicted = classifier.predict(df_test_transformed.drop('label', axis=1))"
   ],
   "metadata": {
    "collapsed": false,
    "ExecuteTime": {
     "end_time": "2023-12-31T10:16:41.478931900Z",
     "start_time": "2023-12-31T10:16:41.466930600Z"
    }
   },
   "id": "b1bbb8f1e6be89e3"
  },
  {
   "cell_type": "code",
   "execution_count": 92,
   "outputs": [
    {
     "data": {
      "text/plain": "1135"
     },
     "execution_count": 92,
     "metadata": {},
     "output_type": "execute_result"
    }
   ],
   "source": [
    "df_test_transformed['label'].sum()"
   ],
   "metadata": {
    "collapsed": false,
    "ExecuteTime": {
     "end_time": "2023-12-31T10:20:20.657840500Z",
     "start_time": "2023-12-31T10:20:20.629812800Z"
    }
   },
   "id": "e42d3f4710fe1df7"
  },
  {
   "cell_type": "code",
   "execution_count": 93,
   "outputs": [
    {
     "data": {
      "text/plain": "1135"
     },
     "execution_count": 93,
     "metadata": {},
     "output_type": "execute_result"
    }
   ],
   "source": [
    "Y_predicted.sum()"
   ],
   "metadata": {
    "collapsed": false,
    "ExecuteTime": {
     "end_time": "2023-12-31T10:20:25.935412700Z",
     "start_time": "2023-12-31T10:20:25.900388300Z"
    }
   },
   "id": "cd17e638fd40b3c8"
  },
  {
   "cell_type": "code",
   "execution_count": 94,
   "outputs": [
    {
     "name": "stdout",
     "output_type": "stream",
     "text": [
      "              precision    recall  f1-score   support\n",
      "\n",
      "           0      0.999     0.999     0.999       980\n",
      "           1      0.999     0.999     0.999      1135\n",
      "\n",
      "    accuracy                          0.999      2115\n",
      "   macro avg      0.999     0.999     0.999      2115\n",
      "weighted avg      0.999     0.999     0.999      2115\n"
     ]
    }
   ],
   "source": [
    "from sklearn.metrics import classification_report\n",
    "\n",
    "print(classification_report(df_test_transformed['label'], Y_predicted, digits=3))"
   ],
   "metadata": {
    "collapsed": false,
    "ExecuteTime": {
     "end_time": "2023-12-31T10:20:57.114066100Z",
     "start_time": "2023-12-31T10:20:57.063035600Z"
    }
   },
   "id": "7c35e8f5fa9517ce"
  },
  {
   "cell_type": "code",
   "execution_count": 89,
   "outputs": [
    {
     "data": {
      "text/plain": "1134"
     },
     "execution_count": 89,
     "metadata": {},
     "output_type": "execute_result"
    }
   ],
   "source": [
    "tn, fp, fn, tp = confusion_matrix(df_test_transformed['label'], Y_predicted).ravel()\n",
    "tp"
   ],
   "metadata": {
    "collapsed": false,
    "ExecuteTime": {
     "end_time": "2023-12-31T10:19:30.529933400Z",
     "start_time": "2023-12-31T10:19:30.509933300Z"
    }
   },
   "id": "2c427017001eb11b"
  },
  {
   "cell_type": "code",
   "execution_count": null,
   "outputs": [],
   "source": [],
   "metadata": {
    "collapsed": false
   },
   "id": "6e40aa921444e816"
  }
 ],
 "metadata": {
  "kernelspec": {
   "display_name": "Python 3",
   "language": "python",
   "name": "python3"
  },
  "language_info": {
   "codemirror_mode": {
    "name": "ipython",
    "version": 2
   },
   "file_extension": ".py",
   "mimetype": "text/x-python",
   "name": "python",
   "nbconvert_exporter": "python",
   "pygments_lexer": "ipython2",
   "version": "2.7.6"
  }
 },
 "nbformat": 4,
 "nbformat_minor": 5
}
