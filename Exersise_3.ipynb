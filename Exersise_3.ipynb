{
 "cells": [
  {
   "cell_type": "code",
   "execution_count": 10,
   "id": "initial_id",
   "metadata": {
    "collapsed": true,
    "ExecuteTime": {
     "end_time": "2023-12-20T09:45:16.189030600Z",
     "start_time": "2023-12-20T09:45:16.161316500Z"
    }
   },
   "outputs": [
    {
     "data": {
      "text/plain": "     X   Y\nid        \n1    6  19\n2    3  11\n3   10  24\n4    4  14\n5    2   7\n6   11  26\n7   23  62\n8   21  47\n9   20  48\n10  14  27",
      "text/html": "<div>\n<style scoped>\n    .dataframe tbody tr th:only-of-type {\n        vertical-align: middle;\n    }\n\n    .dataframe tbody tr th {\n        vertical-align: top;\n    }\n\n    .dataframe thead th {\n        text-align: right;\n    }\n</style>\n<table border=\"1\" class=\"dataframe\">\n  <thead>\n    <tr style=\"text-align: right;\">\n      <th></th>\n      <th>X</th>\n      <th>Y</th>\n    </tr>\n    <tr>\n      <th>id</th>\n      <th></th>\n      <th></th>\n    </tr>\n  </thead>\n  <tbody>\n    <tr>\n      <th>1</th>\n      <td>6</td>\n      <td>19</td>\n    </tr>\n    <tr>\n      <th>2</th>\n      <td>3</td>\n      <td>11</td>\n    </tr>\n    <tr>\n      <th>3</th>\n      <td>10</td>\n      <td>24</td>\n    </tr>\n    <tr>\n      <th>4</th>\n      <td>4</td>\n      <td>14</td>\n    </tr>\n    <tr>\n      <th>5</th>\n      <td>2</td>\n      <td>7</td>\n    </tr>\n    <tr>\n      <th>6</th>\n      <td>11</td>\n      <td>26</td>\n    </tr>\n    <tr>\n      <th>7</th>\n      <td>23</td>\n      <td>62</td>\n    </tr>\n    <tr>\n      <th>8</th>\n      <td>21</td>\n      <td>47</td>\n    </tr>\n    <tr>\n      <th>9</th>\n      <td>20</td>\n      <td>48</td>\n    </tr>\n    <tr>\n      <th>10</th>\n      <td>14</td>\n      <td>27</td>\n    </tr>\n  </tbody>\n</table>\n</div>"
     },
     "execution_count": 10,
     "metadata": {},
     "output_type": "execute_result"
    }
   ],
   "source": [
    "import pandas as pd\n",
    "\n",
    "df = pd.read_csv('data/3/data.csv', index_col='id')\n",
    "df"
   ]
  },
  {
   "cell_type": "code",
   "execution_count": 11,
   "outputs": [
    {
     "data": {
      "text/plain": "11.4"
     },
     "execution_count": 11,
     "metadata": {},
     "output_type": "execute_result"
    }
   ],
   "source": [
    "df[\"X\"].mean()"
   ],
   "metadata": {
    "collapsed": false,
    "ExecuteTime": {
     "end_time": "2023-12-20T09:45:17.397327500Z",
     "start_time": "2023-12-20T09:45:17.357314600Z"
    }
   },
   "id": "93bf6b98168da7b1"
  },
  {
   "cell_type": "code",
   "execution_count": 12,
   "outputs": [
    {
     "data": {
      "text/plain": "28.5"
     },
     "execution_count": 12,
     "metadata": {},
     "output_type": "execute_result"
    }
   ],
   "source": [
    "df[\"Y\"].mean()"
   ],
   "metadata": {
    "collapsed": false,
    "ExecuteTime": {
     "end_time": "2023-12-20T09:45:17.862310300Z",
     "start_time": "2023-12-20T09:45:17.842308700Z"
    }
   },
   "id": "a6df8a98592dd66e"
  },
  {
   "cell_type": "code",
   "execution_count": 13,
   "outputs": [],
   "source": [
    "from sklearn.linear_model import LinearRegression\n",
    "\n",
    "X = pd.DataFrame(df.drop(['Y'], axis=1))\n",
    "Y = pd.DataFrame(df['Y'])\n",
    "\n",
    "predictor = LinearRegression().fit(X, Y)"
   ],
   "metadata": {
    "collapsed": false,
    "ExecuteTime": {
     "end_time": "2023-12-20T09:45:18.243617100Z",
     "start_time": "2023-12-20T09:45:18.229619900Z"
    }
   },
   "id": "c81df819d550810e"
  },
  {
   "cell_type": "code",
   "execution_count": 17,
   "outputs": [
    {
     "data": {
      "text/plain": "array([[2.25]])"
     },
     "execution_count": 17,
     "metadata": {},
     "output_type": "execute_result"
    }
   ],
   "source": [
    "import numpy as np\n",
    "\n",
    "np.round(predictor.coef_, 2)"
   ],
   "metadata": {
    "collapsed": false,
    "ExecuteTime": {
     "end_time": "2023-12-20T09:45:47.547633100Z",
     "start_time": "2023-12-20T09:45:47.516633900Z"
    }
   },
   "id": "fcdaaeb14bfc0ffc"
  },
  {
   "cell_type": "code",
   "execution_count": 18,
   "outputs": [
    {
     "data": {
      "text/plain": "array([2.81])"
     },
     "execution_count": 18,
     "metadata": {},
     "output_type": "execute_result"
    }
   ],
   "source": [
    "np.round(predictor.intercept_, 2)"
   ],
   "metadata": {
    "collapsed": false,
    "ExecuteTime": {
     "end_time": "2023-12-20T09:45:54.997471Z",
     "start_time": "2023-12-20T09:45:54.979900900Z"
    }
   },
   "id": "92eab9352a5cce92"
  },
  {
   "cell_type": "code",
   "execution_count": 20,
   "outputs": [
    {
     "data": {
      "text/plain": "0.95"
     },
     "execution_count": 20,
     "metadata": {},
     "output_type": "execute_result"
    }
   ],
   "source": [
    "np.round(predictor.score(X, Y), 2)"
   ],
   "metadata": {
    "collapsed": false,
    "ExecuteTime": {
     "end_time": "2023-12-20T09:46:18.449521Z",
     "start_time": "2023-12-20T09:46:18.433523500Z"
    }
   },
   "id": "f5be1e4ce0a1d190"
  },
  {
   "cell_type": "markdown",
   "source": [
    "# Task 2"
   ],
   "metadata": {
    "collapsed": false
   },
   "id": "65f960a20629b9e6"
  },
  {
   "cell_type": "code",
   "execution_count": 147,
   "outputs": [
    {
     "data": {
      "text/plain": "       Species  Weight  Length1  Length2  Length3   Height   Width\n0        Roach   150.0     20.4     22.0     24.7   5.8045  3.7544\n1        Perch   250.0     25.4     27.5     28.9   7.2828  4.5662\n2        Bream   430.0     26.5     29.0     34.0  12.4440  5.1340\n3        Bream   925.0     36.2     39.5     45.3  18.7542  6.7497\n4        Perch   110.0     19.0     21.0     22.5   5.6925  3.5550\n..         ...     ...      ...      ...      ...      ...     ...\n114     Parkki   273.0     23.0     25.0     28.0  11.0880  4.1440\n115       Pike   500.0     42.0     45.0     48.0   6.9600  4.8960\n116  Whitefish  1000.0     37.3     40.0     43.5  12.3540  6.5250\n117      Perch   120.0     20.0     22.0     23.5   6.1100  3.4075\n118      Perch   820.0     36.6     39.0     41.3  12.4313  7.3514\n\n[119 rows x 7 columns]",
      "text/html": "<div>\n<style scoped>\n    .dataframe tbody tr th:only-of-type {\n        vertical-align: middle;\n    }\n\n    .dataframe tbody tr th {\n        vertical-align: top;\n    }\n\n    .dataframe thead th {\n        text-align: right;\n    }\n</style>\n<table border=\"1\" class=\"dataframe\">\n  <thead>\n    <tr style=\"text-align: right;\">\n      <th></th>\n      <th>Species</th>\n      <th>Weight</th>\n      <th>Length1</th>\n      <th>Length2</th>\n      <th>Length3</th>\n      <th>Height</th>\n      <th>Width</th>\n    </tr>\n  </thead>\n  <tbody>\n    <tr>\n      <th>0</th>\n      <td>Roach</td>\n      <td>150.0</td>\n      <td>20.4</td>\n      <td>22.0</td>\n      <td>24.7</td>\n      <td>5.8045</td>\n      <td>3.7544</td>\n    </tr>\n    <tr>\n      <th>1</th>\n      <td>Perch</td>\n      <td>250.0</td>\n      <td>25.4</td>\n      <td>27.5</td>\n      <td>28.9</td>\n      <td>7.2828</td>\n      <td>4.5662</td>\n    </tr>\n    <tr>\n      <th>2</th>\n      <td>Bream</td>\n      <td>430.0</td>\n      <td>26.5</td>\n      <td>29.0</td>\n      <td>34.0</td>\n      <td>12.4440</td>\n      <td>5.1340</td>\n    </tr>\n    <tr>\n      <th>3</th>\n      <td>Bream</td>\n      <td>925.0</td>\n      <td>36.2</td>\n      <td>39.5</td>\n      <td>45.3</td>\n      <td>18.7542</td>\n      <td>6.7497</td>\n    </tr>\n    <tr>\n      <th>4</th>\n      <td>Perch</td>\n      <td>110.0</td>\n      <td>19.0</td>\n      <td>21.0</td>\n      <td>22.5</td>\n      <td>5.6925</td>\n      <td>3.5550</td>\n    </tr>\n    <tr>\n      <th>...</th>\n      <td>...</td>\n      <td>...</td>\n      <td>...</td>\n      <td>...</td>\n      <td>...</td>\n      <td>...</td>\n      <td>...</td>\n    </tr>\n    <tr>\n      <th>114</th>\n      <td>Parkki</td>\n      <td>273.0</td>\n      <td>23.0</td>\n      <td>25.0</td>\n      <td>28.0</td>\n      <td>11.0880</td>\n      <td>4.1440</td>\n    </tr>\n    <tr>\n      <th>115</th>\n      <td>Pike</td>\n      <td>500.0</td>\n      <td>42.0</td>\n      <td>45.0</td>\n      <td>48.0</td>\n      <td>6.9600</td>\n      <td>4.8960</td>\n    </tr>\n    <tr>\n      <th>116</th>\n      <td>Whitefish</td>\n      <td>1000.0</td>\n      <td>37.3</td>\n      <td>40.0</td>\n      <td>43.5</td>\n      <td>12.3540</td>\n      <td>6.5250</td>\n    </tr>\n    <tr>\n      <th>117</th>\n      <td>Perch</td>\n      <td>120.0</td>\n      <td>20.0</td>\n      <td>22.0</td>\n      <td>23.5</td>\n      <td>6.1100</td>\n      <td>3.4075</td>\n    </tr>\n    <tr>\n      <th>118</th>\n      <td>Perch</td>\n      <td>820.0</td>\n      <td>36.6</td>\n      <td>39.0</td>\n      <td>41.3</td>\n      <td>12.4313</td>\n      <td>7.3514</td>\n    </tr>\n  </tbody>\n</table>\n<p>119 rows × 7 columns</p>\n</div>"
     },
     "execution_count": 147,
     "metadata": {},
     "output_type": "execute_result"
    }
   ],
   "source": [
    "df = pd.read_csv('data/3/fish_train.csv')\n",
    "df"
   ],
   "metadata": {
    "collapsed": false,
    "ExecuteTime": {
     "end_time": "2023-12-20T10:43:56.175978300Z",
     "start_time": "2023-12-20T10:43:56.132301200Z"
    }
   },
   "id": "e3415f9b0e1de98f"
  },
  {
   "cell_type": "code",
   "execution_count": 148,
   "outputs": [],
   "source": [
    "from sklearn.model_selection import train_test_split\n",
    "\n",
    "def split_dataset(dataset: pd.DataFrame, column: str) -> tuple[pd.DataFrame, pd.DataFrame]:\n",
    "    return dataset.drop(column, axis=1), dataset[column]\n",
    "\n",
    "X, Y = split_dataset(df, 'Weight')\n",
    "\n",
    "X_train, X_test, Y_train, Y_test = train_test_split(X, Y, test_size=0.2, random_state=33, stratify=df['Species'])"
   ],
   "metadata": {
    "collapsed": false,
    "ExecuteTime": {
     "end_time": "2023-12-20T10:43:56.426954900Z",
     "start_time": "2023-12-20T10:43:56.402086100Z"
    }
   },
   "id": "c779e8ebbe38dd25"
  },
  {
   "cell_type": "code",
   "execution_count": 149,
   "outputs": [
    {
     "data": {
      "text/plain": "4.511"
     },
     "execution_count": 149,
     "metadata": {},
     "output_type": "execute_result"
    }
   ],
   "source": [
    "np.round(X_train['Width'].mean(), 3)"
   ],
   "metadata": {
    "collapsed": false,
    "ExecuteTime": {
     "end_time": "2023-12-20T10:43:56.645202600Z",
     "start_time": "2023-12-20T10:43:56.617135100Z"
    }
   },
   "id": "f0e08c8a9439ad28"
  },
  {
   "cell_type": "code",
   "execution_count": 150,
   "outputs": [
    {
     "data": {
      "text/plain": "     Weight  Length1  Length2  Length3   Height   Width\n0     150.0     20.4     22.0     24.7   5.8045  3.7544\n1     250.0     25.4     27.5     28.9   7.2828  4.5662\n2     430.0     26.5     29.0     34.0  12.4440  5.1340\n3     925.0     36.2     39.5     45.3  18.7542  6.7497\n4     110.0     19.0     21.0     22.5   5.6925  3.5550\n..      ...      ...      ...      ...      ...     ...\n114   273.0     23.0     25.0     28.0  11.0880  4.1440\n115   500.0     42.0     45.0     48.0   6.9600  4.8960\n116  1000.0     37.3     40.0     43.5  12.3540  6.5250\n117   120.0     20.0     22.0     23.5   6.1100  3.4075\n118   820.0     36.6     39.0     41.3  12.4313  7.3514\n\n[119 rows x 6 columns]",
      "text/html": "<div>\n<style scoped>\n    .dataframe tbody tr th:only-of-type {\n        vertical-align: middle;\n    }\n\n    .dataframe tbody tr th {\n        vertical-align: top;\n    }\n\n    .dataframe thead th {\n        text-align: right;\n    }\n</style>\n<table border=\"1\" class=\"dataframe\">\n  <thead>\n    <tr style=\"text-align: right;\">\n      <th></th>\n      <th>Weight</th>\n      <th>Length1</th>\n      <th>Length2</th>\n      <th>Length3</th>\n      <th>Height</th>\n      <th>Width</th>\n    </tr>\n  </thead>\n  <tbody>\n    <tr>\n      <th>0</th>\n      <td>150.0</td>\n      <td>20.4</td>\n      <td>22.0</td>\n      <td>24.7</td>\n      <td>5.8045</td>\n      <td>3.7544</td>\n    </tr>\n    <tr>\n      <th>1</th>\n      <td>250.0</td>\n      <td>25.4</td>\n      <td>27.5</td>\n      <td>28.9</td>\n      <td>7.2828</td>\n      <td>4.5662</td>\n    </tr>\n    <tr>\n      <th>2</th>\n      <td>430.0</td>\n      <td>26.5</td>\n      <td>29.0</td>\n      <td>34.0</td>\n      <td>12.4440</td>\n      <td>5.1340</td>\n    </tr>\n    <tr>\n      <th>3</th>\n      <td>925.0</td>\n      <td>36.2</td>\n      <td>39.5</td>\n      <td>45.3</td>\n      <td>18.7542</td>\n      <td>6.7497</td>\n    </tr>\n    <tr>\n      <th>4</th>\n      <td>110.0</td>\n      <td>19.0</td>\n      <td>21.0</td>\n      <td>22.5</td>\n      <td>5.6925</td>\n      <td>3.5550</td>\n    </tr>\n    <tr>\n      <th>...</th>\n      <td>...</td>\n      <td>...</td>\n      <td>...</td>\n      <td>...</td>\n      <td>...</td>\n      <td>...</td>\n    </tr>\n    <tr>\n      <th>114</th>\n      <td>273.0</td>\n      <td>23.0</td>\n      <td>25.0</td>\n      <td>28.0</td>\n      <td>11.0880</td>\n      <td>4.1440</td>\n    </tr>\n    <tr>\n      <th>115</th>\n      <td>500.0</td>\n      <td>42.0</td>\n      <td>45.0</td>\n      <td>48.0</td>\n      <td>6.9600</td>\n      <td>4.8960</td>\n    </tr>\n    <tr>\n      <th>116</th>\n      <td>1000.0</td>\n      <td>37.3</td>\n      <td>40.0</td>\n      <td>43.5</td>\n      <td>12.3540</td>\n      <td>6.5250</td>\n    </tr>\n    <tr>\n      <th>117</th>\n      <td>120.0</td>\n      <td>20.0</td>\n      <td>22.0</td>\n      <td>23.5</td>\n      <td>6.1100</td>\n      <td>3.4075</td>\n    </tr>\n    <tr>\n      <th>118</th>\n      <td>820.0</td>\n      <td>36.6</td>\n      <td>39.0</td>\n      <td>41.3</td>\n      <td>12.4313</td>\n      <td>7.3514</td>\n    </tr>\n  </tbody>\n</table>\n<p>119 rows × 6 columns</p>\n</div>"
     },
     "execution_count": 150,
     "metadata": {},
     "output_type": "execute_result"
    }
   ],
   "source": [
    "df_without_categorical = df.drop('Species', axis=1)\n",
    "df_without_categorical"
   ],
   "metadata": {
    "collapsed": false,
    "ExecuteTime": {
     "end_time": "2023-12-20T10:43:56.948091100Z",
     "start_time": "2023-12-20T10:43:56.909026Z"
    }
   },
   "id": "3febb4b152429037"
  },
  {
   "cell_type": "code",
   "execution_count": 151,
   "outputs": [],
   "source": [
    "from sklearn.metrics import r2_score\n",
    "\n",
    "def get_r2_score(dataset):\n",
    "    X, Y = split_dataset(dataset, 'Weight')\n",
    "    \n",
    "    X_train, X_test, Y_train, Y_test = train_test_split(X, Y, test_size=0.2, random_state=33, stratify=df['Species'])\n",
    "\n",
    "    regressor = LinearRegression()\n",
    "    regressor.fit(X_train, Y_train)\n",
    "    Y_predicted = regressor.predict(X_test)\n",
    "    \n",
    "    return np.round(r2_score(Y_test, Y_predicted), 3)"
   ],
   "metadata": {
    "collapsed": false,
    "ExecuteTime": {
     "end_time": "2023-12-20T10:43:57.202091300Z",
     "start_time": "2023-12-20T10:43:57.185065300Z"
    }
   },
   "id": "450130e44f24fdc8"
  },
  {
   "cell_type": "code",
   "execution_count": 152,
   "outputs": [
    {
     "data": {
      "text/plain": "0.879"
     },
     "execution_count": 152,
     "metadata": {},
     "output_type": "execute_result"
    }
   ],
   "source": [
    "get_r2_score(df_without_categorical)"
   ],
   "metadata": {
    "collapsed": false,
    "ExecuteTime": {
     "end_time": "2023-12-20T10:43:57.561327800Z",
     "start_time": "2023-12-20T10:43:57.536330200Z"
    }
   },
   "id": "1bde84cacd7eb2d3"
  },
  {
   "cell_type": "code",
   "execution_count": 153,
   "outputs": [
    {
     "data": {
      "text/plain": "           Weight   Length1   Length2   Length3    Height     Width\nWeight   1.000000  0.897306  0.900856  0.907401  0.745870  0.896493\nLength1  0.897306  1.000000  0.999457  0.991043  0.621868  0.862072\nLength2  0.900856  0.999457  1.000000  0.993469  0.638003  0.868714\nLength3  0.907401  0.991043  0.993469  1.000000  0.704594  0.872468\nHeight   0.745870  0.621868  0.638003  0.704594  1.000000  0.783475\nWidth    0.896493  0.862072  0.868714  0.872468  0.783475  1.000000",
      "text/html": "<div>\n<style scoped>\n    .dataframe tbody tr th:only-of-type {\n        vertical-align: middle;\n    }\n\n    .dataframe tbody tr th {\n        vertical-align: top;\n    }\n\n    .dataframe thead th {\n        text-align: right;\n    }\n</style>\n<table border=\"1\" class=\"dataframe\">\n  <thead>\n    <tr style=\"text-align: right;\">\n      <th></th>\n      <th>Weight</th>\n      <th>Length1</th>\n      <th>Length2</th>\n      <th>Length3</th>\n      <th>Height</th>\n      <th>Width</th>\n    </tr>\n  </thead>\n  <tbody>\n    <tr>\n      <th>Weight</th>\n      <td>1.000000</td>\n      <td>0.897306</td>\n      <td>0.900856</td>\n      <td>0.907401</td>\n      <td>0.745870</td>\n      <td>0.896493</td>\n    </tr>\n    <tr>\n      <th>Length1</th>\n      <td>0.897306</td>\n      <td>1.000000</td>\n      <td>0.999457</td>\n      <td>0.991043</td>\n      <td>0.621868</td>\n      <td>0.862072</td>\n    </tr>\n    <tr>\n      <th>Length2</th>\n      <td>0.900856</td>\n      <td>0.999457</td>\n      <td>1.000000</td>\n      <td>0.993469</td>\n      <td>0.638003</td>\n      <td>0.868714</td>\n    </tr>\n    <tr>\n      <th>Length3</th>\n      <td>0.907401</td>\n      <td>0.991043</td>\n      <td>0.993469</td>\n      <td>1.000000</td>\n      <td>0.704594</td>\n      <td>0.872468</td>\n    </tr>\n    <tr>\n      <th>Height</th>\n      <td>0.745870</td>\n      <td>0.621868</td>\n      <td>0.638003</td>\n      <td>0.704594</td>\n      <td>1.000000</td>\n      <td>0.783475</td>\n    </tr>\n    <tr>\n      <th>Width</th>\n      <td>0.896493</td>\n      <td>0.862072</td>\n      <td>0.868714</td>\n      <td>0.872468</td>\n      <td>0.783475</td>\n      <td>1.000000</td>\n    </tr>\n  </tbody>\n</table>\n</div>"
     },
     "execution_count": 153,
     "metadata": {},
     "output_type": "execute_result"
    }
   ],
   "source": [
    "df_without_categorical.corr()"
   ],
   "metadata": {
    "collapsed": false,
    "ExecuteTime": {
     "end_time": "2023-12-20T10:43:57.826774300Z",
     "start_time": "2023-12-20T10:43:57.790968200Z"
    }
   },
   "id": "c3f1a40753aacaac"
  },
  {
   "cell_type": "markdown",
   "source": [
    "### Three most correlated: Length1, Length2, Length3"
   ],
   "metadata": {
    "collapsed": false
   },
   "id": "199998f13a1e88b9"
  },
  {
   "cell_type": "code",
   "execution_count": 154,
   "outputs": [
    {
     "data": {
      "text/plain": "[<matplotlib.lines.Line2D at 0x13c7b3d0700>]"
     },
     "execution_count": 154,
     "metadata": {},
     "output_type": "execute_result"
    },
    {
     "data": {
      "text/plain": "<Figure size 640x480 with 1 Axes>",
      "image/png": "[encoded data removed]"
     },
     "metadata": {},
     "output_type": "display_data"
    }
   ],
   "source": [
    "from sklearn.decomposition import PCA\n",
    "from matplotlib import pyplot as plt\n",
    "\n",
    "pca = PCA(n_components=3, svd_solver='full')\n",
    "transformed = pca.fit_transform(df[['Length1', 'Length2', 'Length3']])\n",
    "\n",
    "plt.plot(transformed[:, 0], 'o', markerfacecolor='red', markeredgecolor='k', markersize=8)"
   ],
   "metadata": {
    "collapsed": false,
    "ExecuteTime": {
     "end_time": "2023-12-20T10:43:59.362043300Z",
     "start_time": "2023-12-20T10:43:59.238048300Z"
    }
   },
   "id": "df4091b605c4f46f"
  },
  {
   "cell_type": "code",
   "execution_count": 155,
   "outputs": [
    {
     "data": {
      "text/plain": "array([[-1.14863479e+01,  2.44624415e-01,  1.23223174e-01],\n       [-3.04852601e+00, -1.03031977e+00, -1.36927938e-01],\n       [ 1.55788355e+00,  1.83770190e+00,  2.25795423e-02],\n       [ 1.97794399e+01,  1.88053910e+00, -3.26487628e-02],\n       [-1.41719876e+01, -3.90074608e-01, -3.06307960e-01],\n       [-6.33373758e+00, -8.50916759e-01, -2.09035841e-01],\n       [-2.04833764e+01, -5.15897391e-01, -2.83083701e-01],\n       [ 8.72987359e+00,  1.90086049e+00,  1.58850719e-01],\n       [-4.07218176e+00,  3.08759073e-01, -2.31779269e-01],\n       [-4.75350530e+00,  1.71187912e+00,  4.58038017e-02],\n       [-1.41719876e+01, -3.90074608e-01, -3.06307960e-01],\n       [ 1.78195409e+01,  1.92196568e+00, -2.25210111e-01],\n       [-2.18399666e+00, -1.07753108e+00, -1.17952174e-01],\n       [-2.93996892e+01, -4.48066231e-01,  3.29096707e-01],\n       [-1.07138701e+01, -5.78919879e-01, -2.30404904e-01],\n       [-1.42738286e+01,  2.33004294e-02,  9.21258138e-02],\n       [-3.30433943e+01, -4.92894540e-01,  2.22308664e-01],\n       [ 1.34428830e+00, -1.05920080e+00, -8.84690406e-02],\n       [-4.39437673e+00, -1.16636493e+00,  2.37475017e-01],\n       [ 8.60614849e+00,  1.74507811e+00,  1.38260727e-01],\n       [ 1.77576784e+01,  1.84407449e+00, -2.35505107e-01],\n       [ 1.87631778e+01, -8.91261091e-01, -1.52378114e-01],\n       [-3.02642186e+01, -4.00854913e-01,  3.10120943e-01],\n       [-8.58737528e+00,  4.76993555e-01,  3.72145117e-01],\n       [ 5.24684123e+00,  1.70185269e+00,  2.53092419e-01],\n       [-1.51300530e+01,  1.99796106e-01,  1.64351310e-02],\n       [ 5.87222537e+00,  1.47236096e+00,  1.74173281e-01],\n       [ 2.40039115e+01, -1.22592216e+00,  2.84863847e-02],\n       [-1.61032439e+01, -7.87894271e-01, -2.61714638e-01],\n       [-3.10220814e+01, -5.54808537e-01,  2.00840583e-01],\n       [ 9.46237288e+00,  1.56858243e+00,  2.13951410e-01],\n       [ 1.31322770e+01, -1.60280747e-01, -1.59089017e-02],\n       [-4.47503062e+00,  4.61962502e-01,  5.84646074e-02],\n       [ 1.55728483e+01, -9.59381648e-01,  1.06768402e-01],\n       [ 1.02619470e+01, -8.31896129e-01, -2.76761736e-02],\n       [ 3.93356975e+01, -1.08941252e+00,  1.16270068e-01],\n       [-2.93996892e+01, -4.48066231e-01,  3.29096707e-01],\n       [ 2.46542106e+01, -1.06756082e+00, -2.20577509e-01],\n       [-3.06577102e+00,  1.81358688e+00, -1.80489175e-01],\n       [-8.12982826e-01, -1.29780642e+00,  1.09643639e-01],\n       [-9.80254182e+00,  3.30879304e-01,  3.74498692e-02],\n       [-3.39433776e+00, -1.01143524e+00, -1.44518243e-01],\n       [-1.12325877e+01, -5.50593088e-01, -2.41790362e-01],\n       [-1.06384285e+01, -6.11556198e-02,  2.55628776e-01],\n       [-2.44510092e+01,  2.73162512e-02,  2.15617157e-02],\n       [ 1.35421467e+01,  1.97734475e+00, -1.96364098e-01],\n       [-1.54758648e+01,  2.18680633e-01,  8.84482539e-03],\n       [ 1.14145565e+00,  1.55103227e+00, -1.62915265e-01],\n       [-1.24429288e+01, -4.84497244e-01, -2.68356432e-01],\n       [-1.24662974e+01,  2.65337705e-01,  2.69425001e-02],\n       [ 6.81522722e+00,  1.76160955e+00,  9.00142035e-02],\n       [-3.17711906e+01, -4.81099192e-01,  2.59169729e-01],\n       [ 1.72400444e+01, -1.13169548e+00,  1.34424934e-01],\n       [ 2.55399435e+00,  1.97717872e+00, -2.18894046e-01],\n       [ 4.96726884e+00,  1.91245989e+00,  3.39601862e-01],\n       [ 3.29215703e+01, -9.98617489e-01,  8.92792518e-02],\n       [ 1.02733447e+01,  1.57276428e+00,  1.65917260e-01],\n       [-1.15783995e+01, -5.31708561e-01, -2.49380668e-01],\n       [ 1.29792602e+01, -8.17747695e-01,  4.98411100e-02],\n       [-2.56458381e+01, -6.87328600e-01, -1.92639425e-02],\n       [ 2.41894992e+01, -9.92248583e-01,  5.93713719e-02],\n       [ 5.08616851e+00,  1.85603218e+00,  5.20626754e-02],\n       [ 2.36629252e+01, -9.94827540e-01,  3.29025257e-01],\n       [-1.41719876e+01, -3.90074608e-01, -3.06307960e-01],\n       [ 5.88464494e+00, -1.58375579e+00, -9.03946593e-02],\n       [-3.06532239e+00,  1.91196549e+00,  4.38352496e-02],\n       [-7.93314805e+00,  6.50807773e-01, -1.74384488e-02],\n       [-3.04852601e+00, -1.03031977e+00, -1.36927938e-01],\n       [-2.53028568e+01,  3.17643412e-01,  2.96757860e-02],\n       [-1.24429288e+01, -4.84497244e-01, -2.68356432e-01],\n       [ 1.43625072e+01, -8.93285803e-01,  8.02023325e-02],\n       [-9.84934076e+00, -6.26131197e-01, -2.11429140e-01],\n       [ 5.33535147e+00,  1.04431005e-01,  1.51063484e-01],\n       [ 6.93064735e+00,  1.78810758e+00,  1.67319114e-01],\n       [ 1.72400444e+01, -1.13169548e+00,  1.34424934e-01],\n       [ 2.16555923e+01,  1.19206391e+00, -2.69406175e-01],\n       [ 1.64373776e+01, -1.00659297e+00,  1.25744166e-01],\n       [ 1.37819270e+01, -9.42850206e-01,  5.85218783e-02],\n       [ 2.93683704e+01, -1.40480085e+00,  2.29940875e-01],\n       [-3.04852601e+00, -1.03031977e+00, -1.36927938e-01],\n       [-4.59875572e+00,  3.06180116e-01,  3.78746160e-02],\n       [ 3.77874999e+00,  9.10327659e-02, -1.07417316e-01],\n       [ 5.37367146e+01, -1.09741424e+00,  9.09782389e-02],\n       [ 1.19285081e+01,  2.09826541e+00, -1.57010716e-01],\n       [-2.91692976e+01, -4.93448786e-01,  2.59382102e-01],\n       [ 2.22831578e+01, -1.00221517e+00, -6.61800621e-02],\n       [-2.44271920e+01, -6.24140086e-01, -4.94127916e-02],\n       [-1.84815039e+01,  1.87476434e-01, -1.49772521e-01],\n       [ 3.40236239e+00,  1.76977730e+00,  1.37835981e-01],\n       [-1.16802406e+01, -1.18333524e-01,  1.49053106e-01],\n       [ 2.36576512e+01, -1.30541625e+00, -2.03428346e-01],\n       [-1.94376362e+01, -4.43266613e-01, -3.17027703e-01],\n       [ 1.19202031e+01,  1.96898105e+00, -1.00295797e-01],\n       [ 4.66348921e+01, -9.53397282e-01, -9.17128606e-02],\n       [-2.49852170e+00,  6.79104640e-01,  1.37596118e-01],\n       [-2.30058997e+01,  2.96693363e-02,  6.22179339e-02],\n       [ 1.20356233e+01,  1.99547908e+00, -2.29908872e-02],\n       [-5.95336004e+00, -5.75280176e-02,  2.44668064e-01],\n       [-1.07741863e+01,  4.80876952e-01, -1.15545724e-01],\n       [ 5.82432872e+00, -5.23958957e-01,  2.44645210e-02],\n       [-1.38622262e+01,  9.77599695e-02, -3.05085567e-02],\n       [ 1.88167354e+01, -9.42654257e-01, -8.53681995e-02],\n       [-3.04989870e+01, -4.69303843e-01,  2.96030794e-01],\n       [-1.39114069e+01,  2.62984620e-01, -1.37137181e-02],\n       [ 9.56794169e+00,  3.28108076e-01,  2.22817063e-01],\n       [-3.60494821e+01, -6.22477350e-01, -1.60633108e-01],\n       [-2.85930942e+01, -5.57715868e-01,  1.97257803e-01],\n       [-4.99857367e+00,  2.78079197e-01, -2.61050029e-01],\n       [ 1.52259528e+01,  2.06359963e+00, -2.82137403e-01],\n       [-7.88551362e+00, -6.52104902e-01, -1.59387463e-01],\n       [ 1.22587936e+01, -1.18328459e+00,  3.45324927e-01],\n       [-1.24429288e+01, -4.84497244e-01, -2.68356432e-01],\n       [ 1.37736220e+01, -1.07213456e+00,  1.15236797e-01],\n       [ 1.85858951e+01, -9.95650313e-01, -2.39978020e-01],\n       [-6.32781444e+00,  4.00602751e-01, -7.69121066e-05],\n       [ 2.77177842e+01, -9.73918301e-01,  8.88545050e-02],\n       [ 1.95424760e+01, -2.66528654e-01,  1.51601587e-01],\n       [-1.24429288e+01, -4.84497244e-01, -2.68356432e-01],\n       [ 1.72317395e+01, -1.26097983e+00,  1.91139853e-01]])"
     },
     "execution_count": 155,
     "metadata": {},
     "output_type": "execute_result"
    }
   ],
   "source": [
    "transformed"
   ],
   "metadata": {
    "collapsed": false,
    "ExecuteTime": {
     "end_time": "2023-12-20T10:44:00.564864800Z",
     "start_time": "2023-12-20T10:44:00.523803600Z"
    }
   },
   "id": "e362716e9c4d1afc"
  },
  {
   "cell_type": "code",
   "execution_count": 156,
   "outputs": [
    {
     "data": {
      "text/plain": "array([0.996, 1.   , 1.   ])"
     },
     "execution_count": 156,
     "metadata": {},
     "output_type": "execute_result"
    }
   ],
   "source": [
    "explained_variance = np.round(np.cumsum(pca.explained_variance_ratio_), 3)\n",
    "explained_variance"
   ],
   "metadata": {
    "collapsed": false,
    "ExecuteTime": {
     "end_time": "2023-12-20T10:44:01.787713700Z",
     "start_time": "2023-12-20T10:44:01.741673100Z"
    }
   },
   "id": "ccc4c5e1f82a195f"
  },
  {
   "cell_type": "code",
   "execution_count": 157,
   "outputs": [
    {
     "data": {
      "text/plain": "     Weight   Height   Width     Length\n0     150.0   5.8045  3.7544 -11.486348\n1     250.0   7.2828  4.5662  -3.048526\n2     430.0  12.4440  5.1340   1.557884\n3     925.0  18.7542  6.7497  19.779440\n4     110.0   5.6925  3.5550 -14.171988\n..      ...      ...     ...        ...\n114   273.0  11.0880  4.1440  -6.327814\n115   500.0   6.9600  4.8960  27.717784\n116  1000.0  12.3540  6.5250  19.542476\n117   120.0   6.1100  3.4075 -12.442929\n118   820.0  12.4313  7.3514  17.231739\n\n[119 rows x 4 columns]",
      "text/html": "<div>\n<style scoped>\n    .dataframe tbody tr th:only-of-type {\n        vertical-align: middle;\n    }\n\n    .dataframe tbody tr th {\n        vertical-align: top;\n    }\n\n    .dataframe thead th {\n        text-align: right;\n    }\n</style>\n<table border=\"1\" class=\"dataframe\">\n  <thead>\n    <tr style=\"text-align: right;\">\n      <th></th>\n      <th>Weight</th>\n      <th>Height</th>\n      <th>Width</th>\n      <th>Length</th>\n    </tr>\n  </thead>\n  <tbody>\n    <tr>\n      <th>0</th>\n      <td>150.0</td>\n      <td>5.8045</td>\n      <td>3.7544</td>\n      <td>-11.486348</td>\n    </tr>\n    <tr>\n      <th>1</th>\n      <td>250.0</td>\n      <td>7.2828</td>\n      <td>4.5662</td>\n      <td>-3.048526</td>\n    </tr>\n    <tr>\n      <th>2</th>\n      <td>430.0</td>\n      <td>12.4440</td>\n      <td>5.1340</td>\n      <td>1.557884</td>\n    </tr>\n    <tr>\n      <th>3</th>\n      <td>925.0</td>\n      <td>18.7542</td>\n      <td>6.7497</td>\n      <td>19.779440</td>\n    </tr>\n    <tr>\n      <th>4</th>\n      <td>110.0</td>\n      <td>5.6925</td>\n      <td>3.5550</td>\n      <td>-14.171988</td>\n    </tr>\n    <tr>\n      <th>...</th>\n      <td>...</td>\n      <td>...</td>\n      <td>...</td>\n      <td>...</td>\n    </tr>\n    <tr>\n      <th>114</th>\n      <td>273.0</td>\n      <td>11.0880</td>\n      <td>4.1440</td>\n      <td>-6.327814</td>\n    </tr>\n    <tr>\n      <th>115</th>\n      <td>500.0</td>\n      <td>6.9600</td>\n      <td>4.8960</td>\n      <td>27.717784</td>\n    </tr>\n    <tr>\n      <th>116</th>\n      <td>1000.0</td>\n      <td>12.3540</td>\n      <td>6.5250</td>\n      <td>19.542476</td>\n    </tr>\n    <tr>\n      <th>117</th>\n      <td>120.0</td>\n      <td>6.1100</td>\n      <td>3.4075</td>\n      <td>-12.442929</td>\n    </tr>\n    <tr>\n      <th>118</th>\n      <td>820.0</td>\n      <td>12.4313</td>\n      <td>7.3514</td>\n      <td>17.231739</td>\n    </tr>\n  </tbody>\n</table>\n<p>119 rows × 4 columns</p>\n</div>"
     },
     "execution_count": 157,
     "metadata": {},
     "output_type": "execute_result"
    }
   ],
   "source": [
    "df_without_categorical = df_without_categorical.drop(['Length1', 'Length2', 'Length3'], axis=1)\n",
    "df_without_categorical['Length'] = transformed[:, 0]\n",
    "df_without_categorical"
   ],
   "metadata": {
    "collapsed": false,
    "ExecuteTime": {
     "end_time": "2023-12-20T10:44:03.267260100Z",
     "start_time": "2023-12-20T10:44:03.224259700Z"
    }
   },
   "id": "d284b68c08d5982b"
  },
  {
   "cell_type": "code",
   "execution_count": 158,
   "outputs": [
    {
     "data": {
      "text/plain": "0.875"
     },
     "execution_count": 158,
     "metadata": {},
     "output_type": "execute_result"
    }
   ],
   "source": [
    "get_r2_score(df_without_categorical)"
   ],
   "metadata": {
    "collapsed": false,
    "ExecuteTime": {
     "end_time": "2023-12-20T10:44:07.441343900Z",
     "start_time": "2023-12-20T10:44:07.419343900Z"
    }
   },
   "id": "25af47c59b0a037"
  },
  {
   "cell_type": "code",
   "execution_count": 159,
   "outputs": [
    {
     "data": {
      "text/plain": "     Weight       Height       Width        Length\n0     150.0   195.566492   52.920218  -1515.464970\n1     250.0   386.273710   95.206103    -28.331510\n2     430.0  1926.992424  135.321746      3.780985\n3     925.0  6596.227555  307.505871   7738.235923\n4     110.0   184.462936   44.928179  -2846.376115\n..      ...          ...         ...           ...\n114   273.0  1363.200233   71.163818   -253.373508\n115   500.0   337.153536  117.361115  21294.896091\n116  1000.0  1885.483738  277.805953   7463.435167\n117   120.0   228.099131   39.564674  -1926.494847\n118   820.0  1921.098539  397.292313   5116.669413\n\n[119 rows x 4 columns]",
      "text/html": "<div>\n<style scoped>\n    .dataframe tbody tr th:only-of-type {\n        vertical-align: middle;\n    }\n\n    .dataframe tbody tr th {\n        vertical-align: top;\n    }\n\n    .dataframe thead th {\n        text-align: right;\n    }\n</style>\n<table border=\"1\" class=\"dataframe\">\n  <thead>\n    <tr style=\"text-align: right;\">\n      <th></th>\n      <th>Weight</th>\n      <th>Height</th>\n      <th>Width</th>\n      <th>Length</th>\n    </tr>\n  </thead>\n  <tbody>\n    <tr>\n      <th>0</th>\n      <td>150.0</td>\n      <td>195.566492</td>\n      <td>52.920218</td>\n      <td>-1515.464970</td>\n    </tr>\n    <tr>\n      <th>1</th>\n      <td>250.0</td>\n      <td>386.273710</td>\n      <td>95.206103</td>\n      <td>-28.331510</td>\n    </tr>\n    <tr>\n      <th>2</th>\n      <td>430.0</td>\n      <td>1926.992424</td>\n      <td>135.321746</td>\n      <td>3.780985</td>\n    </tr>\n    <tr>\n      <th>3</th>\n      <td>925.0</td>\n      <td>6596.227555</td>\n      <td>307.505871</td>\n      <td>7738.235923</td>\n    </tr>\n    <tr>\n      <th>4</th>\n      <td>110.0</td>\n      <td>184.462936</td>\n      <td>44.928179</td>\n      <td>-2846.376115</td>\n    </tr>\n    <tr>\n      <th>...</th>\n      <td>...</td>\n      <td>...</td>\n      <td>...</td>\n      <td>...</td>\n    </tr>\n    <tr>\n      <th>114</th>\n      <td>273.0</td>\n      <td>1363.200233</td>\n      <td>71.163818</td>\n      <td>-253.373508</td>\n    </tr>\n    <tr>\n      <th>115</th>\n      <td>500.0</td>\n      <td>337.153536</td>\n      <td>117.361115</td>\n      <td>21294.896091</td>\n    </tr>\n    <tr>\n      <th>116</th>\n      <td>1000.0</td>\n      <td>1885.483738</td>\n      <td>277.805953</td>\n      <td>7463.435167</td>\n    </tr>\n    <tr>\n      <th>117</th>\n      <td>120.0</td>\n      <td>228.099131</td>\n      <td>39.564674</td>\n      <td>-1926.494847</td>\n    </tr>\n    <tr>\n      <th>118</th>\n      <td>820.0</td>\n      <td>1921.098539</td>\n      <td>397.292313</td>\n      <td>5116.669413</td>\n    </tr>\n  </tbody>\n</table>\n<p>119 rows × 4 columns</p>\n</div>"
     },
     "execution_count": 159,
     "metadata": {},
     "output_type": "execute_result"
    }
   ],
   "source": [
    "df_without_categorical.Length = df_without_categorical.Length ** 3 \n",
    "df_without_categorical.Width = df_without_categorical.Width ** 3 \n",
    "df_without_categorical.Height = df_without_categorical.Height ** 3 \n",
    "df_without_categorical"
   ],
   "metadata": {
    "collapsed": false,
    "ExecuteTime": {
     "end_time": "2023-12-20T10:44:07.805020900Z",
     "start_time": "2023-12-20T10:44:07.772045500Z"
    }
   },
   "id": "7f9982b387af3f16"
  },
  {
   "cell_type": "code",
   "execution_count": 166,
   "outputs": [
    {
     "data": {
      "text/plain": "130.74"
     },
     "execution_count": 166,
     "metadata": {},
     "output_type": "execute_result"
    }
   ],
   "source": [
    "np.round(df_without_categorical.Width.mean(), 3)\n",
    "\n",
    "X_cubed, Y_cubed = split_dataset(df_without_categorical, 'Weight')\n",
    "    \n",
    "X_train_cubed, _, _, _ = train_test_split(X_cubed, Y_cubed, test_size=0.2, random_state=33, stratify=df['Species'])\n",
    "\n",
    "np.round(X_train_cubed.Width.mean(), 3)"
   ],
   "metadata": {
    "collapsed": false,
    "ExecuteTime": {
     "end_time": "2023-12-20T10:47:30.991974800Z",
     "start_time": "2023-12-20T10:47:30.937133600Z"
    }
   },
   "id": "c658e7bedf8f74ea"
  },
  {
   "cell_type": "code",
   "execution_count": 134,
   "outputs": [
    {
     "data": {
      "text/plain": "<matplotlib.collections.PathCollection at 0x13c7b228b80>"
     },
     "execution_count": 134,
     "metadata": {},
     "output_type": "execute_result"
    },
    {
     "data": {
      "text/plain": "<Figure size 640x480 with 1 Axes>",
      "image/png": "[encoded data removed]"
     },
     "metadata": {},
     "output_type": "display_data"
    }
   ],
   "source": [
    "plt.scatter(df_without_categorical.Width, df_without_categorical.Weight)"
   ],
   "metadata": {
    "collapsed": false,
    "ExecuteTime": {
     "end_time": "2023-12-20T10:38:32.211906700Z",
     "start_time": "2023-12-20T10:38:32.075877600Z"
    }
   },
   "id": "dce2acf79923dfef"
  },
  {
   "cell_type": "code",
   "execution_count": 135,
   "outputs": [
    {
     "data": {
      "text/plain": "0.952"
     },
     "execution_count": 135,
     "metadata": {},
     "output_type": "execute_result"
    }
   ],
   "source": [
    "get_r2_score(df_without_categorical)"
   ],
   "metadata": {
    "collapsed": false,
    "ExecuteTime": {
     "end_time": "2023-12-20T10:38:33.398085900Z",
     "start_time": "2023-12-20T10:38:33.358937Z"
    }
   },
   "id": "18dcb2d9852b7097"
  },
  {
   "cell_type": "code",
   "execution_count": 136,
   "outputs": [
    {
     "data": {
      "text/plain": "     Bream  Parkki  Perch   Pike  Roach  Smelt  Whitefish\n0    False   False  False  False   True  False      False\n1    False   False   True  False  False  False      False\n2     True   False  False  False  False  False      False\n3     True   False  False  False  False  False      False\n4    False   False   True  False  False  False      False\n..     ...     ...    ...    ...    ...    ...        ...\n114  False    True  False  False  False  False      False\n115  False   False  False   True  False  False      False\n116  False   False  False  False  False  False       True\n117  False   False   True  False  False  False      False\n118  False   False   True  False  False  False      False\n\n[119 rows x 7 columns]",
      "text/html": "<div>\n<style scoped>\n    .dataframe tbody tr th:only-of-type {\n        vertical-align: middle;\n    }\n\n    .dataframe tbody tr th {\n        vertical-align: top;\n    }\n\n    .dataframe thead th {\n        text-align: right;\n    }\n</style>\n<table border=\"1\" class=\"dataframe\">\n  <thead>\n    <tr style=\"text-align: right;\">\n      <th></th>\n      <th>Bream</th>\n      <th>Parkki</th>\n      <th>Perch</th>\n      <th>Pike</th>\n      <th>Roach</th>\n      <th>Smelt</th>\n      <th>Whitefish</th>\n    </tr>\n  </thead>\n  <tbody>\n    <tr>\n      <th>0</th>\n      <td>False</td>\n      <td>False</td>\n      <td>False</td>\n      <td>False</td>\n      <td>True</td>\n      <td>False</td>\n      <td>False</td>\n    </tr>\n    <tr>\n      <th>1</th>\n      <td>False</td>\n      <td>False</td>\n      <td>True</td>\n      <td>False</td>\n      <td>False</td>\n      <td>False</td>\n      <td>False</td>\n    </tr>\n    <tr>\n      <th>2</th>\n      <td>True</td>\n      <td>False</td>\n      <td>False</td>\n      <td>False</td>\n      <td>False</td>\n      <td>False</td>\n      <td>False</td>\n    </tr>\n    <tr>\n      <th>3</th>\n      <td>True</td>\n      <td>False</td>\n      <td>False</td>\n      <td>False</td>\n      <td>False</td>\n      <td>False</td>\n      <td>False</td>\n    </tr>\n    <tr>\n      <th>4</th>\n      <td>False</td>\n      <td>False</td>\n      <td>True</td>\n      <td>False</td>\n      <td>False</td>\n      <td>False</td>\n      <td>False</td>\n    </tr>\n    <tr>\n      <th>...</th>\n      <td>...</td>\n      <td>...</td>\n      <td>...</td>\n      <td>...</td>\n      <td>...</td>\n      <td>...</td>\n      <td>...</td>\n    </tr>\n    <tr>\n      <th>114</th>\n      <td>False</td>\n      <td>True</td>\n      <td>False</td>\n      <td>False</td>\n      <td>False</td>\n      <td>False</td>\n      <td>False</td>\n    </tr>\n    <tr>\n      <th>115</th>\n      <td>False</td>\n      <td>False</td>\n      <td>False</td>\n      <td>True</td>\n      <td>False</td>\n      <td>False</td>\n      <td>False</td>\n    </tr>\n    <tr>\n      <th>116</th>\n      <td>False</td>\n      <td>False</td>\n      <td>False</td>\n      <td>False</td>\n      <td>False</td>\n      <td>False</td>\n      <td>True</td>\n    </tr>\n    <tr>\n      <th>117</th>\n      <td>False</td>\n      <td>False</td>\n      <td>True</td>\n      <td>False</td>\n      <td>False</td>\n      <td>False</td>\n      <td>False</td>\n    </tr>\n    <tr>\n      <th>118</th>\n      <td>False</td>\n      <td>False</td>\n      <td>True</td>\n      <td>False</td>\n      <td>False</td>\n      <td>False</td>\n      <td>False</td>\n    </tr>\n  </tbody>\n</table>\n<p>119 rows × 7 columns</p>\n</div>"
     },
     "execution_count": 136,
     "metadata": {},
     "output_type": "execute_result"
    }
   ],
   "source": [
    "dummies = pd.get_dummies(df['Species'])\n",
    "dummies"
   ],
   "metadata": {
    "collapsed": false,
    "ExecuteTime": {
     "end_time": "2023-12-20T10:38:35.615516400Z",
     "start_time": "2023-12-20T10:38:35.594477400Z"
    }
   },
   "id": "4bb32fb50ee1d50b"
  },
  {
   "cell_type": "code",
   "execution_count": 139,
   "outputs": [
    {
     "data": {
      "text/plain": "     Weight       Height       Width        Length  Bream  Parkki  Perch  \\\n0     150.0   195.566492   52.920218  -1515.464970  False   False  False   \n1     250.0   386.273710   95.206103    -28.331510  False   False   True   \n2     430.0  1926.992424  135.321746      3.780985   True   False  False   \n3     925.0  6596.227555  307.505871   7738.235923   True   False  False   \n4     110.0   184.462936   44.928179  -2846.376115  False   False   True   \n..      ...          ...         ...           ...    ...     ...    ...   \n114   273.0  1363.200233   71.163818   -253.373508  False    True  False   \n115   500.0   337.153536  117.361115  21294.896091  False   False  False   \n116  1000.0  1885.483738  277.805953   7463.435167  False   False  False   \n117   120.0   228.099131   39.564674  -1926.494847  False   False   True   \n118   820.0  1921.098539  397.292313   5116.669413  False   False   True   \n\n      Pike  Roach  Smelt  Whitefish  \n0    False   True  False      False  \n1    False  False  False      False  \n2    False  False  False      False  \n3    False  False  False      False  \n4    False  False  False      False  \n..     ...    ...    ...        ...  \n114  False  False  False      False  \n115   True  False  False      False  \n116  False  False  False       True  \n117  False  False  False      False  \n118  False  False  False      False  \n\n[119 rows x 11 columns]",
      "text/html": "<div>\n<style scoped>\n    .dataframe tbody tr th:only-of-type {\n        vertical-align: middle;\n    }\n\n    .dataframe tbody tr th {\n        vertical-align: top;\n    }\n\n    .dataframe thead th {\n        text-align: right;\n    }\n</style>\n<table border=\"1\" class=\"dataframe\">\n  <thead>\n    <tr style=\"text-align: right;\">\n      <th></th>\n      <th>Weight</th>\n      <th>Height</th>\n      <th>Width</th>\n      <th>Length</th>\n      <th>Bream</th>\n      <th>Parkki</th>\n      <th>Perch</th>\n      <th>Pike</th>\n      <th>Roach</th>\n      <th>Smelt</th>\n      <th>Whitefish</th>\n    </tr>\n  </thead>\n  <tbody>\n    <tr>\n      <th>0</th>\n      <td>150.0</td>\n      <td>195.566492</td>\n      <td>52.920218</td>\n      <td>-1515.464970</td>\n      <td>False</td>\n      <td>False</td>\n      <td>False</td>\n      <td>False</td>\n      <td>True</td>\n      <td>False</td>\n      <td>False</td>\n    </tr>\n    <tr>\n      <th>1</th>\n      <td>250.0</td>\n      <td>386.273710</td>\n      <td>95.206103</td>\n      <td>-28.331510</td>\n      <td>False</td>\n      <td>False</td>\n      <td>True</td>\n      <td>False</td>\n      <td>False</td>\n      <td>False</td>\n      <td>False</td>\n    </tr>\n    <tr>\n      <th>2</th>\n      <td>430.0</td>\n      <td>1926.992424</td>\n      <td>135.321746</td>\n      <td>3.780985</td>\n      <td>True</td>\n      <td>False</td>\n      <td>False</td>\n      <td>False</td>\n      <td>False</td>\n      <td>False</td>\n      <td>False</td>\n    </tr>\n    <tr>\n      <th>3</th>\n      <td>925.0</td>\n      <td>6596.227555</td>\n      <td>307.505871</td>\n      <td>7738.235923</td>\n      <td>True</td>\n      <td>False</td>\n      <td>False</td>\n      <td>False</td>\n      <td>False</td>\n      <td>False</td>\n      <td>False</td>\n    </tr>\n    <tr>\n      <th>4</th>\n      <td>110.0</td>\n      <td>184.462936</td>\n      <td>44.928179</td>\n      <td>-2846.376115</td>\n      <td>False</td>\n      <td>False</td>\n      <td>True</td>\n      <td>False</td>\n      <td>False</td>\n      <td>False</td>\n      <td>False</td>\n    </tr>\n    <tr>\n      <th>...</th>\n      <td>...</td>\n      <td>...</td>\n      <td>...</td>\n      <td>...</td>\n      <td>...</td>\n      <td>...</td>\n      <td>...</td>\n      <td>...</td>\n      <td>...</td>\n      <td>...</td>\n      <td>...</td>\n    </tr>\n    <tr>\n      <th>114</th>\n      <td>273.0</td>\n      <td>1363.200233</td>\n      <td>71.163818</td>\n      <td>-253.373508</td>\n      <td>False</td>\n      <td>True</td>\n      <td>False</td>\n      <td>False</td>\n      <td>False</td>\n      <td>False</td>\n      <td>False</td>\n    </tr>\n    <tr>\n      <th>115</th>\n      <td>500.0</td>\n      <td>337.153536</td>\n      <td>117.361115</td>\n      <td>21294.896091</td>\n      <td>False</td>\n      <td>False</td>\n      <td>False</td>\n      <td>True</td>\n      <td>False</td>\n      <td>False</td>\n      <td>False</td>\n    </tr>\n    <tr>\n      <th>116</th>\n      <td>1000.0</td>\n      <td>1885.483738</td>\n      <td>277.805953</td>\n      <td>7463.435167</td>\n      <td>False</td>\n      <td>False</td>\n      <td>False</td>\n      <td>False</td>\n      <td>False</td>\n      <td>False</td>\n      <td>True</td>\n    </tr>\n    <tr>\n      <th>117</th>\n      <td>120.0</td>\n      <td>228.099131</td>\n      <td>39.564674</td>\n      <td>-1926.494847</td>\n      <td>False</td>\n      <td>False</td>\n      <td>True</td>\n      <td>False</td>\n      <td>False</td>\n      <td>False</td>\n      <td>False</td>\n    </tr>\n    <tr>\n      <th>118</th>\n      <td>820.0</td>\n      <td>1921.098539</td>\n      <td>397.292313</td>\n      <td>5116.669413</td>\n      <td>False</td>\n      <td>False</td>\n      <td>True</td>\n      <td>False</td>\n      <td>False</td>\n      <td>False</td>\n      <td>False</td>\n    </tr>\n  </tbody>\n</table>\n<p>119 rows × 11 columns</p>\n</div>"
     },
     "execution_count": 139,
     "metadata": {},
     "output_type": "execute_result"
    }
   ],
   "source": [
    "df_categorical = df_without_categorical.join(dummies)\n",
    "df_categorical"
   ],
   "metadata": {
    "collapsed": false,
    "ExecuteTime": {
     "end_time": "2023-12-20T10:39:46.459956600Z",
     "start_time": "2023-12-20T10:39:46.435554600Z"
    }
   },
   "id": "85ad7f6c54b35214"
  },
  {
   "cell_type": "code",
   "execution_count": 140,
   "outputs": [
    {
     "data": {
      "text/plain": "0.945"
     },
     "execution_count": 140,
     "metadata": {},
     "output_type": "execute_result"
    }
   ],
   "source": [
    "get_r2_score(df_categorical)"
   ],
   "metadata": {
    "collapsed": false,
    "ExecuteTime": {
     "end_time": "2023-12-20T10:40:17.664680Z",
     "start_time": "2023-12-20T10:40:17.600627700Z"
    }
   },
   "id": "de53c72825e0052f"
  },
  {
   "cell_type": "code",
   "execution_count": 141,
   "outputs": [
    {
     "data": {
      "text/plain": "     Parkki  Perch   Pike  Roach  Smelt  Whitefish\n0     False  False  False   True  False      False\n1     False   True  False  False  False      False\n2     False  False  False  False  False      False\n3     False  False  False  False  False      False\n4     False   True  False  False  False      False\n..      ...    ...    ...    ...    ...        ...\n114    True  False  False  False  False      False\n115   False  False   True  False  False      False\n116   False  False  False  False  False       True\n117   False   True  False  False  False      False\n118   False   True  False  False  False      False\n\n[119 rows x 6 columns]",
      "text/html": "<div>\n<style scoped>\n    .dataframe tbody tr th:only-of-type {\n        vertical-align: middle;\n    }\n\n    .dataframe tbody tr th {\n        vertical-align: top;\n    }\n\n    .dataframe thead th {\n        text-align: right;\n    }\n</style>\n<table border=\"1\" class=\"dataframe\">\n  <thead>\n    <tr style=\"text-align: right;\">\n      <th></th>\n      <th>Parkki</th>\n      <th>Perch</th>\n      <th>Pike</th>\n      <th>Roach</th>\n      <th>Smelt</th>\n      <th>Whitefish</th>\n    </tr>\n  </thead>\n  <tbody>\n    <tr>\n      <th>0</th>\n      <td>False</td>\n      <td>False</td>\n      <td>False</td>\n      <td>True</td>\n      <td>False</td>\n      <td>False</td>\n    </tr>\n    <tr>\n      <th>1</th>\n      <td>False</td>\n      <td>True</td>\n      <td>False</td>\n      <td>False</td>\n      <td>False</td>\n      <td>False</td>\n    </tr>\n    <tr>\n      <th>2</th>\n      <td>False</td>\n      <td>False</td>\n      <td>False</td>\n      <td>False</td>\n      <td>False</td>\n      <td>False</td>\n    </tr>\n    <tr>\n      <th>3</th>\n      <td>False</td>\n      <td>False</td>\n      <td>False</td>\n      <td>False</td>\n      <td>False</td>\n      <td>False</td>\n    </tr>\n    <tr>\n      <th>4</th>\n      <td>False</td>\n      <td>True</td>\n      <td>False</td>\n      <td>False</td>\n      <td>False</td>\n      <td>False</td>\n    </tr>\n    <tr>\n      <th>...</th>\n      <td>...</td>\n      <td>...</td>\n      <td>...</td>\n      <td>...</td>\n      <td>...</td>\n      <td>...</td>\n    </tr>\n    <tr>\n      <th>114</th>\n      <td>True</td>\n      <td>False</td>\n      <td>False</td>\n      <td>False</td>\n      <td>False</td>\n      <td>False</td>\n    </tr>\n    <tr>\n      <th>115</th>\n      <td>False</td>\n      <td>False</td>\n      <td>True</td>\n      <td>False</td>\n      <td>False</td>\n      <td>False</td>\n    </tr>\n    <tr>\n      <th>116</th>\n      <td>False</td>\n      <td>False</td>\n      <td>False</td>\n      <td>False</td>\n      <td>False</td>\n      <td>True</td>\n    </tr>\n    <tr>\n      <th>117</th>\n      <td>False</td>\n      <td>True</td>\n      <td>False</td>\n      <td>False</td>\n      <td>False</td>\n      <td>False</td>\n    </tr>\n    <tr>\n      <th>118</th>\n      <td>False</td>\n      <td>True</td>\n      <td>False</td>\n      <td>False</td>\n      <td>False</td>\n      <td>False</td>\n    </tr>\n  </tbody>\n</table>\n<p>119 rows × 6 columns</p>\n</div>"
     },
     "execution_count": 141,
     "metadata": {},
     "output_type": "execute_result"
    }
   ],
   "source": [
    "dummies = pd.get_dummies(df['Species'], drop_first=True)\n",
    "dummies"
   ],
   "metadata": {
    "collapsed": false,
    "ExecuteTime": {
     "end_time": "2023-12-20T10:40:53.487238700Z",
     "start_time": "2023-12-20T10:40:53.383128600Z"
    }
   },
   "id": "95c7787fed65c44c"
  },
  {
   "cell_type": "code",
   "execution_count": 142,
   "outputs": [
    {
     "data": {
      "text/plain": "     Weight       Height       Width        Length  Parkki  Perch   Pike  \\\n0     150.0   195.566492   52.920218  -1515.464970   False  False  False   \n1     250.0   386.273710   95.206103    -28.331510   False   True  False   \n2     430.0  1926.992424  135.321746      3.780985   False  False  False   \n3     925.0  6596.227555  307.505871   7738.235923   False  False  False   \n4     110.0   184.462936   44.928179  -2846.376115   False   True  False   \n..      ...          ...         ...           ...     ...    ...    ...   \n114   273.0  1363.200233   71.163818   -253.373508    True  False  False   \n115   500.0   337.153536  117.361115  21294.896091   False  False   True   \n116  1000.0  1885.483738  277.805953   7463.435167   False  False  False   \n117   120.0   228.099131   39.564674  -1926.494847   False   True  False   \n118   820.0  1921.098539  397.292313   5116.669413   False   True  False   \n\n     Roach  Smelt  Whitefish  \n0     True  False      False  \n1    False  False      False  \n2    False  False      False  \n3    False  False      False  \n4    False  False      False  \n..     ...    ...        ...  \n114  False  False      False  \n115  False  False      False  \n116  False  False       True  \n117  False  False      False  \n118  False  False      False  \n\n[119 rows x 10 columns]",
      "text/html": "<div>\n<style scoped>\n    .dataframe tbody tr th:only-of-type {\n        vertical-align: middle;\n    }\n\n    .dataframe tbody tr th {\n        vertical-align: top;\n    }\n\n    .dataframe thead th {\n        text-align: right;\n    }\n</style>\n<table border=\"1\" class=\"dataframe\">\n  <thead>\n    <tr style=\"text-align: right;\">\n      <th></th>\n      <th>Weight</th>\n      <th>Height</th>\n      <th>Width</th>\n      <th>Length</th>\n      <th>Parkki</th>\n      <th>Perch</th>\n      <th>Pike</th>\n      <th>Roach</th>\n      <th>Smelt</th>\n      <th>Whitefish</th>\n    </tr>\n  </thead>\n  <tbody>\n    <tr>\n      <th>0</th>\n      <td>150.0</td>\n      <td>195.566492</td>\n      <td>52.920218</td>\n      <td>-1515.464970</td>\n      <td>False</td>\n      <td>False</td>\n      <td>False</td>\n      <td>True</td>\n      <td>False</td>\n      <td>False</td>\n    </tr>\n    <tr>\n      <th>1</th>\n      <td>250.0</td>\n      <td>386.273710</td>\n      <td>95.206103</td>\n      <td>-28.331510</td>\n      <td>False</td>\n      <td>True</td>\n      <td>False</td>\n      <td>False</td>\n      <td>False</td>\n      <td>False</td>\n    </tr>\n    <tr>\n      <th>2</th>\n      <td>430.0</td>\n      <td>1926.992424</td>\n      <td>135.321746</td>\n      <td>3.780985</td>\n      <td>False</td>\n      <td>False</td>\n      <td>False</td>\n      <td>False</td>\n      <td>False</td>\n      <td>False</td>\n    </tr>\n    <tr>\n      <th>3</th>\n      <td>925.0</td>\n      <td>6596.227555</td>\n      <td>307.505871</td>\n      <td>7738.235923</td>\n      <td>False</td>\n      <td>False</td>\n      <td>False</td>\n      <td>False</td>\n      <td>False</td>\n      <td>False</td>\n    </tr>\n    <tr>\n      <th>4</th>\n      <td>110.0</td>\n      <td>184.462936</td>\n      <td>44.928179</td>\n      <td>-2846.376115</td>\n      <td>False</td>\n      <td>True</td>\n      <td>False</td>\n      <td>False</td>\n      <td>False</td>\n      <td>False</td>\n    </tr>\n    <tr>\n      <th>...</th>\n      <td>...</td>\n      <td>...</td>\n      <td>...</td>\n      <td>...</td>\n      <td>...</td>\n      <td>...</td>\n      <td>...</td>\n      <td>...</td>\n      <td>...</td>\n      <td>...</td>\n    </tr>\n    <tr>\n      <th>114</th>\n      <td>273.0</td>\n      <td>1363.200233</td>\n      <td>71.163818</td>\n      <td>-253.373508</td>\n      <td>True</td>\n      <td>False</td>\n      <td>False</td>\n      <td>False</td>\n      <td>False</td>\n      <td>False</td>\n    </tr>\n    <tr>\n      <th>115</th>\n      <td>500.0</td>\n      <td>337.153536</td>\n      <td>117.361115</td>\n      <td>21294.896091</td>\n      <td>False</td>\n      <td>False</td>\n      <td>True</td>\n      <td>False</td>\n      <td>False</td>\n      <td>False</td>\n    </tr>\n    <tr>\n      <th>116</th>\n      <td>1000.0</td>\n      <td>1885.483738</td>\n      <td>277.805953</td>\n      <td>7463.435167</td>\n      <td>False</td>\n      <td>False</td>\n      <td>False</td>\n      <td>False</td>\n      <td>False</td>\n      <td>True</td>\n    </tr>\n    <tr>\n      <th>117</th>\n      <td>120.0</td>\n      <td>228.099131</td>\n      <td>39.564674</td>\n      <td>-1926.494847</td>\n      <td>False</td>\n      <td>True</td>\n      <td>False</td>\n      <td>False</td>\n      <td>False</td>\n      <td>False</td>\n    </tr>\n    <tr>\n      <th>118</th>\n      <td>820.0</td>\n      <td>1921.098539</td>\n      <td>397.292313</td>\n      <td>5116.669413</td>\n      <td>False</td>\n      <td>True</td>\n      <td>False</td>\n      <td>False</td>\n      <td>False</td>\n      <td>False</td>\n    </tr>\n  </tbody>\n</table>\n<p>119 rows × 10 columns</p>\n</div>"
     },
     "execution_count": 142,
     "metadata": {},
     "output_type": "execute_result"
    }
   ],
   "source": [
    "df_categorical2 = df_without_categorical.join(dummies)\n",
    "df_categorical2"
   ],
   "metadata": {
    "collapsed": false,
    "ExecuteTime": {
     "end_time": "2023-12-20T10:41:18.013965600Z",
     "start_time": "2023-12-20T10:41:17.942966200Z"
    }
   },
   "id": "2d42f667b59e5924"
  },
  {
   "cell_type": "code",
   "execution_count": 143,
   "outputs": [
    {
     "data": {
      "text/plain": "0.945"
     },
     "execution_count": 143,
     "metadata": {},
     "output_type": "execute_result"
    }
   ],
   "source": [
    "get_r2_score(df_categorical2)"
   ],
   "metadata": {
    "collapsed": false,
    "ExecuteTime": {
     "end_time": "2023-12-20T10:41:20.823215600Z",
     "start_time": "2023-12-20T10:41:20.787217400Z"
    }
   },
   "id": "e7c5385d11c8cc02"
  },
  {
   "cell_type": "code",
   "execution_count": null,
   "outputs": [],
   "source": [],
   "metadata": {
    "collapsed": false
   },
   "id": "5996516d17110033"
  }
 ],
 "metadata": {
  "kernelspec": {
   "display_name": "Python 3",
   "language": "python",
   "name": "python3"
  },
  "language_info": {
   "codemirror_mode": {
    "name": "ipython",
    "version": 2
   },
   "file_extension": ".py",
   "mimetype": "text/x-python",
   "name": "python",
   "nbconvert_exporter": "python",
   "pygments_lexer": "ipython2",
   "version": "2.7.6"
  }
 },
 "nbformat": 4,
 "nbformat_minor": 5
}
