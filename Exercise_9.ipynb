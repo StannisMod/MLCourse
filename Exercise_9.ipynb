{
 "cells": [
  {
   "cell_type": "code",
   "execution_count": 1,
   "id": "initial_id",
   "metadata": {
    "collapsed": true,
    "ExecuteTime": {
     "end_time": "2023-12-24T16:22:55.311579500Z",
     "start_time": "2023-12-24T16:22:55.123177Z"
    }
   },
   "outputs": [],
   "source": [
    "import math\n",
    "\n",
    "from sklearn.linear_model import LogisticRegression\n",
    "import pandas as pd\n",
    "import numpy as np\n",
    "import seaborn as sns\n",
    "import matplotlib.pyplot as plt"
   ]
  },
  {
   "cell_type": "code",
   "execution_count": 2,
   "outputs": [
    {
     "data": {
      "text/plain": "           date  day    period  nswprice  nswdemand  vicprice  vicdemand  \\\n0      0.425556    6  0.723404  0.076258   0.311366  0.003467   0.422915   \n1      0.867351    7  0.808511  0.028131   0.299018  0.001838   0.325738   \n2      0.031680    1  0.723404  0.055242   0.398691  0.003467   0.422915   \n3      0.867793    3  1.000000  0.028822   0.396162  0.001014   0.394873   \n4      0.880536    4  0.978723  0.040741   0.468908  0.002655   0.425427   \n...         ...  ...       ...       ...        ...       ...        ...   \n36244  0.447281    2  0.723404  0.087096   0.845879  0.006061   0.687209   \n36245  0.429583    7  0.425532  0.058034   0.372657  0.003467   0.422915   \n36246  0.013053    5  0.468085  0.041732   0.558465  0.003467   0.422915   \n36247  0.889739    3  0.872340  0.078179   0.730586  0.005393   0.599171   \n36248  0.429096    3  0.063830  0.055242   0.193692  0.003467   0.422915   \n\n       transfer  class  \n0      0.414912      1  \n1      0.832018      0  \n2      0.414912      0  \n3      0.639474      0  \n4      0.630702      1  \n...         ...    ...  \n36244  0.327632      1  \n36245  0.414912      0  \n36246  0.414912      0  \n36247  0.476754      1  \n36248  0.414912      0  \n\n[36249 rows x 9 columns]",
      "text/html": "<div>\n<style scoped>\n    .dataframe tbody tr th:only-of-type {\n        vertical-align: middle;\n    }\n\n    .dataframe tbody tr th {\n        vertical-align: top;\n    }\n\n    .dataframe thead th {\n        text-align: right;\n    }\n</style>\n<table border=\"1\" class=\"dataframe\">\n  <thead>\n    <tr style=\"text-align: right;\">\n      <th></th>\n      <th>date</th>\n      <th>day</th>\n      <th>period</th>\n      <th>nswprice</th>\n      <th>nswdemand</th>\n      <th>vicprice</th>\n      <th>vicdemand</th>\n      <th>transfer</th>\n      <th>class</th>\n    </tr>\n  </thead>\n  <tbody>\n    <tr>\n      <th>0</th>\n      <td>0.425556</td>\n      <td>6</td>\n      <td>0.723404</td>\n      <td>0.076258</td>\n      <td>0.311366</td>\n      <td>0.003467</td>\n      <td>0.422915</td>\n      <td>0.414912</td>\n      <td>1</td>\n    </tr>\n    <tr>\n      <th>1</th>\n      <td>0.867351</td>\n      <td>7</td>\n      <td>0.808511</td>\n      <td>0.028131</td>\n      <td>0.299018</td>\n      <td>0.001838</td>\n      <td>0.325738</td>\n      <td>0.832018</td>\n      <td>0</td>\n    </tr>\n    <tr>\n      <th>2</th>\n      <td>0.031680</td>\n      <td>1</td>\n      <td>0.723404</td>\n      <td>0.055242</td>\n      <td>0.398691</td>\n      <td>0.003467</td>\n      <td>0.422915</td>\n      <td>0.414912</td>\n      <td>0</td>\n    </tr>\n    <tr>\n      <th>3</th>\n      <td>0.867793</td>\n      <td>3</td>\n      <td>1.000000</td>\n      <td>0.028822</td>\n      <td>0.396162</td>\n      <td>0.001014</td>\n      <td>0.394873</td>\n      <td>0.639474</td>\n      <td>0</td>\n    </tr>\n    <tr>\n      <th>4</th>\n      <td>0.880536</td>\n      <td>4</td>\n      <td>0.978723</td>\n      <td>0.040741</td>\n      <td>0.468908</td>\n      <td>0.002655</td>\n      <td>0.425427</td>\n      <td>0.630702</td>\n      <td>1</td>\n    </tr>\n    <tr>\n      <th>...</th>\n      <td>...</td>\n      <td>...</td>\n      <td>...</td>\n      <td>...</td>\n      <td>...</td>\n      <td>...</td>\n      <td>...</td>\n      <td>...</td>\n      <td>...</td>\n    </tr>\n    <tr>\n      <th>36244</th>\n      <td>0.447281</td>\n      <td>2</td>\n      <td>0.723404</td>\n      <td>0.087096</td>\n      <td>0.845879</td>\n      <td>0.006061</td>\n      <td>0.687209</td>\n      <td>0.327632</td>\n      <td>1</td>\n    </tr>\n    <tr>\n      <th>36245</th>\n      <td>0.429583</td>\n      <td>7</td>\n      <td>0.425532</td>\n      <td>0.058034</td>\n      <td>0.372657</td>\n      <td>0.003467</td>\n      <td>0.422915</td>\n      <td>0.414912</td>\n      <td>0</td>\n    </tr>\n    <tr>\n      <th>36246</th>\n      <td>0.013053</td>\n      <td>5</td>\n      <td>0.468085</td>\n      <td>0.041732</td>\n      <td>0.558465</td>\n      <td>0.003467</td>\n      <td>0.422915</td>\n      <td>0.414912</td>\n      <td>0</td>\n    </tr>\n    <tr>\n      <th>36247</th>\n      <td>0.889739</td>\n      <td>3</td>\n      <td>0.872340</td>\n      <td>0.078179</td>\n      <td>0.730586</td>\n      <td>0.005393</td>\n      <td>0.599171</td>\n      <td>0.476754</td>\n      <td>1</td>\n    </tr>\n    <tr>\n      <th>36248</th>\n      <td>0.429096</td>\n      <td>3</td>\n      <td>0.063830</td>\n      <td>0.055242</td>\n      <td>0.193692</td>\n      <td>0.003467</td>\n      <td>0.422915</td>\n      <td>0.414912</td>\n      <td>0</td>\n    </tr>\n  </tbody>\n</table>\n<p>36249 rows × 9 columns</p>\n</div>"
     },
     "execution_count": 2,
     "metadata": {},
     "output_type": "execute_result"
    }
   ],
   "source": [
    "df = pd.read_csv('data/9/electricity_train.csv')\n",
    "df"
   ],
   "metadata": {
    "collapsed": false,
    "ExecuteTime": {
     "end_time": "2023-12-24T16:29:18.396822500Z",
     "start_time": "2023-12-24T16:29:18.326822300Z"
    }
   },
   "id": "a16244aff0565d04"
  },
  {
   "cell_type": "code",
   "execution_count": 5,
   "outputs": [
    {
     "data": {
      "text/plain": "0.425"
     },
     "execution_count": 5,
     "metadata": {},
     "output_type": "execute_result"
    }
   ],
   "source": [
    "np.round(df['class'].sum() / df['class'].count(), 3)"
   ],
   "metadata": {
    "collapsed": false,
    "ExecuteTime": {
     "end_time": "2023-12-24T16:30:10.627412700Z",
     "start_time": "2023-12-24T16:30:10.589387100Z"
    }
   },
   "id": "51bdae517ab2eeab"
  },
  {
   "cell_type": "code",
   "execution_count": null,
   "outputs": [],
   "source": [],
   "metadata": {
    "collapsed": false
   },
   "id": "ba5b6d58182d62d6"
  }
 ],
 "metadata": {
  "kernelspec": {
   "display_name": "Python 3",
   "language": "python",
   "name": "python3"
  },
  "language_info": {
   "codemirror_mode": {
    "name": "ipython",
    "version": 2
   },
   "file_extension": ".py",
   "mimetype": "text/x-python",
   "name": "python",
   "nbconvert_exporter": "python",
   "pygments_lexer": "ipython2",
   "version": "2.7.6"
  }
 },
 "nbformat": 4,
 "nbformat_minor": 5
}
