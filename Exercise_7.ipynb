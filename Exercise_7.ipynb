{
 "cells": [
  {
   "cell_type": "code",
   "execution_count": 1,
   "id": "initial_id",
   "metadata": {
    "collapsed": true,
    "ExecuteTime": {
     "end_time": "2023-12-26T09:14:56.745277200Z",
     "start_time": "2023-12-26T09:14:56.422186400Z"
    }
   },
   "outputs": [],
   "source": [
    "import math\n",
    "\n",
    "from sklearn.linear_model import LogisticRegression\n",
    "import pandas as pd\n",
    "import numpy as np\n",
    "import seaborn as sns\n",
    "import matplotlib.pyplot as plt"
   ]
  },
  {
   "cell_type": "code",
   "execution_count": 2,
   "outputs": [
    {
     "data": {
      "text/plain": "        ID  Age  Experience  Income  ZIP Code  Family  CCAvg  Education  \\\n0      409   60          36      89     91745       2    2.8          1   \n1     3738   44          19      30     91423       1    0.5          3   \n2     3890   26           0      19     93014       1    0.1          2   \n3      569   34           9      41     92101       2    0.1          1   \n4     1042   56          32      51     92780       4    1.5          1   \n...    ...  ...         ...     ...       ...     ...    ...        ...   \n3995  4588   37          11      59     94720       4    0.2          3   \n3996  2342   36          10      91     92028       1    1.5          3   \n3997  1586   57          31     131     90502       2    2.7          1   \n3998  3153   40          15      83     90275       1    1.0          3   \n3999  4786   30           5      23     94304       2    0.9          3   \n\n      Mortgage  Personal Loan  Securities Account  CD Account  Online  \\\n0            0              0                   0           0       1   \n1            0              0                   0           0       1   \n2          121              0                   0           0       1   \n3          161              0                   0           0       1   \n4            0              0                   0           0       0   \n...        ...            ...                 ...         ...     ...   \n3995         0              0                   0           0       0   \n3996       289              0                   0           0       1   \n3997         0              0                   0           0       0   \n3998         0              0                   0           0       0   \n3999         0              0                   1           0       1   \n\n      CreditCard  \n0              0  \n1              0  \n2              0  \n3              1  \n4              0  \n...          ...  \n3995           0  \n3996           0  \n3997           0  \n3998           0  \n3999           0  \n\n[4000 rows x 14 columns]",
      "text/html": "<div>\n<style scoped>\n    .dataframe tbody tr th:only-of-type {\n        vertical-align: middle;\n    }\n\n    .dataframe tbody tr th {\n        vertical-align: top;\n    }\n\n    .dataframe thead th {\n        text-align: right;\n    }\n</style>\n<table border=\"1\" class=\"dataframe\">\n  <thead>\n    <tr style=\"text-align: right;\">\n      <th></th>\n      <th>ID</th>\n      <th>Age</th>\n      <th>Experience</th>\n      <th>Income</th>\n      <th>ZIP Code</th>\n      <th>Family</th>\n      <th>CCAvg</th>\n      <th>Education</th>\n      <th>Mortgage</th>\n      <th>Personal Loan</th>\n      <th>Securities Account</th>\n      <th>CD Account</th>\n      <th>Online</th>\n      <th>CreditCard</th>\n    </tr>\n  </thead>\n  <tbody>\n    <tr>\n      <th>0</th>\n      <td>409</td>\n      <td>60</td>\n      <td>36</td>\n      <td>89</td>\n      <td>91745</td>\n      <td>2</td>\n      <td>2.8</td>\n      <td>1</td>\n      <td>0</td>\n      <td>0</td>\n      <td>0</td>\n      <td>0</td>\n      <td>1</td>\n      <td>0</td>\n    </tr>\n    <tr>\n      <th>1</th>\n      <td>3738</td>\n      <td>44</td>\n      <td>19</td>\n      <td>30</td>\n      <td>91423</td>\n      <td>1</td>\n      <td>0.5</td>\n      <td>3</td>\n      <td>0</td>\n      <td>0</td>\n      <td>0</td>\n      <td>0</td>\n      <td>1</td>\n      <td>0</td>\n    </tr>\n    <tr>\n      <th>2</th>\n      <td>3890</td>\n      <td>26</td>\n      <td>0</td>\n      <td>19</td>\n      <td>93014</td>\n      <td>1</td>\n      <td>0.1</td>\n      <td>2</td>\n      <td>121</td>\n      <td>0</td>\n      <td>0</td>\n      <td>0</td>\n      <td>1</td>\n      <td>0</td>\n    </tr>\n    <tr>\n      <th>3</th>\n      <td>569</td>\n      <td>34</td>\n      <td>9</td>\n      <td>41</td>\n      <td>92101</td>\n      <td>2</td>\n      <td>0.1</td>\n      <td>1</td>\n      <td>161</td>\n      <td>0</td>\n      <td>0</td>\n      <td>0</td>\n      <td>1</td>\n      <td>1</td>\n    </tr>\n    <tr>\n      <th>4</th>\n      <td>1042</td>\n      <td>56</td>\n      <td>32</td>\n      <td>51</td>\n      <td>92780</td>\n      <td>4</td>\n      <td>1.5</td>\n      <td>1</td>\n      <td>0</td>\n      <td>0</td>\n      <td>0</td>\n      <td>0</td>\n      <td>0</td>\n      <td>0</td>\n    </tr>\n    <tr>\n      <th>...</th>\n      <td>...</td>\n      <td>...</td>\n      <td>...</td>\n      <td>...</td>\n      <td>...</td>\n      <td>...</td>\n      <td>...</td>\n      <td>...</td>\n      <td>...</td>\n      <td>...</td>\n      <td>...</td>\n      <td>...</td>\n      <td>...</td>\n      <td>...</td>\n    </tr>\n    <tr>\n      <th>3995</th>\n      <td>4588</td>\n      <td>37</td>\n      <td>11</td>\n      <td>59</td>\n      <td>94720</td>\n      <td>4</td>\n      <td>0.2</td>\n      <td>3</td>\n      <td>0</td>\n      <td>0</td>\n      <td>0</td>\n      <td>0</td>\n      <td>0</td>\n      <td>0</td>\n    </tr>\n    <tr>\n      <th>3996</th>\n      <td>2342</td>\n      <td>36</td>\n      <td>10</td>\n      <td>91</td>\n      <td>92028</td>\n      <td>1</td>\n      <td>1.5</td>\n      <td>3</td>\n      <td>289</td>\n      <td>0</td>\n      <td>0</td>\n      <td>0</td>\n      <td>1</td>\n      <td>0</td>\n    </tr>\n    <tr>\n      <th>3997</th>\n      <td>1586</td>\n      <td>57</td>\n      <td>31</td>\n      <td>131</td>\n      <td>90502</td>\n      <td>2</td>\n      <td>2.7</td>\n      <td>1</td>\n      <td>0</td>\n      <td>0</td>\n      <td>0</td>\n      <td>0</td>\n      <td>0</td>\n      <td>0</td>\n    </tr>\n    <tr>\n      <th>3998</th>\n      <td>3153</td>\n      <td>40</td>\n      <td>15</td>\n      <td>83</td>\n      <td>90275</td>\n      <td>1</td>\n      <td>1.0</td>\n      <td>3</td>\n      <td>0</td>\n      <td>0</td>\n      <td>0</td>\n      <td>0</td>\n      <td>0</td>\n      <td>0</td>\n    </tr>\n    <tr>\n      <th>3999</th>\n      <td>4786</td>\n      <td>30</td>\n      <td>5</td>\n      <td>23</td>\n      <td>94304</td>\n      <td>2</td>\n      <td>0.9</td>\n      <td>3</td>\n      <td>0</td>\n      <td>0</td>\n      <td>1</td>\n      <td>0</td>\n      <td>1</td>\n      <td>0</td>\n    </tr>\n  </tbody>\n</table>\n<p>4000 rows × 14 columns</p>\n</div>"
     },
     "execution_count": 2,
     "metadata": {},
     "output_type": "execute_result"
    }
   ],
   "source": [
    "df = pd.read_csv('data/7/Bank_Personal_Loan_Modelling_train.csv')\n",
    "df_orig = df.copy()\n",
    "df"
   ],
   "metadata": {
    "collapsed": false,
    "ExecuteTime": {
     "end_time": "2023-12-26T09:14:56.822303700Z",
     "start_time": "2023-12-26T09:14:56.745277200Z"
    }
   },
   "id": "6cb0fdc288893bc6"
  },
  {
   "cell_type": "code",
   "execution_count": 3,
   "outputs": [
    {
     "data": {
      "text/plain": "                ID          Age   Experience       Income      ZIP Code  \\\ncount  4000.000000  4000.000000  4000.000000  4000.000000   4000.000000   \nmean   2497.682500    45.429500    20.196250    73.479750  93156.583750   \nstd    1449.723807    11.489235    11.500143    46.321345   2197.762636   \nmin       1.000000    23.000000    -3.000000     8.000000   9307.000000   \n25%    1245.750000    35.000000    10.000000    38.000000  91941.750000   \n50%    2492.500000    45.000000    20.000000    63.000000  93407.000000   \n75%    3767.250000    55.000000    30.000000    98.000000  94608.000000   \nmax    5000.000000    67.000000    43.000000   224.000000  96651.000000   \n\n            Family        CCAvg    Education     Mortgage  Personal Loan  \\\ncount  4000.000000  4000.000000  4000.000000  4000.000000    4000.000000   \nmean      2.381750     1.921805     1.881500    55.968250       0.096000   \nstd       1.149716     1.738974     0.842102   101.054887       0.294628   \nmin       1.000000     0.000000     1.000000     0.000000       0.000000   \n25%       1.000000     0.700000     1.000000     0.000000       0.000000   \n50%       2.000000     1.500000     2.000000     0.000000       0.000000   \n75%       3.000000     2.500000     3.000000   100.000000       0.000000   \nmax       4.000000    10.000000     3.000000   635.000000       1.000000   \n\n       Securities Account   CD Account       Online  CreditCard  \ncount         4000.000000  4000.000000  4000.000000  4000.00000  \nmean             0.104000     0.061500     0.599000     0.29050  \nstd              0.305299     0.240275     0.490162     0.45405  \nmin              0.000000     0.000000     0.000000     0.00000  \n25%              0.000000     0.000000     0.000000     0.00000  \n50%              0.000000     0.000000     1.000000     0.00000  \n75%              0.000000     0.000000     1.000000     1.00000  \nmax              1.000000     1.000000     1.000000     1.00000  ",
      "text/html": "<div>\n<style scoped>\n    .dataframe tbody tr th:only-of-type {\n        vertical-align: middle;\n    }\n\n    .dataframe tbody tr th {\n        vertical-align: top;\n    }\n\n    .dataframe thead th {\n        text-align: right;\n    }\n</style>\n<table border=\"1\" class=\"dataframe\">\n  <thead>\n    <tr style=\"text-align: right;\">\n      <th></th>\n      <th>ID</th>\n      <th>Age</th>\n      <th>Experience</th>\n      <th>Income</th>\n      <th>ZIP Code</th>\n      <th>Family</th>\n      <th>CCAvg</th>\n      <th>Education</th>\n      <th>Mortgage</th>\n      <th>Personal Loan</th>\n      <th>Securities Account</th>\n      <th>CD Account</th>\n      <th>Online</th>\n      <th>CreditCard</th>\n    </tr>\n  </thead>\n  <tbody>\n    <tr>\n      <th>count</th>\n      <td>4000.000000</td>\n      <td>4000.000000</td>\n      <td>4000.000000</td>\n      <td>4000.000000</td>\n      <td>4000.000000</td>\n      <td>4000.000000</td>\n      <td>4000.000000</td>\n      <td>4000.000000</td>\n      <td>4000.000000</td>\n      <td>4000.000000</td>\n      <td>4000.000000</td>\n      <td>4000.000000</td>\n      <td>4000.000000</td>\n      <td>4000.00000</td>\n    </tr>\n    <tr>\n      <th>mean</th>\n      <td>2497.682500</td>\n      <td>45.429500</td>\n      <td>20.196250</td>\n      <td>73.479750</td>\n      <td>93156.583750</td>\n      <td>2.381750</td>\n      <td>1.921805</td>\n      <td>1.881500</td>\n      <td>55.968250</td>\n      <td>0.096000</td>\n      <td>0.104000</td>\n      <td>0.061500</td>\n      <td>0.599000</td>\n      <td>0.29050</td>\n    </tr>\n    <tr>\n      <th>std</th>\n      <td>1449.723807</td>\n      <td>11.489235</td>\n      <td>11.500143</td>\n      <td>46.321345</td>\n      <td>2197.762636</td>\n      <td>1.149716</td>\n      <td>1.738974</td>\n      <td>0.842102</td>\n      <td>101.054887</td>\n      <td>0.294628</td>\n      <td>0.305299</td>\n      <td>0.240275</td>\n      <td>0.490162</td>\n      <td>0.45405</td>\n    </tr>\n    <tr>\n      <th>min</th>\n      <td>1.000000</td>\n      <td>23.000000</td>\n      <td>-3.000000</td>\n      <td>8.000000</td>\n      <td>9307.000000</td>\n      <td>1.000000</td>\n      <td>0.000000</td>\n      <td>1.000000</td>\n      <td>0.000000</td>\n      <td>0.000000</td>\n      <td>0.000000</td>\n      <td>0.000000</td>\n      <td>0.000000</td>\n      <td>0.00000</td>\n    </tr>\n    <tr>\n      <th>25%</th>\n      <td>1245.750000</td>\n      <td>35.000000</td>\n      <td>10.000000</td>\n      <td>38.000000</td>\n      <td>91941.750000</td>\n      <td>1.000000</td>\n      <td>0.700000</td>\n      <td>1.000000</td>\n      <td>0.000000</td>\n      <td>0.000000</td>\n      <td>0.000000</td>\n      <td>0.000000</td>\n      <td>0.000000</td>\n      <td>0.00000</td>\n    </tr>\n    <tr>\n      <th>50%</th>\n      <td>2492.500000</td>\n      <td>45.000000</td>\n      <td>20.000000</td>\n      <td>63.000000</td>\n      <td>93407.000000</td>\n      <td>2.000000</td>\n      <td>1.500000</td>\n      <td>2.000000</td>\n      <td>0.000000</td>\n      <td>0.000000</td>\n      <td>0.000000</td>\n      <td>0.000000</td>\n      <td>1.000000</td>\n      <td>0.00000</td>\n    </tr>\n    <tr>\n      <th>75%</th>\n      <td>3767.250000</td>\n      <td>55.000000</td>\n      <td>30.000000</td>\n      <td>98.000000</td>\n      <td>94608.000000</td>\n      <td>3.000000</td>\n      <td>2.500000</td>\n      <td>3.000000</td>\n      <td>100.000000</td>\n      <td>0.000000</td>\n      <td>0.000000</td>\n      <td>0.000000</td>\n      <td>1.000000</td>\n      <td>1.00000</td>\n    </tr>\n    <tr>\n      <th>max</th>\n      <td>5000.000000</td>\n      <td>67.000000</td>\n      <td>43.000000</td>\n      <td>224.000000</td>\n      <td>96651.000000</td>\n      <td>4.000000</td>\n      <td>10.000000</td>\n      <td>3.000000</td>\n      <td>635.000000</td>\n      <td>1.000000</td>\n      <td>1.000000</td>\n      <td>1.000000</td>\n      <td>1.000000</td>\n      <td>1.00000</td>\n    </tr>\n  </tbody>\n</table>\n</div>"
     },
     "execution_count": 3,
     "metadata": {},
     "output_type": "execute_result"
    }
   ],
   "source": [
    "df.describe()"
   ],
   "metadata": {
    "collapsed": false,
    "ExecuteTime": {
     "end_time": "2023-12-26T09:14:56.842286400Z",
     "start_time": "2023-12-26T09:14:56.791288100Z"
    }
   },
   "id": "710bf53c6bdfbe59"
  },
  {
   "cell_type": "code",
   "execution_count": 4,
   "outputs": [
    {
     "data": {
      "text/plain": "<Axes: >"
     },
     "execution_count": 4,
     "metadata": {},
     "output_type": "execute_result"
    },
    {
     "data": {
      "text/plain": "<Figure size 640x480 with 2 Axes>",
      "image/png": "[encoded data removed]"
     },
     "metadata": {},
     "output_type": "display_data"
    }
   ],
   "source": [
    "sns.heatmap(df.corr())"
   ],
   "metadata": {
    "collapsed": false,
    "ExecuteTime": {
     "end_time": "2023-12-26T09:14:57.239278200Z",
     "start_time": "2023-12-26T09:14:56.837275300Z"
    }
   },
   "id": "5926e01f94376245"
  },
  {
   "cell_type": "code",
   "execution_count": 5,
   "outputs": [],
   "source": [
    "df.drop(['ID', 'ZIP Code'], axis=1, inplace=True)"
   ],
   "metadata": {
    "collapsed": false,
    "ExecuteTime": {
     "end_time": "2023-12-26T09:14:57.258278Z",
     "start_time": "2023-12-26T09:14:57.238278900Z"
    }
   },
   "id": "fe4827a8a8e73751"
  },
  {
   "cell_type": "code",
   "execution_count": 6,
   "outputs": [
    {
     "data": {
      "text/plain": "0"
     },
     "execution_count": 6,
     "metadata": {},
     "output_type": "execute_result"
    }
   ],
   "source": [
    "df['Experience'] -= df['Experience'].min()\n",
    "df['Experience'].min()"
   ],
   "metadata": {
    "collapsed": false,
    "ExecuteTime": {
     "end_time": "2023-12-26T09:14:57.358274400Z",
     "start_time": "2023-12-26T09:14:57.255276300Z"
    }
   },
   "id": "9a806fd41b0ffb1a"
  },
  {
   "cell_type": "code",
   "execution_count": 7,
   "outputs": [
    {
     "data": {
      "text/plain": "      Age  Experience  Income  Family  CCAvg  Education  Mortgage  \\\n0      60          39      89       2    2.8          1         0   \n1      44          22      30       1    0.5          3         0   \n2      26           3      19       1    0.1          2       121   \n3      34          12      41       2    0.1          1       161   \n4      56          35      51       4    1.5          1         0   \n...   ...         ...     ...     ...    ...        ...       ...   \n3995   37          14      59       4    0.2          3         0   \n3996   36          13      91       1    1.5          3       289   \n3997   57          34     131       2    2.7          1         0   \n3998   40          18      83       1    1.0          3         0   \n3999   30           8      23       2    0.9          3         0   \n\n      Personal Loan  Securities Account  CD Account  Online  CreditCard  \n0                 0                   0           0       1           0  \n1                 0                   0           0       1           0  \n2                 0                   0           0       1           0  \n3                 0                   0           0       1           1  \n4                 0                   0           0       0           0  \n...             ...                 ...         ...     ...         ...  \n3995              0                   0           0       0           0  \n3996              0                   0           0       1           0  \n3997              0                   0           0       0           0  \n3998              0                   0           0       0           0  \n3999              0                   1           0       1           0  \n\n[4000 rows x 12 columns]",
      "text/html": "<div>\n<style scoped>\n    .dataframe tbody tr th:only-of-type {\n        vertical-align: middle;\n    }\n\n    .dataframe tbody tr th {\n        vertical-align: top;\n    }\n\n    .dataframe thead th {\n        text-align: right;\n    }\n</style>\n<table border=\"1\" class=\"dataframe\">\n  <thead>\n    <tr style=\"text-align: right;\">\n      <th></th>\n      <th>Age</th>\n      <th>Experience</th>\n      <th>Income</th>\n      <th>Family</th>\n      <th>CCAvg</th>\n      <th>Education</th>\n      <th>Mortgage</th>\n      <th>Personal Loan</th>\n      <th>Securities Account</th>\n      <th>CD Account</th>\n      <th>Online</th>\n      <th>CreditCard</th>\n    </tr>\n  </thead>\n  <tbody>\n    <tr>\n      <th>0</th>\n      <td>60</td>\n      <td>39</td>\n      <td>89</td>\n      <td>2</td>\n      <td>2.8</td>\n      <td>1</td>\n      <td>0</td>\n      <td>0</td>\n      <td>0</td>\n      <td>0</td>\n      <td>1</td>\n      <td>0</td>\n    </tr>\n    <tr>\n      <th>1</th>\n      <td>44</td>\n      <td>22</td>\n      <td>30</td>\n      <td>1</td>\n      <td>0.5</td>\n      <td>3</td>\n      <td>0</td>\n      <td>0</td>\n      <td>0</td>\n      <td>0</td>\n      <td>1</td>\n      <td>0</td>\n    </tr>\n    <tr>\n      <th>2</th>\n      <td>26</td>\n      <td>3</td>\n      <td>19</td>\n      <td>1</td>\n      <td>0.1</td>\n      <td>2</td>\n      <td>121</td>\n      <td>0</td>\n      <td>0</td>\n      <td>0</td>\n      <td>1</td>\n      <td>0</td>\n    </tr>\n    <tr>\n      <th>3</th>\n      <td>34</td>\n      <td>12</td>\n      <td>41</td>\n      <td>2</td>\n      <td>0.1</td>\n      <td>1</td>\n      <td>161</td>\n      <td>0</td>\n      <td>0</td>\n      <td>0</td>\n      <td>1</td>\n      <td>1</td>\n    </tr>\n    <tr>\n      <th>4</th>\n      <td>56</td>\n      <td>35</td>\n      <td>51</td>\n      <td>4</td>\n      <td>1.5</td>\n      <td>1</td>\n      <td>0</td>\n      <td>0</td>\n      <td>0</td>\n      <td>0</td>\n      <td>0</td>\n      <td>0</td>\n    </tr>\n    <tr>\n      <th>...</th>\n      <td>...</td>\n      <td>...</td>\n      <td>...</td>\n      <td>...</td>\n      <td>...</td>\n      <td>...</td>\n      <td>...</td>\n      <td>...</td>\n      <td>...</td>\n      <td>...</td>\n      <td>...</td>\n      <td>...</td>\n    </tr>\n    <tr>\n      <th>3995</th>\n      <td>37</td>\n      <td>14</td>\n      <td>59</td>\n      <td>4</td>\n      <td>0.2</td>\n      <td>3</td>\n      <td>0</td>\n      <td>0</td>\n      <td>0</td>\n      <td>0</td>\n      <td>0</td>\n      <td>0</td>\n    </tr>\n    <tr>\n      <th>3996</th>\n      <td>36</td>\n      <td>13</td>\n      <td>91</td>\n      <td>1</td>\n      <td>1.5</td>\n      <td>3</td>\n      <td>289</td>\n      <td>0</td>\n      <td>0</td>\n      <td>0</td>\n      <td>1</td>\n      <td>0</td>\n    </tr>\n    <tr>\n      <th>3997</th>\n      <td>57</td>\n      <td>34</td>\n      <td>131</td>\n      <td>2</td>\n      <td>2.7</td>\n      <td>1</td>\n      <td>0</td>\n      <td>0</td>\n      <td>0</td>\n      <td>0</td>\n      <td>0</td>\n      <td>0</td>\n    </tr>\n    <tr>\n      <th>3998</th>\n      <td>40</td>\n      <td>18</td>\n      <td>83</td>\n      <td>1</td>\n      <td>1.0</td>\n      <td>3</td>\n      <td>0</td>\n      <td>0</td>\n      <td>0</td>\n      <td>0</td>\n      <td>0</td>\n      <td>0</td>\n    </tr>\n    <tr>\n      <th>3999</th>\n      <td>30</td>\n      <td>8</td>\n      <td>23</td>\n      <td>2</td>\n      <td>0.9</td>\n      <td>3</td>\n      <td>0</td>\n      <td>0</td>\n      <td>1</td>\n      <td>0</td>\n      <td>1</td>\n      <td>0</td>\n    </tr>\n  </tbody>\n</table>\n<p>4000 rows × 12 columns</p>\n</div>"
     },
     "execution_count": 7,
     "metadata": {},
     "output_type": "execute_result"
    }
   ],
   "source": [
    "df"
   ],
   "metadata": {
    "collapsed": false,
    "ExecuteTime": {
     "end_time": "2023-12-26T09:14:57.391276200Z",
     "start_time": "2023-12-26T09:14:57.270276400Z"
    }
   },
   "id": "4311dfd8995898"
  },
  {
   "cell_type": "code",
   "execution_count": 8,
   "outputs": [
    {
     "data": {
      "text/plain": "23.196"
     },
     "execution_count": 8,
     "metadata": {},
     "output_type": "execute_result"
    }
   ],
   "source": [
    "np.round(df['Experience'].mean(), 3)"
   ],
   "metadata": {
    "collapsed": false,
    "ExecuteTime": {
     "end_time": "2023-12-26T09:14:57.391276200Z",
     "start_time": "2023-12-26T09:14:57.286276600Z"
    }
   },
   "id": "775842b4ce90c079"
  },
  {
   "cell_type": "code",
   "execution_count": 9,
   "outputs": [],
   "source": [
    "df['CCAvg'] *= 12"
   ],
   "metadata": {
    "collapsed": false,
    "ExecuteTime": {
     "end_time": "2023-12-26T09:14:57.391276200Z",
     "start_time": "2023-12-26T09:14:57.299274700Z"
    }
   },
   "id": "ee9457678d9d471e"
  },
  {
   "cell_type": "code",
   "execution_count": 10,
   "outputs": [
    {
     "data": {
      "text/plain": "23.062"
     },
     "execution_count": 10,
     "metadata": {},
     "output_type": "execute_result"
    }
   ],
   "source": [
    "np.round(df['CCAvg'].mean(), 3)"
   ],
   "metadata": {
    "collapsed": false,
    "ExecuteTime": {
     "end_time": "2023-12-26T09:14:57.392274500Z",
     "start_time": "2023-12-26T09:14:57.314276Z"
    }
   },
   "id": "3c321469daf791ca"
  },
  {
   "cell_type": "code",
   "execution_count": 11,
   "outputs": [
    {
     "data": {
      "text/plain": "<Axes: xlabel='Mortgage', ylabel='Count'>"
     },
     "execution_count": 11,
     "metadata": {},
     "output_type": "execute_result"
    },
    {
     "data": {
      "text/plain": "<Figure size 640x480 with 1 Axes>",
      "image/png": "[encoded data removed]"
     },
     "metadata": {},
     "output_type": "display_data"
    }
   ],
   "source": [
    "sns.histplot(df['Mortgage'])"
   ],
   "metadata": {
    "collapsed": false,
    "ExecuteTime": {
     "end_time": "2023-12-26T09:14:58.262318800Z",
     "start_time": "2023-12-26T09:14:58.003316700Z"
    }
   },
   "id": "7adcf95b71122d74"
  },
  {
   "cell_type": "code",
   "execution_count": 12,
   "outputs": [
    {
     "data": {
      "text/plain": "83"
     },
     "execution_count": 12,
     "metadata": {},
     "output_type": "execute_result"
    }
   ],
   "source": [
    "from scipy.stats import zscore\n",
    "\n",
    "(zscore(df['Mortgage']) >= 3).sum()"
   ],
   "metadata": {
    "collapsed": false,
    "ExecuteTime": {
     "end_time": "2023-12-26T09:15:00.394442500Z",
     "start_time": "2023-12-26T09:15:00.366413400Z"
    }
   },
   "id": "28880d653ab76d98"
  },
  {
   "cell_type": "code",
   "execution_count": 13,
   "outputs": [
    {
     "data": {
      "text/plain": "0       False\n1       False\n2       False\n3       False\n4       False\n        ...  \n3995    False\n3996    False\n3997    False\n3998    False\n3999    False\nName: Mortgage, Length: 4000, dtype: bool"
     },
     "execution_count": 13,
     "metadata": {},
     "output_type": "execute_result"
    }
   ],
   "source": [
    "zscore(df['Mortgage']) >= 3"
   ],
   "metadata": {
    "collapsed": false,
    "ExecuteTime": {
     "end_time": "2023-12-26T09:15:00.653431700Z",
     "start_time": "2023-12-26T09:15:00.613433200Z"
    }
   },
   "id": "9aad31072f886595"
  },
  {
   "cell_type": "code",
   "execution_count": 14,
   "outputs": [
    {
     "data": {
      "text/plain": "      Age  Experience  Income  Family  CCAvg  Education  Mortgage  \\\n0      60          39      89       2   33.6          1         0   \n1      44          22      30       1    6.0          3         0   \n2      26           3      19       1    1.2          2       121   \n3      34          12      41       2    1.2          1       161   \n4      56          35      51       4   18.0          1         0   \n...   ...         ...     ...     ...    ...        ...       ...   \n3995   37          14      59       4    2.4          3         0   \n3996   36          13      91       1   18.0          3       289   \n3997   57          34     131       2   32.4          1         0   \n3998   40          18      83       1   12.0          3         0   \n3999   30           8      23       2   10.8          3         0   \n\n      Personal Loan  Securities Account  CD Account  Online  CreditCard  \n0                 0                   0           0       1           0  \n1                 0                   0           0       1           0  \n2                 0                   0           0       1           0  \n3                 0                   0           0       1           1  \n4                 0                   0           0       0           0  \n...             ...                 ...         ...     ...         ...  \n3995              0                   0           0       0           0  \n3996              0                   0           0       1           0  \n3997              0                   0           0       0           0  \n3998              0                   0           0       0           0  \n3999              0                   1           0       1           0  \n\n[3917 rows x 12 columns]",
      "text/html": "<div>\n<style scoped>\n    .dataframe tbody tr th:only-of-type {\n        vertical-align: middle;\n    }\n\n    .dataframe tbody tr th {\n        vertical-align: top;\n    }\n\n    .dataframe thead th {\n        text-align: right;\n    }\n</style>\n<table border=\"1\" class=\"dataframe\">\n  <thead>\n    <tr style=\"text-align: right;\">\n      <th></th>\n      <th>Age</th>\n      <th>Experience</th>\n      <th>Income</th>\n      <th>Family</th>\n      <th>CCAvg</th>\n      <th>Education</th>\n      <th>Mortgage</th>\n      <th>Personal Loan</th>\n      <th>Securities Account</th>\n      <th>CD Account</th>\n      <th>Online</th>\n      <th>CreditCard</th>\n    </tr>\n  </thead>\n  <tbody>\n    <tr>\n      <th>0</th>\n      <td>60</td>\n      <td>39</td>\n      <td>89</td>\n      <td>2</td>\n      <td>33.6</td>\n      <td>1</td>\n      <td>0</td>\n      <td>0</td>\n      <td>0</td>\n      <td>0</td>\n      <td>1</td>\n      <td>0</td>\n    </tr>\n    <tr>\n      <th>1</th>\n      <td>44</td>\n      <td>22</td>\n      <td>30</td>\n      <td>1</td>\n      <td>6.0</td>\n      <td>3</td>\n      <td>0</td>\n      <td>0</td>\n      <td>0</td>\n      <td>0</td>\n      <td>1</td>\n      <td>0</td>\n    </tr>\n    <tr>\n      <th>2</th>\n      <td>26</td>\n      <td>3</td>\n      <td>19</td>\n      <td>1</td>\n      <td>1.2</td>\n      <td>2</td>\n      <td>121</td>\n      <td>0</td>\n      <td>0</td>\n      <td>0</td>\n      <td>1</td>\n      <td>0</td>\n    </tr>\n    <tr>\n      <th>3</th>\n      <td>34</td>\n      <td>12</td>\n      <td>41</td>\n      <td>2</td>\n      <td>1.2</td>\n      <td>1</td>\n      <td>161</td>\n      <td>0</td>\n      <td>0</td>\n      <td>0</td>\n      <td>1</td>\n      <td>1</td>\n    </tr>\n    <tr>\n      <th>4</th>\n      <td>56</td>\n      <td>35</td>\n      <td>51</td>\n      <td>4</td>\n      <td>18.0</td>\n      <td>1</td>\n      <td>0</td>\n      <td>0</td>\n      <td>0</td>\n      <td>0</td>\n      <td>0</td>\n      <td>0</td>\n    </tr>\n    <tr>\n      <th>...</th>\n      <td>...</td>\n      <td>...</td>\n      <td>...</td>\n      <td>...</td>\n      <td>...</td>\n      <td>...</td>\n      <td>...</td>\n      <td>...</td>\n      <td>...</td>\n      <td>...</td>\n      <td>...</td>\n      <td>...</td>\n    </tr>\n    <tr>\n      <th>3995</th>\n      <td>37</td>\n      <td>14</td>\n      <td>59</td>\n      <td>4</td>\n      <td>2.4</td>\n      <td>3</td>\n      <td>0</td>\n      <td>0</td>\n      <td>0</td>\n      <td>0</td>\n      <td>0</td>\n      <td>0</td>\n    </tr>\n    <tr>\n      <th>3996</th>\n      <td>36</td>\n      <td>13</td>\n      <td>91</td>\n      <td>1</td>\n      <td>18.0</td>\n      <td>3</td>\n      <td>289</td>\n      <td>0</td>\n      <td>0</td>\n      <td>0</td>\n      <td>1</td>\n      <td>0</td>\n    </tr>\n    <tr>\n      <th>3997</th>\n      <td>57</td>\n      <td>34</td>\n      <td>131</td>\n      <td>2</td>\n      <td>32.4</td>\n      <td>1</td>\n      <td>0</td>\n      <td>0</td>\n      <td>0</td>\n      <td>0</td>\n      <td>0</td>\n      <td>0</td>\n    </tr>\n    <tr>\n      <th>3998</th>\n      <td>40</td>\n      <td>18</td>\n      <td>83</td>\n      <td>1</td>\n      <td>12.0</td>\n      <td>3</td>\n      <td>0</td>\n      <td>0</td>\n      <td>0</td>\n      <td>0</td>\n      <td>0</td>\n      <td>0</td>\n    </tr>\n    <tr>\n      <th>3999</th>\n      <td>30</td>\n      <td>8</td>\n      <td>23</td>\n      <td>2</td>\n      <td>10.8</td>\n      <td>3</td>\n      <td>0</td>\n      <td>0</td>\n      <td>1</td>\n      <td>0</td>\n      <td>1</td>\n      <td>0</td>\n    </tr>\n  </tbody>\n</table>\n<p>3917 rows × 12 columns</p>\n</div>"
     },
     "execution_count": 14,
     "metadata": {},
     "output_type": "execute_result"
    }
   ],
   "source": [
    "df_fixed = df[zscore(df['Mortgage']) <= 3]\n",
    "df_fixed"
   ],
   "metadata": {
    "collapsed": false,
    "ExecuteTime": {
     "end_time": "2023-12-26T09:15:02.232699400Z",
     "start_time": "2023-12-26T09:15:02.202700600Z"
    }
   },
   "id": "9fcc076fcee6bc92"
  },
  {
   "cell_type": "code",
   "execution_count": 15,
   "outputs": [
    {
     "data": {
      "text/plain": "      Age  Experience  Income  Family  CCAvg  Education  Mortgage  \\\n0      60          39      89       2   33.6          1         0   \n1      44          22      30       1    6.0          3         0   \n2      26           3      19       1    1.2          2       121   \n3      34          12      41       2    1.2          1       161   \n4      56          35      51       4   18.0          1         0   \n...   ...         ...     ...     ...    ...        ...       ...   \n3995   37          14      59       4    2.4          3         0   \n3996   36          13      91       1   18.0          3       289   \n3997   57          34     131       2   32.4          1         0   \n3998   40          18      83       1   12.0          3         0   \n3999   30           8      23       2   10.8          3         0   \n\n      Personal Loan  Securities Account  CD Account  Online  CreditCard  \n0                 0                   0           0       1           0  \n1                 0                   0           0       1           0  \n2                 0                   0           0       1           0  \n3                 0                   0           0       1           1  \n4                 0                   0           0       0           0  \n...             ...                 ...         ...     ...         ...  \n3995              0                   0           0       0           0  \n3996              0                   0           0       1           0  \n3997              0                   0           0       0           0  \n3998              0                   0           0       0           0  \n3999              0                   1           0       1           0  \n\n[4000 rows x 12 columns]",
      "text/html": "<div>\n<style scoped>\n    .dataframe tbody tr th:only-of-type {\n        vertical-align: middle;\n    }\n\n    .dataframe tbody tr th {\n        vertical-align: top;\n    }\n\n    .dataframe thead th {\n        text-align: right;\n    }\n</style>\n<table border=\"1\" class=\"dataframe\">\n  <thead>\n    <tr style=\"text-align: right;\">\n      <th></th>\n      <th>Age</th>\n      <th>Experience</th>\n      <th>Income</th>\n      <th>Family</th>\n      <th>CCAvg</th>\n      <th>Education</th>\n      <th>Mortgage</th>\n      <th>Personal Loan</th>\n      <th>Securities Account</th>\n      <th>CD Account</th>\n      <th>Online</th>\n      <th>CreditCard</th>\n    </tr>\n  </thead>\n  <tbody>\n    <tr>\n      <th>0</th>\n      <td>60</td>\n      <td>39</td>\n      <td>89</td>\n      <td>2</td>\n      <td>33.6</td>\n      <td>1</td>\n      <td>0</td>\n      <td>0</td>\n      <td>0</td>\n      <td>0</td>\n      <td>1</td>\n      <td>0</td>\n    </tr>\n    <tr>\n      <th>1</th>\n      <td>44</td>\n      <td>22</td>\n      <td>30</td>\n      <td>1</td>\n      <td>6.0</td>\n      <td>3</td>\n      <td>0</td>\n      <td>0</td>\n      <td>0</td>\n      <td>0</td>\n      <td>1</td>\n      <td>0</td>\n    </tr>\n    <tr>\n      <th>2</th>\n      <td>26</td>\n      <td>3</td>\n      <td>19</td>\n      <td>1</td>\n      <td>1.2</td>\n      <td>2</td>\n      <td>121</td>\n      <td>0</td>\n      <td>0</td>\n      <td>0</td>\n      <td>1</td>\n      <td>0</td>\n    </tr>\n    <tr>\n      <th>3</th>\n      <td>34</td>\n      <td>12</td>\n      <td>41</td>\n      <td>2</td>\n      <td>1.2</td>\n      <td>1</td>\n      <td>161</td>\n      <td>0</td>\n      <td>0</td>\n      <td>0</td>\n      <td>1</td>\n      <td>1</td>\n    </tr>\n    <tr>\n      <th>4</th>\n      <td>56</td>\n      <td>35</td>\n      <td>51</td>\n      <td>4</td>\n      <td>18.0</td>\n      <td>1</td>\n      <td>0</td>\n      <td>0</td>\n      <td>0</td>\n      <td>0</td>\n      <td>0</td>\n      <td>0</td>\n    </tr>\n    <tr>\n      <th>...</th>\n      <td>...</td>\n      <td>...</td>\n      <td>...</td>\n      <td>...</td>\n      <td>...</td>\n      <td>...</td>\n      <td>...</td>\n      <td>...</td>\n      <td>...</td>\n      <td>...</td>\n      <td>...</td>\n      <td>...</td>\n    </tr>\n    <tr>\n      <th>3995</th>\n      <td>37</td>\n      <td>14</td>\n      <td>59</td>\n      <td>4</td>\n      <td>2.4</td>\n      <td>3</td>\n      <td>0</td>\n      <td>0</td>\n      <td>0</td>\n      <td>0</td>\n      <td>0</td>\n      <td>0</td>\n    </tr>\n    <tr>\n      <th>3996</th>\n      <td>36</td>\n      <td>13</td>\n      <td>91</td>\n      <td>1</td>\n      <td>18.0</td>\n      <td>3</td>\n      <td>289</td>\n      <td>0</td>\n      <td>0</td>\n      <td>0</td>\n      <td>1</td>\n      <td>0</td>\n    </tr>\n    <tr>\n      <th>3997</th>\n      <td>57</td>\n      <td>34</td>\n      <td>131</td>\n      <td>2</td>\n      <td>32.4</td>\n      <td>1</td>\n      <td>0</td>\n      <td>0</td>\n      <td>0</td>\n      <td>0</td>\n      <td>0</td>\n      <td>0</td>\n    </tr>\n    <tr>\n      <th>3998</th>\n      <td>40</td>\n      <td>18</td>\n      <td>83</td>\n      <td>1</td>\n      <td>12.0</td>\n      <td>3</td>\n      <td>0</td>\n      <td>0</td>\n      <td>0</td>\n      <td>0</td>\n      <td>0</td>\n      <td>0</td>\n    </tr>\n    <tr>\n      <th>3999</th>\n      <td>30</td>\n      <td>8</td>\n      <td>23</td>\n      <td>2</td>\n      <td>10.8</td>\n      <td>3</td>\n      <td>0</td>\n      <td>0</td>\n      <td>1</td>\n      <td>0</td>\n      <td>1</td>\n      <td>0</td>\n    </tr>\n  </tbody>\n</table>\n<p>4000 rows × 12 columns</p>\n</div>"
     },
     "execution_count": 15,
     "metadata": {},
     "output_type": "execute_result"
    }
   ],
   "source": [
    "df"
   ],
   "metadata": {
    "collapsed": false,
    "ExecuteTime": {
     "end_time": "2023-12-26T09:15:07.779640800Z",
     "start_time": "2023-12-26T09:15:07.764606600Z"
    }
   },
   "id": "fab2ddf2d9949f46"
  },
  {
   "cell_type": "code",
   "execution_count": 16,
   "outputs": [],
   "source": [
    "from sklearn.metrics import f1_score\n",
    "from sklearn.model_selection import train_test_split\n",
    "from sklearn.tree import DecisionTreeClassifier\n",
    "\n",
    "def split_dataset(dataset: pd.DataFrame, column: str) -> tuple[pd.DataFrame, pd.DataFrame]:\n",
    "    return dataset.drop(column, axis=1), dataset[column]\n",
    "\n",
    "\n",
    "def get_f1_score(dataset, criterion: str, label: str = 'Personal Loan'):\n",
    "    X, Y = split_dataset(dataset, label)\n",
    "\n",
    "    X_train, X_test, Y_train, Y_test = train_test_split(X, Y, test_size=0.2, random_state=7, stratify=dataset[label])\n",
    "\n",
    "    classifier = DecisionTreeClassifier(random_state=7, criterion=criterion)\n",
    "    classifier.fit(X_train, Y_train)\n",
    "    Y_predicted = classifier.predict(X_test)\n",
    "\n",
    "    return np.round(f1_score(Y_test, Y_predicted), 3)"
   ],
   "metadata": {
    "collapsed": false,
    "ExecuteTime": {
     "end_time": "2023-12-26T09:15:43.256674200Z",
     "start_time": "2023-12-26T09:15:43.168674500Z"
    }
   },
   "id": "66c4149f86026b91"
  },
  {
   "cell_type": "code",
   "execution_count": 17,
   "outputs": [
    {
     "data": {
      "text/plain": "0.886"
     },
     "execution_count": 17,
     "metadata": {},
     "output_type": "execute_result"
    }
   ],
   "source": [
    "get_f1_score(df, 'gini')"
   ],
   "metadata": {
    "collapsed": false,
    "ExecuteTime": {
     "end_time": "2023-12-26T09:15:43.500214Z",
     "start_time": "2023-12-26T09:15:43.451184700Z"
    }
   },
   "id": "63ca6d4086f3c572"
  },
  {
   "cell_type": "code",
   "execution_count": 18,
   "outputs": [
    {
     "data": {
      "text/plain": "0.884"
     },
     "execution_count": 18,
     "metadata": {},
     "output_type": "execute_result"
    }
   ],
   "source": [
    "get_f1_score(df, 'entropy')"
   ],
   "metadata": {
    "collapsed": false,
    "ExecuteTime": {
     "end_time": "2023-12-26T09:15:44.159183400Z",
     "start_time": "2023-12-26T09:15:44.074184400Z"
    }
   },
   "id": "20d0140c23b23e2b"
  },
  {
   "cell_type": "code",
   "execution_count": 53,
   "outputs": [],
   "source": [
    "def get_f1_score(dataset, criterion: str, label: str = 'Personal Loan'):\n",
    "    X, Y = split_dataset(dataset, label)\n",
    "\n",
    "    X_train, X_test, Y_train, Y_test = train_test_split(X, Y, test_size=0.2, random_state=7, stratify=dataset[label])\n",
    "\n",
    "    classifier = DecisionTreeClassifier(random_state=7, criterion=criterion, class_weight='balanced')\n",
    "    classifier.fit(X_train, Y_train)\n",
    "    Y_predicted = classifier.predict(X_test)\n",
    "\n",
    "    return np.round(f1_score(Y_test, Y_predicted), 3)"
   ],
   "metadata": {
    "collapsed": false,
    "ExecuteTime": {
     "end_time": "2023-12-26T09:27:41.273245200Z",
     "start_time": "2023-12-26T09:27:41.252248300Z"
    }
   },
   "id": "b2447a9fe14fe228"
  },
  {
   "cell_type": "code",
   "execution_count": 54,
   "outputs": [
    {
     "data": {
      "text/plain": "0.868"
     },
     "execution_count": 54,
     "metadata": {},
     "output_type": "execute_result"
    }
   ],
   "source": [
    "get_f1_score(df, 'gini')"
   ],
   "metadata": {
    "collapsed": false,
    "ExecuteTime": {
     "end_time": "2023-12-26T09:27:41.578072100Z",
     "start_time": "2023-12-26T09:27:41.526963400Z"
    }
   },
   "id": "10961161fe12417"
  },
  {
   "cell_type": "code",
   "execution_count": 55,
   "outputs": [
    {
     "data": {
      "text/plain": "0.865"
     },
     "execution_count": 55,
     "metadata": {},
     "output_type": "execute_result"
    }
   ],
   "source": [
    "get_f1_score(df, 'entropy')"
   ],
   "metadata": {
    "collapsed": false,
    "ExecuteTime": {
     "end_time": "2023-12-26T09:27:41.830328900Z",
     "start_time": "2023-12-26T09:27:41.762966Z"
    }
   },
   "id": "89b7191fae3afcc2"
  },
  {
   "cell_type": "markdown",
   "source": [
    "# Upsampling"
   ],
   "metadata": {
    "collapsed": false
   },
   "id": "a17940dd72a92fe"
  },
  {
   "cell_type": "code",
   "execution_count": 39,
   "outputs": [
    {
     "data": {
      "text/plain": "0.911"
     },
     "execution_count": 39,
     "metadata": {},
     "output_type": "execute_result"
    }
   ],
   "source": [
    "1 - (df['Personal Loan'].sum() / df['Personal Loan'].count())"
   ],
   "metadata": {
    "collapsed": false,
    "ExecuteTime": {
     "end_time": "2023-12-26T09:22:50.850433600Z",
     "start_time": "2023-12-26T09:22:50.831092600Z"
    }
   },
   "id": "768de6fccac497a2"
  },
  {
   "cell_type": "code",
   "execution_count": 40,
   "outputs": [
    {
     "data": {
      "text/plain": "3569"
     },
     "execution_count": 40,
     "metadata": {},
     "output_type": "execute_result"
    }
   ],
   "source": [
    "df['Personal Loan'].count() - df['Personal Loan'].sum()"
   ],
   "metadata": {
    "collapsed": false,
    "ExecuteTime": {
     "end_time": "2023-12-26T09:22:51.268492200Z",
     "start_time": "2023-12-26T09:22:51.236306200Z"
    }
   },
   "id": "8b230d84fefcf11f"
  },
  {
   "cell_type": "code",
   "execution_count": 47,
   "outputs": [
    {
     "data": {
      "text/plain": "      Age  Experience  Income  Family      CCAvg  Education  Mortgage  \\\n0      60          39      89       2  33.600000          1         0   \n1      44          22      30       1   6.000000          3         0   \n2      26           3      19       1   1.200000          2       121   \n3      34          12      41       2   1.200000          1       161   \n4      56          35      51       4  18.000000          1         0   \n...   ...         ...     ...     ...        ...        ...       ...   \n7133   59          37     123       2   6.078090          2         0   \n7134   55          33     106       2  45.631732          3         0   \n7135   55          34     173       1  53.933151          2        89   \n7136   61          36     165       2  91.780210          2       353   \n7137   46          23     123       4  54.953107          2         0   \n\n      Securities Account  CD Account  Online  CreditCard  \n0                      0           0       1           0  \n1                      0           0       1           0  \n2                      0           0       1           0  \n3                      0           0       1           1  \n4                      0           0       0           0  \n...                  ...         ...     ...         ...  \n7133                   0           0       1           0  \n7134                   0           0       0           0  \n7135                   0           0       0           0  \n7136                   0           0       1           0  \n7137                   0           0       0           0  \n\n[7138 rows x 11 columns]",
      "text/html": "<div>\n<style scoped>\n    .dataframe tbody tr th:only-of-type {\n        vertical-align: middle;\n    }\n\n    .dataframe tbody tr th {\n        vertical-align: top;\n    }\n\n    .dataframe thead th {\n        text-align: right;\n    }\n</style>\n<table border=\"1\" class=\"dataframe\">\n  <thead>\n    <tr style=\"text-align: right;\">\n      <th></th>\n      <th>Age</th>\n      <th>Experience</th>\n      <th>Income</th>\n      <th>Family</th>\n      <th>CCAvg</th>\n      <th>Education</th>\n      <th>Mortgage</th>\n      <th>Securities Account</th>\n      <th>CD Account</th>\n      <th>Online</th>\n      <th>CreditCard</th>\n    </tr>\n  </thead>\n  <tbody>\n    <tr>\n      <th>0</th>\n      <td>60</td>\n      <td>39</td>\n      <td>89</td>\n      <td>2</td>\n      <td>33.600000</td>\n      <td>1</td>\n      <td>0</td>\n      <td>0</td>\n      <td>0</td>\n      <td>1</td>\n      <td>0</td>\n    </tr>\n    <tr>\n      <th>1</th>\n      <td>44</td>\n      <td>22</td>\n      <td>30</td>\n      <td>1</td>\n      <td>6.000000</td>\n      <td>3</td>\n      <td>0</td>\n      <td>0</td>\n      <td>0</td>\n      <td>1</td>\n      <td>0</td>\n    </tr>\n    <tr>\n      <th>2</th>\n      <td>26</td>\n      <td>3</td>\n      <td>19</td>\n      <td>1</td>\n      <td>1.200000</td>\n      <td>2</td>\n      <td>121</td>\n      <td>0</td>\n      <td>0</td>\n      <td>1</td>\n      <td>0</td>\n    </tr>\n    <tr>\n      <th>3</th>\n      <td>34</td>\n      <td>12</td>\n      <td>41</td>\n      <td>2</td>\n      <td>1.200000</td>\n      <td>1</td>\n      <td>161</td>\n      <td>0</td>\n      <td>0</td>\n      <td>1</td>\n      <td>1</td>\n    </tr>\n    <tr>\n      <th>4</th>\n      <td>56</td>\n      <td>35</td>\n      <td>51</td>\n      <td>4</td>\n      <td>18.000000</td>\n      <td>1</td>\n      <td>0</td>\n      <td>0</td>\n      <td>0</td>\n      <td>0</td>\n      <td>0</td>\n    </tr>\n    <tr>\n      <th>...</th>\n      <td>...</td>\n      <td>...</td>\n      <td>...</td>\n      <td>...</td>\n      <td>...</td>\n      <td>...</td>\n      <td>...</td>\n      <td>...</td>\n      <td>...</td>\n      <td>...</td>\n      <td>...</td>\n    </tr>\n    <tr>\n      <th>7133</th>\n      <td>59</td>\n      <td>37</td>\n      <td>123</td>\n      <td>2</td>\n      <td>6.078090</td>\n      <td>2</td>\n      <td>0</td>\n      <td>0</td>\n      <td>0</td>\n      <td>1</td>\n      <td>0</td>\n    </tr>\n    <tr>\n      <th>7134</th>\n      <td>55</td>\n      <td>33</td>\n      <td>106</td>\n      <td>2</td>\n      <td>45.631732</td>\n      <td>3</td>\n      <td>0</td>\n      <td>0</td>\n      <td>0</td>\n      <td>0</td>\n      <td>0</td>\n    </tr>\n    <tr>\n      <th>7135</th>\n      <td>55</td>\n      <td>34</td>\n      <td>173</td>\n      <td>1</td>\n      <td>53.933151</td>\n      <td>2</td>\n      <td>89</td>\n      <td>0</td>\n      <td>0</td>\n      <td>0</td>\n      <td>0</td>\n    </tr>\n    <tr>\n      <th>7136</th>\n      <td>61</td>\n      <td>36</td>\n      <td>165</td>\n      <td>2</td>\n      <td>91.780210</td>\n      <td>2</td>\n      <td>353</td>\n      <td>0</td>\n      <td>0</td>\n      <td>1</td>\n      <td>0</td>\n    </tr>\n    <tr>\n      <th>7137</th>\n      <td>46</td>\n      <td>23</td>\n      <td>123</td>\n      <td>4</td>\n      <td>54.953107</td>\n      <td>2</td>\n      <td>0</td>\n      <td>0</td>\n      <td>0</td>\n      <td>0</td>\n      <td>0</td>\n    </tr>\n  </tbody>\n</table>\n<p>7138 rows × 11 columns</p>\n</div>"
     },
     "execution_count": 47,
     "metadata": {},
     "output_type": "execute_result"
    }
   ],
   "source": [
    "from imblearn.over_sampling import SMOTE\n",
    "\n",
    "sampler = SMOTE(random_state=7)\n",
    "X, Y = split_dataset(df, 'Personal Loan')\n",
    "X, Y = sampler.fit_resample(X.to_numpy(), Y.to_numpy())\n",
    "X"
   ],
   "metadata": {
    "collapsed": false,
    "ExecuteTime": {
     "end_time": "2023-12-26T09:24:41.153520400Z",
     "start_time": "2023-12-26T09:24:41.107522Z"
    }
   },
   "id": "4097c53e2a3f4b3d"
  },
  {
   "cell_type": "code",
   "execution_count": 42,
   "outputs": [
    {
     "data": {
      "text/plain": "            Age  Experience      Income    Family      CCAvg  Education  \\\n0     60.000000   39.000000   89.000000  2.000000  33.600000   1.000000   \n1     44.000000   22.000000   30.000000  1.000000   6.000000   3.000000   \n2     26.000000    3.000000   19.000000  1.000000   1.200000   2.000000   \n3     34.000000   12.000000   41.000000  2.000000   1.200000   1.000000   \n4     56.000000   35.000000   51.000000  4.000000  18.000000   1.000000   \n...         ...         ...         ...       ...        ...        ...   \n7133  59.532537   37.532537  123.149403  2.850597   6.078090   2.383134   \n7134  55.506611   33.519833  106.947113  2.506611  45.631732   3.000000   \n7135  55.419361   34.366575  173.950137  1.105571  53.933151   2.052785   \n7136  61.741754   36.225262  165.497188  2.629123  91.780210   2.629123   \n7137  46.065390   23.598085  123.065390  4.000000  54.953107   2.532695   \n\n        Mortgage  Securities Account  CD Account    Online  CreditCard  \\\n0       0.000000                 0.0    0.000000  1.000000    0.000000   \n1       0.000000                 0.0    0.000000  1.000000    0.000000   \n2     121.000000                 0.0    0.000000  1.000000    0.000000   \n3     161.000000                 0.0    0.000000  1.000000    1.000000   \n4       0.000000                 0.0    0.000000  0.000000    0.000000   \n...          ...                 ...         ...       ...         ...   \n7133    0.000000                 0.0    0.616866  1.000000    0.000000   \n7134    0.000000                 0.0    0.000000  0.000000    0.493389   \n7135   89.847489                 0.0    0.947215  0.947215    0.000000   \n7136  353.596139                 0.0    0.629123  1.000000    0.629123   \n7137    0.000000                 0.0    0.000000  0.467305    0.000000   \n\n      Personal Loan  \n0                 0  \n1                 0  \n2                 0  \n3                 0  \n4                 0  \n...             ...  \n7133              1  \n7134              1  \n7135              1  \n7136              1  \n7137              1  \n\n[7138 rows x 12 columns]",
      "text/html": "<div>\n<style scoped>\n    .dataframe tbody tr th:only-of-type {\n        vertical-align: middle;\n    }\n\n    .dataframe tbody tr th {\n        vertical-align: top;\n    }\n\n    .dataframe thead th {\n        text-align: right;\n    }\n</style>\n<table border=\"1\" class=\"dataframe\">\n  <thead>\n    <tr style=\"text-align: right;\">\n      <th></th>\n      <th>Age</th>\n      <th>Experience</th>\n      <th>Income</th>\n      <th>Family</th>\n      <th>CCAvg</th>\n      <th>Education</th>\n      <th>Mortgage</th>\n      <th>Securities Account</th>\n      <th>CD Account</th>\n      <th>Online</th>\n      <th>CreditCard</th>\n      <th>Personal Loan</th>\n    </tr>\n  </thead>\n  <tbody>\n    <tr>\n      <th>0</th>\n      <td>60.000000</td>\n      <td>39.000000</td>\n      <td>89.000000</td>\n      <td>2.000000</td>\n      <td>33.600000</td>\n      <td>1.000000</td>\n      <td>0.000000</td>\n      <td>0.0</td>\n      <td>0.000000</td>\n      <td>1.000000</td>\n      <td>0.000000</td>\n      <td>0</td>\n    </tr>\n    <tr>\n      <th>1</th>\n      <td>44.000000</td>\n      <td>22.000000</td>\n      <td>30.000000</td>\n      <td>1.000000</td>\n      <td>6.000000</td>\n      <td>3.000000</td>\n      <td>0.000000</td>\n      <td>0.0</td>\n      <td>0.000000</td>\n      <td>1.000000</td>\n      <td>0.000000</td>\n      <td>0</td>\n    </tr>\n    <tr>\n      <th>2</th>\n      <td>26.000000</td>\n      <td>3.000000</td>\n      <td>19.000000</td>\n      <td>1.000000</td>\n      <td>1.200000</td>\n      <td>2.000000</td>\n      <td>121.000000</td>\n      <td>0.0</td>\n      <td>0.000000</td>\n      <td>1.000000</td>\n      <td>0.000000</td>\n      <td>0</td>\n    </tr>\n    <tr>\n      <th>3</th>\n      <td>34.000000</td>\n      <td>12.000000</td>\n      <td>41.000000</td>\n      <td>2.000000</td>\n      <td>1.200000</td>\n      <td>1.000000</td>\n      <td>161.000000</td>\n      <td>0.0</td>\n      <td>0.000000</td>\n      <td>1.000000</td>\n      <td>1.000000</td>\n      <td>0</td>\n    </tr>\n    <tr>\n      <th>4</th>\n      <td>56.000000</td>\n      <td>35.000000</td>\n      <td>51.000000</td>\n      <td>4.000000</td>\n      <td>18.000000</td>\n      <td>1.000000</td>\n      <td>0.000000</td>\n      <td>0.0</td>\n      <td>0.000000</td>\n      <td>0.000000</td>\n      <td>0.000000</td>\n      <td>0</td>\n    </tr>\n    <tr>\n      <th>...</th>\n      <td>...</td>\n      <td>...</td>\n      <td>...</td>\n      <td>...</td>\n      <td>...</td>\n      <td>...</td>\n      <td>...</td>\n      <td>...</td>\n      <td>...</td>\n      <td>...</td>\n      <td>...</td>\n      <td>...</td>\n    </tr>\n    <tr>\n      <th>7133</th>\n      <td>59.532537</td>\n      <td>37.532537</td>\n      <td>123.149403</td>\n      <td>2.850597</td>\n      <td>6.078090</td>\n      <td>2.383134</td>\n      <td>0.000000</td>\n      <td>0.0</td>\n      <td>0.616866</td>\n      <td>1.000000</td>\n      <td>0.000000</td>\n      <td>1</td>\n    </tr>\n    <tr>\n      <th>7134</th>\n      <td>55.506611</td>\n      <td>33.519833</td>\n      <td>106.947113</td>\n      <td>2.506611</td>\n      <td>45.631732</td>\n      <td>3.000000</td>\n      <td>0.000000</td>\n      <td>0.0</td>\n      <td>0.000000</td>\n      <td>0.000000</td>\n      <td>0.493389</td>\n      <td>1</td>\n    </tr>\n    <tr>\n      <th>7135</th>\n      <td>55.419361</td>\n      <td>34.366575</td>\n      <td>173.950137</td>\n      <td>1.105571</td>\n      <td>53.933151</td>\n      <td>2.052785</td>\n      <td>89.847489</td>\n      <td>0.0</td>\n      <td>0.947215</td>\n      <td>0.947215</td>\n      <td>0.000000</td>\n      <td>1</td>\n    </tr>\n    <tr>\n      <th>7136</th>\n      <td>61.741754</td>\n      <td>36.225262</td>\n      <td>165.497188</td>\n      <td>2.629123</td>\n      <td>91.780210</td>\n      <td>2.629123</td>\n      <td>353.596139</td>\n      <td>0.0</td>\n      <td>0.629123</td>\n      <td>1.000000</td>\n      <td>0.629123</td>\n      <td>1</td>\n    </tr>\n    <tr>\n      <th>7137</th>\n      <td>46.065390</td>\n      <td>23.598085</td>\n      <td>123.065390</td>\n      <td>4.000000</td>\n      <td>54.953107</td>\n      <td>2.532695</td>\n      <td>0.000000</td>\n      <td>0.0</td>\n      <td>0.000000</td>\n      <td>0.467305</td>\n      <td>0.000000</td>\n      <td>1</td>\n    </tr>\n  </tbody>\n</table>\n<p>7138 rows × 12 columns</p>\n</div>"
     },
     "execution_count": 42,
     "metadata": {},
     "output_type": "execute_result"
    }
   ],
   "source": [
    "df_upsampled = pd.DataFrame(X, columns=df.columns.drop('Personal Loan'))\n",
    "df_upsampled['Personal Loan'] = Y\n",
    "df_upsampled"
   ],
   "metadata": {
    "collapsed": false,
    "ExecuteTime": {
     "end_time": "2023-12-26T09:22:52.342616600Z",
     "start_time": "2023-12-26T09:22:52.292619100Z"
    }
   },
   "id": "c58c9d0cc9be027d"
  },
  {
   "cell_type": "code",
   "execution_count": 56,
   "outputs": [],
   "source": [
    "df_upsampled['Personal Loan'].sum()"
   ],
   "metadata": {
    "collapsed": false,
    "ExecuteTime": {
     "end_time": "2023-12-26T09:28:12.979161500Z",
     "start_time": "2023-12-26T09:28:12.960996800Z"
    }
   },
   "id": "db03f0f78fb34d76"
  },
  {
   "cell_type": "code",
   "execution_count": 57,
   "outputs": [
    {
     "data": {
      "text/plain": "2855"
     },
     "execution_count": 57,
     "metadata": {},
     "output_type": "execute_result"
    }
   ],
   "source": [
    "def get_f1_score(dataset, criterion: str, label: str = 'Personal Loan'):\n",
    "    X, Y = split_dataset(dataset, label)\n",
    "\n",
    "    X_train, X_test, Y_train, Y_test = train_test_split(X, Y, test_size=0.2, random_state=7, stratify=dataset[label])\n",
    "\n",
    "    classifier = DecisionTreeClassifier(random_state=7, criterion=criterion)\n",
    "    classifier.fit(X_train, Y_train)\n",
    "    Y_predicted = classifier.predict(X_test)\n",
    "\n",
    "    return np.round(f1_score(Y_test, Y_predicted), 3)"
   ],
   "metadata": {
    "collapsed": false,
    "ExecuteTime": {
     "end_time": "2023-12-26T09:28:13.294795600Z",
     "start_time": "2023-12-26T09:28:13.271702900Z"
    }
   },
   "id": "4d5ea3a1f536fa3d"
  },
  {
   "cell_type": "code",
   "execution_count": 76,
   "outputs": [],
   "source": [
    "get_f1_score(df_upsampled, 'gini')"
   ],
   "metadata": {
    "collapsed": false,
    "ExecuteTime": {
     "end_time": "2023-12-26T09:29:52.283313Z",
     "start_time": "2023-12-26T09:29:52.255314800Z"
    }
   },
   "id": "c1fba101141eca6c"
  },
  {
   "cell_type": "code",
   "execution_count": 77,
   "outputs": [
    {
     "data": {
      "text/plain": "0.972183588317107"
     },
     "execution_count": 77,
     "metadata": {},
     "output_type": "execute_result"
    }
   ],
   "source": [
    "get_f1_score(df_upsampled, 'entropy')"
   ],
   "metadata": {
    "collapsed": false,
    "ExecuteTime": {
     "end_time": "2023-12-26T09:29:53.533029Z",
     "start_time": "2023-12-26T09:29:53.472034400Z"
    }
   },
   "id": "d752670c3c222137"
  },
  {
   "cell_type": "code",
   "execution_count": 78,
   "outputs": [
    {
     "data": {
      "text/plain": "0.9741439552760307"
     },
     "execution_count": 78,
     "metadata": {},
     "output_type": "execute_result"
    }
   ],
   "source": [],
   "metadata": {
    "collapsed": false,
    "ExecuteTime": {
     "end_time": "2023-12-26T09:29:54.520082900Z",
     "start_time": "2023-12-26T09:29:54.481056200Z"
    }
   },
   "id": "95ce9df66413163d"
  }
 ],
 "metadata": {
  "kernelspec": {
   "display_name": "Python 3",
   "language": "python",
   "name": "python3"
  },
  "language_info": {
   "codemirror_mode": {
    "name": "ipython",
    "version": 2
   },
   "file_extension": ".py",
   "mimetype": "text/x-python",
   "name": "python",
   "nbconvert_exporter": "python",
   "pygments_lexer": "ipython2",
   "version": "2.7.6"
  }
 },
 "nbformat": 4,
 "nbformat_minor": 5
}
