{
 "cells": [
  {
   "cell_type": "code",
   "execution_count": 51,
   "id": "initial_id",
   "metadata": {
    "collapsed": true,
    "ExecuteTime": {
     "end_time": "2023-12-23T08:24:55.801707700Z",
     "start_time": "2023-12-23T08:24:55.763710600Z"
    }
   },
   "outputs": [],
   "source": [
    "import math\n",
    "\n",
    "from sklearn.linear_model import LogisticRegression\n",
    "import pandas as pd\n",
    "import numpy as np\n",
    "import seaborn as sns"
   ]
  },
  {
   "cell_type": "code",
   "execution_count": 52,
   "outputs": [
    {
     "data": {
      "text/plain": "     pclass  survived                                             name  \\\n0         3         1                               Smyth, Miss. Julia   \n1         3         1                         Glynn, Miss. Mary Agatha   \n2         3         1  Whabee, Mrs. George Joseph (Shawneene Abi-Saab)   \n3         3         0                                  Vovk, Mr. Janko   \n4         3         0                        de Pelsmaeker, Mr. Alfons   \n..      ...       ...                                              ...   \n976       3         1                      Howard, Miss. May Elizabeth   \n977       3         1                       Dorking, Mr. Edward Arthur   \n978       2         0                     Gillespie, Mr. William Henry   \n979       3         0                           Barton, Mr. David John   \n980       1         0                     Allison, Miss. Helen Loraine   \n\n        sex   age  sibsp  parch       ticket      fare    cabin embarked  \\\n0    female   NaN      0      0       335432    7.7333      NaN        Q   \n1    female   NaN      0      0       335677    7.7500      NaN        Q   \n2    female  38.0      0      0         2688    7.2292      NaN        C   \n3      male  22.0      0      0       349252    7.8958      NaN        S   \n4      male  16.0      0      0       345778    9.5000      NaN        S   \n..      ...   ...    ...    ...          ...       ...      ...      ...   \n976  female   NaN      0      0  A. 2. 39186    8.0500      NaN        S   \n977    male  19.0      0      0   A/5. 10482    8.0500      NaN        S   \n978    male  34.0      0      0        12233   13.0000      NaN        S   \n979    male  22.0      0      0       324669    8.0500      NaN        S   \n980  female   2.0      1      2       113781  151.5500  C22 C26        S   \n\n                            home.dest  \n0                                 NaN  \n1    Co Clare, Ireland Washington, DC  \n2                                 NaN  \n3                                 NaN  \n4                                 NaN  \n..                                ...  \n976                               NaN  \n977               England Oglesby, IL  \n978                     Vancouver, BC  \n979              England New York, NY  \n980   Montreal, PQ / Chesterville, ON  \n\n[981 rows x 12 columns]",
      "text/html": "<div>\n<style scoped>\n    .dataframe tbody tr th:only-of-type {\n        vertical-align: middle;\n    }\n\n    .dataframe tbody tr th {\n        vertical-align: top;\n    }\n\n    .dataframe thead th {\n        text-align: right;\n    }\n</style>\n<table border=\"1\" class=\"dataframe\">\n  <thead>\n    <tr style=\"text-align: right;\">\n      <th></th>\n      <th>pclass</th>\n      <th>survived</th>\n      <th>name</th>\n      <th>sex</th>\n      <th>age</th>\n      <th>sibsp</th>\n      <th>parch</th>\n      <th>ticket</th>\n      <th>fare</th>\n      <th>cabin</th>\n      <th>embarked</th>\n      <th>home.dest</th>\n    </tr>\n  </thead>\n  <tbody>\n    <tr>\n      <th>0</th>\n      <td>3</td>\n      <td>1</td>\n      <td>Smyth, Miss. Julia</td>\n      <td>female</td>\n      <td>NaN</td>\n      <td>0</td>\n      <td>0</td>\n      <td>335432</td>\n      <td>7.7333</td>\n      <td>NaN</td>\n      <td>Q</td>\n      <td>NaN</td>\n    </tr>\n    <tr>\n      <th>1</th>\n      <td>3</td>\n      <td>1</td>\n      <td>Glynn, Miss. Mary Agatha</td>\n      <td>female</td>\n      <td>NaN</td>\n      <td>0</td>\n      <td>0</td>\n      <td>335677</td>\n      <td>7.7500</td>\n      <td>NaN</td>\n      <td>Q</td>\n      <td>Co Clare, Ireland Washington, DC</td>\n    </tr>\n    <tr>\n      <th>2</th>\n      <td>3</td>\n      <td>1</td>\n      <td>Whabee, Mrs. George Joseph (Shawneene Abi-Saab)</td>\n      <td>female</td>\n      <td>38.0</td>\n      <td>0</td>\n      <td>0</td>\n      <td>2688</td>\n      <td>7.2292</td>\n      <td>NaN</td>\n      <td>C</td>\n      <td>NaN</td>\n    </tr>\n    <tr>\n      <th>3</th>\n      <td>3</td>\n      <td>0</td>\n      <td>Vovk, Mr. Janko</td>\n      <td>male</td>\n      <td>22.0</td>\n      <td>0</td>\n      <td>0</td>\n      <td>349252</td>\n      <td>7.8958</td>\n      <td>NaN</td>\n      <td>S</td>\n      <td>NaN</td>\n    </tr>\n    <tr>\n      <th>4</th>\n      <td>3</td>\n      <td>0</td>\n      <td>de Pelsmaeker, Mr. Alfons</td>\n      <td>male</td>\n      <td>16.0</td>\n      <td>0</td>\n      <td>0</td>\n      <td>345778</td>\n      <td>9.5000</td>\n      <td>NaN</td>\n      <td>S</td>\n      <td>NaN</td>\n    </tr>\n    <tr>\n      <th>...</th>\n      <td>...</td>\n      <td>...</td>\n      <td>...</td>\n      <td>...</td>\n      <td>...</td>\n      <td>...</td>\n      <td>...</td>\n      <td>...</td>\n      <td>...</td>\n      <td>...</td>\n      <td>...</td>\n      <td>...</td>\n    </tr>\n    <tr>\n      <th>976</th>\n      <td>3</td>\n      <td>1</td>\n      <td>Howard, Miss. May Elizabeth</td>\n      <td>female</td>\n      <td>NaN</td>\n      <td>0</td>\n      <td>0</td>\n      <td>A. 2. 39186</td>\n      <td>8.0500</td>\n      <td>NaN</td>\n      <td>S</td>\n      <td>NaN</td>\n    </tr>\n    <tr>\n      <th>977</th>\n      <td>3</td>\n      <td>1</td>\n      <td>Dorking, Mr. Edward Arthur</td>\n      <td>male</td>\n      <td>19.0</td>\n      <td>0</td>\n      <td>0</td>\n      <td>A/5. 10482</td>\n      <td>8.0500</td>\n      <td>NaN</td>\n      <td>S</td>\n      <td>England Oglesby, IL</td>\n    </tr>\n    <tr>\n      <th>978</th>\n      <td>2</td>\n      <td>0</td>\n      <td>Gillespie, Mr. William Henry</td>\n      <td>male</td>\n      <td>34.0</td>\n      <td>0</td>\n      <td>0</td>\n      <td>12233</td>\n      <td>13.0000</td>\n      <td>NaN</td>\n      <td>S</td>\n      <td>Vancouver, BC</td>\n    </tr>\n    <tr>\n      <th>979</th>\n      <td>3</td>\n      <td>0</td>\n      <td>Barton, Mr. David John</td>\n      <td>male</td>\n      <td>22.0</td>\n      <td>0</td>\n      <td>0</td>\n      <td>324669</td>\n      <td>8.0500</td>\n      <td>NaN</td>\n      <td>S</td>\n      <td>England New York, NY</td>\n    </tr>\n    <tr>\n      <th>980</th>\n      <td>1</td>\n      <td>0</td>\n      <td>Allison, Miss. Helen Loraine</td>\n      <td>female</td>\n      <td>2.0</td>\n      <td>1</td>\n      <td>2</td>\n      <td>113781</td>\n      <td>151.5500</td>\n      <td>C22 C26</td>\n      <td>S</td>\n      <td>Montreal, PQ / Chesterville, ON</td>\n    </tr>\n  </tbody>\n</table>\n<p>981 rows × 12 columns</p>\n</div>"
     },
     "execution_count": 52,
     "metadata": {},
     "output_type": "execute_result"
    }
   ],
   "source": [
    "df = pd.read_csv('data/5/titanic_train.csv')\n",
    "df"
   ],
   "metadata": {
    "collapsed": false,
    "ExecuteTime": {
     "end_time": "2023-12-23T08:24:55.927207800Z",
     "start_time": "2023-12-23T08:24:55.895451200Z"
    }
   },
   "id": "7438247c2a8523d2"
  },
  {
   "cell_type": "code",
   "execution_count": 61,
   "outputs": [
    {
     "data": {
      "text/plain": "199"
     },
     "execution_count": 61,
     "metadata": {},
     "output_type": "execute_result"
    }
   ],
   "source": [
    "df['age'].isna().sum()"
   ],
   "metadata": {
    "collapsed": false,
    "ExecuteTime": {
     "end_time": "2023-12-23T08:29:26.414713300Z",
     "start_time": "2023-12-23T08:29:26.371224700Z"
    }
   },
   "id": "da69fd0b85770a66"
  },
  {
   "cell_type": "code",
   "execution_count": 54,
   "outputs": [
    {
     "data": {
      "text/plain": "<Axes: xlabel='pclass', ylabel='count'>"
     },
     "execution_count": 54,
     "metadata": {},
     "output_type": "execute_result"
    },
    {
     "data": {
      "text/plain": "<Figure size 640x480 with 1 Axes>",
      "image/png": "[encoded data removed]"
     },
     "metadata": {},
     "output_type": "display_data"
    }
   ],
   "source": [
    "sns.barplot(df['pclass'].value_counts())"
   ],
   "metadata": {
    "collapsed": false,
    "ExecuteTime": {
     "end_time": "2023-12-23T08:24:56.351667600Z",
     "start_time": "2023-12-23T08:24:56.211349700Z"
    }
   },
   "id": "5fa0db172c03bd6d"
  },
  {
   "cell_type": "code",
   "execution_count": 55,
   "outputs": [
    {
     "data": {
      "text/plain": "0.382"
     },
     "execution_count": 55,
     "metadata": {},
     "output_type": "execute_result"
    }
   ],
   "source": [
    "survived_stats = df['survived'].value_counts()\n",
    "np.round(survived_stats[1] / df['survived'].count(), 3)"
   ],
   "metadata": {
    "collapsed": false,
    "ExecuteTime": {
     "end_time": "2023-12-23T08:24:56.491695Z",
     "start_time": "2023-12-23T08:24:56.452670600Z"
    }
   },
   "id": "ad923e695a58264"
  },
  {
   "cell_type": "code",
   "execution_count": 62,
   "outputs": [
    {
     "name": "stdout",
     "output_type": "stream",
     "text": [
      "Col cabin have too many missing values\n",
      "Col home.dest have too many missing values\n",
      "------------------------------\n",
      "All cols: 10, missing cols: 2\n"
     ]
    }
   ],
   "source": [
    "missing_cols = 0\n",
    "for col in df.columns:\n",
    "    missing_prop = df[col].isna().sum() / df[col].count()\n",
    "    if missing_prop > 1 / 3:\n",
    "        missing_cols += 1\n",
    "        print(f'Col {col} have too many missing values')\n",
    "\n",
    "print('------------------------------')\n",
    "print(f'All cols: {len(df.columns)}, missing cols: {missing_cols}')"
   ],
   "metadata": {
    "collapsed": false,
    "ExecuteTime": {
     "end_time": "2023-12-23T08:29:46.745216Z",
     "start_time": "2023-12-23T08:29:46.707624900Z"
    }
   },
   "id": "25dbdde0aa6091d4"
  },
  {
   "cell_type": "code",
   "execution_count": 57,
   "outputs": [
    {
     "data": {
      "text/plain": "     pclass  survived                                             name  \\\n0         3         1                               Smyth, Miss. Julia   \n1         3         1                         Glynn, Miss. Mary Agatha   \n2         3         1  Whabee, Mrs. George Joseph (Shawneene Abi-Saab)   \n3         3         0                                  Vovk, Mr. Janko   \n4         3         0                        de Pelsmaeker, Mr. Alfons   \n..      ...       ...                                              ...   \n976       3         1                      Howard, Miss. May Elizabeth   \n977       3         1                       Dorking, Mr. Edward Arthur   \n978       2         0                     Gillespie, Mr. William Henry   \n979       3         0                           Barton, Mr. David John   \n980       1         0                     Allison, Miss. Helen Loraine   \n\n        sex   age      fare    cabin embarked  \\\n0    female   NaN    7.7333      NaN        Q   \n1    female   NaN    7.7500      NaN        Q   \n2    female  38.0    7.2292      NaN        C   \n3      male  22.0    7.8958      NaN        S   \n4      male  16.0    9.5000      NaN        S   \n..      ...   ...       ...      ...      ...   \n976  female   NaN    8.0500      NaN        S   \n977    male  19.0    8.0500      NaN        S   \n978    male  34.0   13.0000      NaN        S   \n979    male  22.0    8.0500      NaN        S   \n980  female   2.0  151.5500  C22 C26        S   \n\n                            home.dest  fam_size  \n0                                 NaN         0  \n1    Co Clare, Ireland Washington, DC         0  \n2                                 NaN         0  \n3                                 NaN         0  \n4                                 NaN         0  \n..                                ...       ...  \n976                               NaN         0  \n977               England Oglesby, IL         0  \n978                     Vancouver, BC         0  \n979              England New York, NY         0  \n980   Montreal, PQ / Chesterville, ON         3  \n\n[981 rows x 10 columns]",
      "text/html": "<div>\n<style scoped>\n    .dataframe tbody tr th:only-of-type {\n        vertical-align: middle;\n    }\n\n    .dataframe tbody tr th {\n        vertical-align: top;\n    }\n\n    .dataframe thead th {\n        text-align: right;\n    }\n</style>\n<table border=\"1\" class=\"dataframe\">\n  <thead>\n    <tr style=\"text-align: right;\">\n      <th></th>\n      <th>pclass</th>\n      <th>survived</th>\n      <th>name</th>\n      <th>sex</th>\n      <th>age</th>\n      <th>fare</th>\n      <th>cabin</th>\n      <th>embarked</th>\n      <th>home.dest</th>\n      <th>fam_size</th>\n    </tr>\n  </thead>\n  <tbody>\n    <tr>\n      <th>0</th>\n      <td>3</td>\n      <td>1</td>\n      <td>Smyth, Miss. Julia</td>\n      <td>female</td>\n      <td>NaN</td>\n      <td>7.7333</td>\n      <td>NaN</td>\n      <td>Q</td>\n      <td>NaN</td>\n      <td>0</td>\n    </tr>\n    <tr>\n      <th>1</th>\n      <td>3</td>\n      <td>1</td>\n      <td>Glynn, Miss. Mary Agatha</td>\n      <td>female</td>\n      <td>NaN</td>\n      <td>7.7500</td>\n      <td>NaN</td>\n      <td>Q</td>\n      <td>Co Clare, Ireland Washington, DC</td>\n      <td>0</td>\n    </tr>\n    <tr>\n      <th>2</th>\n      <td>3</td>\n      <td>1</td>\n      <td>Whabee, Mrs. George Joseph (Shawneene Abi-Saab)</td>\n      <td>female</td>\n      <td>38.0</td>\n      <td>7.2292</td>\n      <td>NaN</td>\n      <td>C</td>\n      <td>NaN</td>\n      <td>0</td>\n    </tr>\n    <tr>\n      <th>3</th>\n      <td>3</td>\n      <td>0</td>\n      <td>Vovk, Mr. Janko</td>\n      <td>male</td>\n      <td>22.0</td>\n      <td>7.8958</td>\n      <td>NaN</td>\n      <td>S</td>\n      <td>NaN</td>\n      <td>0</td>\n    </tr>\n    <tr>\n      <th>4</th>\n      <td>3</td>\n      <td>0</td>\n      <td>de Pelsmaeker, Mr. Alfons</td>\n      <td>male</td>\n      <td>16.0</td>\n      <td>9.5000</td>\n      <td>NaN</td>\n      <td>S</td>\n      <td>NaN</td>\n      <td>0</td>\n    </tr>\n    <tr>\n      <th>...</th>\n      <td>...</td>\n      <td>...</td>\n      <td>...</td>\n      <td>...</td>\n      <td>...</td>\n      <td>...</td>\n      <td>...</td>\n      <td>...</td>\n      <td>...</td>\n      <td>...</td>\n    </tr>\n    <tr>\n      <th>976</th>\n      <td>3</td>\n      <td>1</td>\n      <td>Howard, Miss. May Elizabeth</td>\n      <td>female</td>\n      <td>NaN</td>\n      <td>8.0500</td>\n      <td>NaN</td>\n      <td>S</td>\n      <td>NaN</td>\n      <td>0</td>\n    </tr>\n    <tr>\n      <th>977</th>\n      <td>3</td>\n      <td>1</td>\n      <td>Dorking, Mr. Edward Arthur</td>\n      <td>male</td>\n      <td>19.0</td>\n      <td>8.0500</td>\n      <td>NaN</td>\n      <td>S</td>\n      <td>England Oglesby, IL</td>\n      <td>0</td>\n    </tr>\n    <tr>\n      <th>978</th>\n      <td>2</td>\n      <td>0</td>\n      <td>Gillespie, Mr. William Henry</td>\n      <td>male</td>\n      <td>34.0</td>\n      <td>13.0000</td>\n      <td>NaN</td>\n      <td>S</td>\n      <td>Vancouver, BC</td>\n      <td>0</td>\n    </tr>\n    <tr>\n      <th>979</th>\n      <td>3</td>\n      <td>0</td>\n      <td>Barton, Mr. David John</td>\n      <td>male</td>\n      <td>22.0</td>\n      <td>8.0500</td>\n      <td>NaN</td>\n      <td>S</td>\n      <td>England New York, NY</td>\n      <td>0</td>\n    </tr>\n    <tr>\n      <th>980</th>\n      <td>1</td>\n      <td>0</td>\n      <td>Allison, Miss. Helen Loraine</td>\n      <td>female</td>\n      <td>2.0</td>\n      <td>151.5500</td>\n      <td>C22 C26</td>\n      <td>S</td>\n      <td>Montreal, PQ / Chesterville, ON</td>\n      <td>3</td>\n    </tr>\n  </tbody>\n</table>\n<p>981 rows × 10 columns</p>\n</div>"
     },
     "execution_count": 57,
     "metadata": {},
     "output_type": "execute_result"
    }
   ],
   "source": [
    "df['fam_size'] = df['sibsp'] + df['parch']\n",
    "df.drop(['ticket', 'sibsp', 'parch'], axis=1, inplace=True)\n",
    "df"
   ],
   "metadata": {
    "collapsed": false,
    "ExecuteTime": {
     "end_time": "2023-12-23T08:24:57.044619Z",
     "start_time": "2023-12-23T08:24:56.991505700Z"
    }
   },
   "id": "63efe75fbad85e20"
  },
  {
   "cell_type": "code",
   "execution_count": 59,
   "outputs": [
    {
     "data": {
      "text/plain": "0.866"
     },
     "execution_count": 59,
     "metadata": {},
     "output_type": "execute_result"
    }
   ],
   "source": [
    "np.round(df['fam_size'].mean(), 3)"
   ],
   "metadata": {
    "collapsed": false,
    "ExecuteTime": {
     "end_time": "2023-12-23T08:24:59.475528200Z",
     "start_time": "2023-12-23T08:24:59.438034800Z"
    }
   },
   "id": "35bbf28471dd2150"
  },
  {
   "cell_type": "code",
   "execution_count": 60,
   "outputs": [],
   "source": [
    "df_initial = df.copy()"
   ],
   "metadata": {
    "collapsed": false,
    "ExecuteTime": {
     "end_time": "2023-12-23T08:25:40.824091300Z",
     "start_time": "2023-12-23T08:25:40.781089Z"
    }
   },
   "id": "23a5e986efb5f77e"
  },
  {
   "cell_type": "code",
   "execution_count": 64,
   "outputs": [
    {
     "data": {
      "text/plain": "     pclass  survived                                               name  \\\n17        1         1                            Crosby, Miss. Harriet R   \n28        1         1  Swift, Mrs. Frederick Joel (Margaret Welles Ba...   \n46        1         1   Mayne, Mlle. Berthe Antonine (\"Mrs de Villiers\")   \n48        1         1              Dodge, Mrs. Washington (Ruth Vidaver)   \n50        1         1                           Willard, Miss. Constance   \n..      ...       ...                                                ...   \n958       1         1                        Compton, Miss. Sara Rebecca   \n960       1         1  Marvin, Mrs. Daniel Warner (Mary Graham Carmic...   \n965       1         1                           Young, Miss. Marie Grice   \n966       1         1  Hays, Mrs. Charles Melville (Clara Jennings Gr...   \n980       1         0                       Allison, Miss. Helen Loraine   \n\n        sex   age      fare    cabin embarked  \\\n17   female  36.0   71.0000      B22        S   \n28   female  48.0   25.9292      D17        S   \n46   female  24.0   49.5042      C90        C   \n48   female  54.0   81.8583      A34        S   \n50   female  21.0   26.5500      NaN        S   \n..      ...   ...       ...      ...      ...   \n958  female  39.0   83.1583      E49        C   \n960  female  18.0   53.1000      D30        S   \n965  female  36.0  135.6333      C32        C   \n966  female  52.0   93.5000      B69        S   \n980  female   2.0  151.5500  C22 C26        S   \n\n                           home.dest  fam_size  \n17                     Milwaukee, WI         2  \n28                      Brooklyn, NY         0  \n46             Belgium  Montreal, PQ         0  \n48                 San Francisco, CA         2  \n50                        Duluth, MN         0  \n..                               ...       ...  \n958                     Lakewood, NJ         2  \n960                     New York, NY         1  \n965    New York, NY / Washington, DC         0  \n966                     Montreal, PQ         2  \n980  Montreal, PQ / Chesterville, ON         3  \n\n[104 rows x 10 columns]",
      "text/html": "<div>\n<style scoped>\n    .dataframe tbody tr th:only-of-type {\n        vertical-align: middle;\n    }\n\n    .dataframe tbody tr th {\n        vertical-align: top;\n    }\n\n    .dataframe thead th {\n        text-align: right;\n    }\n</style>\n<table border=\"1\" class=\"dataframe\">\n  <thead>\n    <tr style=\"text-align: right;\">\n      <th></th>\n      <th>pclass</th>\n      <th>survived</th>\n      <th>name</th>\n      <th>sex</th>\n      <th>age</th>\n      <th>fare</th>\n      <th>cabin</th>\n      <th>embarked</th>\n      <th>home.dest</th>\n      <th>fam_size</th>\n    </tr>\n  </thead>\n  <tbody>\n    <tr>\n      <th>17</th>\n      <td>1</td>\n      <td>1</td>\n      <td>Crosby, Miss. Harriet R</td>\n      <td>female</td>\n      <td>36.0</td>\n      <td>71.0000</td>\n      <td>B22</td>\n      <td>S</td>\n      <td>Milwaukee, WI</td>\n      <td>2</td>\n    </tr>\n    <tr>\n      <th>28</th>\n      <td>1</td>\n      <td>1</td>\n      <td>Swift, Mrs. Frederick Joel (Margaret Welles Ba...</td>\n      <td>female</td>\n      <td>48.0</td>\n      <td>25.9292</td>\n      <td>D17</td>\n      <td>S</td>\n      <td>Brooklyn, NY</td>\n      <td>0</td>\n    </tr>\n    <tr>\n      <th>46</th>\n      <td>1</td>\n      <td>1</td>\n      <td>Mayne, Mlle. Berthe Antonine (\"Mrs de Villiers\")</td>\n      <td>female</td>\n      <td>24.0</td>\n      <td>49.5042</td>\n      <td>C90</td>\n      <td>C</td>\n      <td>Belgium  Montreal, PQ</td>\n      <td>0</td>\n    </tr>\n    <tr>\n      <th>48</th>\n      <td>1</td>\n      <td>1</td>\n      <td>Dodge, Mrs. Washington (Ruth Vidaver)</td>\n      <td>female</td>\n      <td>54.0</td>\n      <td>81.8583</td>\n      <td>A34</td>\n      <td>S</td>\n      <td>San Francisco, CA</td>\n      <td>2</td>\n    </tr>\n    <tr>\n      <th>50</th>\n      <td>1</td>\n      <td>1</td>\n      <td>Willard, Miss. Constance</td>\n      <td>female</td>\n      <td>21.0</td>\n      <td>26.5500</td>\n      <td>NaN</td>\n      <td>S</td>\n      <td>Duluth, MN</td>\n      <td>0</td>\n    </tr>\n    <tr>\n      <th>...</th>\n      <td>...</td>\n      <td>...</td>\n      <td>...</td>\n      <td>...</td>\n      <td>...</td>\n      <td>...</td>\n      <td>...</td>\n      <td>...</td>\n      <td>...</td>\n      <td>...</td>\n    </tr>\n    <tr>\n      <th>958</th>\n      <td>1</td>\n      <td>1</td>\n      <td>Compton, Miss. Sara Rebecca</td>\n      <td>female</td>\n      <td>39.0</td>\n      <td>83.1583</td>\n      <td>E49</td>\n      <td>C</td>\n      <td>Lakewood, NJ</td>\n      <td>2</td>\n    </tr>\n    <tr>\n      <th>960</th>\n      <td>1</td>\n      <td>1</td>\n      <td>Marvin, Mrs. Daniel Warner (Mary Graham Carmic...</td>\n      <td>female</td>\n      <td>18.0</td>\n      <td>53.1000</td>\n      <td>D30</td>\n      <td>S</td>\n      <td>New York, NY</td>\n      <td>1</td>\n    </tr>\n    <tr>\n      <th>965</th>\n      <td>1</td>\n      <td>1</td>\n      <td>Young, Miss. Marie Grice</td>\n      <td>female</td>\n      <td>36.0</td>\n      <td>135.6333</td>\n      <td>C32</td>\n      <td>C</td>\n      <td>New York, NY / Washington, DC</td>\n      <td>0</td>\n    </tr>\n    <tr>\n      <th>966</th>\n      <td>1</td>\n      <td>1</td>\n      <td>Hays, Mrs. Charles Melville (Clara Jennings Gr...</td>\n      <td>female</td>\n      <td>52.0</td>\n      <td>93.5000</td>\n      <td>B69</td>\n      <td>S</td>\n      <td>Montreal, PQ</td>\n      <td>2</td>\n    </tr>\n    <tr>\n      <th>980</th>\n      <td>1</td>\n      <td>0</td>\n      <td>Allison, Miss. Helen Loraine</td>\n      <td>female</td>\n      <td>2.0</td>\n      <td>151.5500</td>\n      <td>C22 C26</td>\n      <td>S</td>\n      <td>Montreal, PQ / Chesterville, ON</td>\n      <td>3</td>\n    </tr>\n  </tbody>\n</table>\n<p>104 rows × 10 columns</p>\n</div>"
     },
     "execution_count": 64,
     "metadata": {},
     "output_type": "execute_result"
    }
   ],
   "source": [
    "df_female_1 = df.copy()\n",
    "df_female_1 = df_female_1[df_female_1['sex'] == 'female']\n",
    "df_female_1 = df_female_1[df_female_1['pclass'] == 1]\n",
    "df_female_1"
   ],
   "metadata": {
    "collapsed": false,
    "ExecuteTime": {
     "end_time": "2023-12-23T08:32:31.017786100Z",
     "start_time": "2023-12-23T08:32:30.967666300Z"
    }
   },
   "id": "49e02e5461622f33"
  },
  {
   "cell_type": "code",
   "execution_count": 66,
   "outputs": [
    {
     "data": {
      "text/plain": "0.971"
     },
     "execution_count": 66,
     "metadata": {},
     "output_type": "execute_result"
    }
   ],
   "source": [
    "np.round(df_female_1['survived'].sum() / df_female_1['survived'].count(), 3) "
   ],
   "metadata": {
    "collapsed": false,
    "ExecuteTime": {
     "end_time": "2023-12-23T08:33:36.694654200Z",
     "start_time": "2023-12-23T08:33:36.657597100Z"
    }
   },
   "id": "f618c489a9ed4d56"
  },
  {
   "cell_type": "code",
   "execution_count": 72,
   "outputs": [
    {
     "data": {
      "text/plain": "<Axes: xlabel='age', ylabel='count'>"
     },
     "execution_count": 72,
     "metadata": {},
     "output_type": "execute_result"
    },
    {
     "data": {
      "text/plain": "<Figure size 640x480 with 1 Axes>",
      "image/png": "[encoded data removed]"
     },
     "metadata": {},
     "output_type": "display_data"
    }
   ],
   "source": [
    "df_survived = df[df['survived'] == 1]\n",
    "sns.barplot(df_survived['age'].value_counts())"
   ],
   "metadata": {
    "collapsed": false,
    "ExecuteTime": {
     "end_time": "2023-12-23T08:36:31.890483500Z",
     "start_time": "2023-12-23T08:36:31.017662600Z"
    }
   },
   "id": "d8c65f47f787eb95"
  },
  {
   "cell_type": "code",
   "execution_count": 73,
   "outputs": [
    {
     "data": {
      "text/plain": "<Axes: xlabel='age', ylabel='count'>"
     },
     "execution_count": 73,
     "metadata": {},
     "output_type": "execute_result"
    },
    {
     "data": {
      "text/plain": "<Figure size 640x480 with 1 Axes>",
      "image/png": "[encoded data removed]"
     },
     "metadata": {},
     "output_type": "display_data"
    }
   ],
   "source": [
    "df_non_survived = df[df['survived'] == 0]\n",
    "sns.barplot(df_non_survived['age'].value_counts())"
   ],
   "metadata": {
    "collapsed": false,
    "ExecuteTime": {
     "end_time": "2023-12-23T08:36:32.731478900Z",
     "start_time": "2023-12-23T08:36:31.876484900Z"
    }
   },
   "id": "72cdcdfa21ca1aaa"
  },
  {
   "cell_type": "markdown",
   "source": [
    "# Task 2"
   ],
   "metadata": {
    "collapsed": false
   },
   "id": "713131eb916142e"
  },
  {
   "cell_type": "code",
   "execution_count": 89,
   "outputs": [
    {
     "data": {
      "text/plain": "     pclass  survived   age      fare  fam_size\n2         3         1  38.0    7.2292         0\n3         3         0  22.0    7.8958         0\n4         3         0  16.0    9.5000         0\n5         3         1  29.0    7.7500         0\n7         1         0  25.0   26.0000         0\n..      ...       ...   ...       ...       ...\n975       2         0  19.0   10.5000         0\n977       3         1  19.0    8.0500         0\n978       2         0  34.0   13.0000         0\n979       3         0  22.0    8.0500         0\n980       1         0   2.0  151.5500         3\n\n[782 rows x 5 columns]",
      "text/html": "<div>\n<style scoped>\n    .dataframe tbody tr th:only-of-type {\n        vertical-align: middle;\n    }\n\n    .dataframe tbody tr th {\n        vertical-align: top;\n    }\n\n    .dataframe thead th {\n        text-align: right;\n    }\n</style>\n<table border=\"1\" class=\"dataframe\">\n  <thead>\n    <tr style=\"text-align: right;\">\n      <th></th>\n      <th>pclass</th>\n      <th>survived</th>\n      <th>age</th>\n      <th>fare</th>\n      <th>fam_size</th>\n    </tr>\n  </thead>\n  <tbody>\n    <tr>\n      <th>2</th>\n      <td>3</td>\n      <td>1</td>\n      <td>38.0</td>\n      <td>7.2292</td>\n      <td>0</td>\n    </tr>\n    <tr>\n      <th>3</th>\n      <td>3</td>\n      <td>0</td>\n      <td>22.0</td>\n      <td>7.8958</td>\n      <td>0</td>\n    </tr>\n    <tr>\n      <th>4</th>\n      <td>3</td>\n      <td>0</td>\n      <td>16.0</td>\n      <td>9.5000</td>\n      <td>0</td>\n    </tr>\n    <tr>\n      <th>5</th>\n      <td>3</td>\n      <td>1</td>\n      <td>29.0</td>\n      <td>7.7500</td>\n      <td>0</td>\n    </tr>\n    <tr>\n      <th>7</th>\n      <td>1</td>\n      <td>0</td>\n      <td>25.0</td>\n      <td>26.0000</td>\n      <td>0</td>\n    </tr>\n    <tr>\n      <th>...</th>\n      <td>...</td>\n      <td>...</td>\n      <td>...</td>\n      <td>...</td>\n      <td>...</td>\n    </tr>\n    <tr>\n      <th>975</th>\n      <td>2</td>\n      <td>0</td>\n      <td>19.0</td>\n      <td>10.5000</td>\n      <td>0</td>\n    </tr>\n    <tr>\n      <th>977</th>\n      <td>3</td>\n      <td>1</td>\n      <td>19.0</td>\n      <td>8.0500</td>\n      <td>0</td>\n    </tr>\n    <tr>\n      <th>978</th>\n      <td>2</td>\n      <td>0</td>\n      <td>34.0</td>\n      <td>13.0000</td>\n      <td>0</td>\n    </tr>\n    <tr>\n      <th>979</th>\n      <td>3</td>\n      <td>0</td>\n      <td>22.0</td>\n      <td>8.0500</td>\n      <td>0</td>\n    </tr>\n    <tr>\n      <th>980</th>\n      <td>1</td>\n      <td>0</td>\n      <td>2.0</td>\n      <td>151.5500</td>\n      <td>3</td>\n    </tr>\n  </tbody>\n</table>\n<p>782 rows × 5 columns</p>\n</div>"
     },
     "execution_count": 89,
     "metadata": {},
     "output_type": "execute_result"
    }
   ],
   "source": [
    "df_numerical = df.drop(['name', 'home.dest', 'sex', 'cabin', 'embarked'], axis=1)\n",
    "df_numerical_dropped = df_numerical.dropna()\n",
    "df_numerical_dropped"
   ],
   "metadata": {
    "collapsed": false,
    "ExecuteTime": {
     "end_time": "2023-12-23T08:43:11.376467300Z",
     "start_time": "2023-12-23T08:43:11.322467700Z"
    }
   },
   "id": "ecc158713e508f81"
  },
  {
   "cell_type": "code",
   "execution_count": 90,
   "outputs": [],
   "source": [
    "from sklearn.metrics import f1_score\n",
    "from sklearn.model_selection import train_test_split\n",
    "\n",
    "def split_dataset(dataset: pd.DataFrame, column: str) -> tuple[pd.DataFrame, pd.DataFrame]:\n",
    "    return dataset.drop(column, axis=1), dataset[column]\n",
    "\n",
    "\n",
    "def get_f1_score(dataset, label: str):\n",
    "    X, Y = split_dataset(dataset, label)\n",
    "\n",
    "    X_train, X_test, Y_train, Y_test = train_test_split(X, Y, test_size=0.2, random_state=35, stratify=dataset[label])\n",
    "\n",
    "    regressor = LogisticRegression(random_state=35, max_iter=1000)\n",
    "    regressor.fit(X_train, Y_train)\n",
    "    Y_predicted = regressor.predict(X_test)\n",
    "\n",
    "    return np.round(f1_score(Y_test, Y_predicted), 3)"
   ],
   "metadata": {
    "collapsed": false,
    "ExecuteTime": {
     "end_time": "2023-12-23T08:43:12.820024900Z",
     "start_time": "2023-12-23T08:43:12.804406300Z"
    }
   },
   "id": "5857a776f57d9975"
  },
  {
   "cell_type": "code",
   "execution_count": 91,
   "outputs": [
    {
     "data": {
      "text/plain": "0.518"
     },
     "execution_count": 91,
     "metadata": {},
     "output_type": "execute_result"
    }
   ],
   "source": [
    "get_f1_score(df_numerical_dropped, 'survived')"
   ],
   "metadata": {
    "collapsed": false,
    "ExecuteTime": {
     "end_time": "2023-12-23T08:43:16.476334Z",
     "start_time": "2023-12-23T08:43:16.448277700Z"
    }
   },
   "id": "e86f2dd9f978cb95"
  },
  {
   "cell_type": "code",
   "execution_count": 93,
   "outputs": [
    {
     "data": {
      "text/plain": "     pclass  survived        age      fare  fam_size\n0         3         1  29.963448    7.7333         0\n1         3         1  29.963448    7.7500         0\n2         3         1  38.000000    7.2292         0\n3         3         0  22.000000    7.8958         0\n4         3         0  16.000000    9.5000         0\n..      ...       ...        ...       ...       ...\n976       3         1  29.963448    8.0500         0\n977       3         1  19.000000    8.0500         0\n978       2         0  34.000000   13.0000         0\n979       3         0  22.000000    8.0500         0\n980       1         0   2.000000  151.5500         3\n\n[981 rows x 5 columns]",
      "text/html": "<div>\n<style scoped>\n    .dataframe tbody tr th:only-of-type {\n        vertical-align: middle;\n    }\n\n    .dataframe tbody tr th {\n        vertical-align: top;\n    }\n\n    .dataframe thead th {\n        text-align: right;\n    }\n</style>\n<table border=\"1\" class=\"dataframe\">\n  <thead>\n    <tr style=\"text-align: right;\">\n      <th></th>\n      <th>pclass</th>\n      <th>survived</th>\n      <th>age</th>\n      <th>fare</th>\n      <th>fam_size</th>\n    </tr>\n  </thead>\n  <tbody>\n    <tr>\n      <th>0</th>\n      <td>3</td>\n      <td>1</td>\n      <td>29.963448</td>\n      <td>7.7333</td>\n      <td>0</td>\n    </tr>\n    <tr>\n      <th>1</th>\n      <td>3</td>\n      <td>1</td>\n      <td>29.963448</td>\n      <td>7.7500</td>\n      <td>0</td>\n    </tr>\n    <tr>\n      <th>2</th>\n      <td>3</td>\n      <td>1</td>\n      <td>38.000000</td>\n      <td>7.2292</td>\n      <td>0</td>\n    </tr>\n    <tr>\n      <th>3</th>\n      <td>3</td>\n      <td>0</td>\n      <td>22.000000</td>\n      <td>7.8958</td>\n      <td>0</td>\n    </tr>\n    <tr>\n      <th>4</th>\n      <td>3</td>\n      <td>0</td>\n      <td>16.000000</td>\n      <td>9.5000</td>\n      <td>0</td>\n    </tr>\n    <tr>\n      <th>...</th>\n      <td>...</td>\n      <td>...</td>\n      <td>...</td>\n      <td>...</td>\n      <td>...</td>\n    </tr>\n    <tr>\n      <th>976</th>\n      <td>3</td>\n      <td>1</td>\n      <td>29.963448</td>\n      <td>8.0500</td>\n      <td>0</td>\n    </tr>\n    <tr>\n      <th>977</th>\n      <td>3</td>\n      <td>1</td>\n      <td>19.000000</td>\n      <td>8.0500</td>\n      <td>0</td>\n    </tr>\n    <tr>\n      <th>978</th>\n      <td>2</td>\n      <td>0</td>\n      <td>34.000000</td>\n      <td>13.0000</td>\n      <td>0</td>\n    </tr>\n    <tr>\n      <th>979</th>\n      <td>3</td>\n      <td>0</td>\n      <td>22.000000</td>\n      <td>8.0500</td>\n      <td>0</td>\n    </tr>\n    <tr>\n      <th>980</th>\n      <td>1</td>\n      <td>0</td>\n      <td>2.000000</td>\n      <td>151.5500</td>\n      <td>3</td>\n    </tr>\n  </tbody>\n</table>\n<p>981 rows × 5 columns</p>\n</div>"
     },
     "execution_count": 93,
     "metadata": {},
     "output_type": "execute_result"
    }
   ],
   "source": [
    "df_numerical_mean = df_numerical.fillna(df_numerical.mean())\n",
    "df_numerical_mean"
   ],
   "metadata": {
    "collapsed": false,
    "ExecuteTime": {
     "end_time": "2023-12-23T08:44:20.747986100Z",
     "start_time": "2023-12-23T08:44:20.708335Z"
    }
   },
   "id": "cd0e0b634392ff56"
  },
  {
   "cell_type": "code",
   "execution_count": 94,
   "outputs": [
    {
     "data": {
      "text/plain": "0.483"
     },
     "execution_count": 94,
     "metadata": {},
     "output_type": "execute_result"
    }
   ],
   "source": [
    "get_f1_score(df_numerical_mean, 'survived')"
   ],
   "metadata": {
    "collapsed": false,
    "ExecuteTime": {
     "end_time": "2023-12-23T08:45:35.399655500Z",
     "start_time": "2023-12-23T08:45:35.316633Z"
    }
   },
   "id": "46d8c6a84eeea65f"
  },
  {
   "cell_type": "code",
   "execution_count": 123,
   "outputs": [
    {
     "data": {
      "text/plain": "array(['Miss', 'Mrs', 'Mr', 'Master', 'Mlle', 'Rev', 'Ms', 'Col', 'Dona',\n       'Dr', 'the Countess', 'Major', 'Don', 'Capt'], dtype=object)"
     },
     "execution_count": 123,
     "metadata": {},
     "output_type": "execute_result"
    }
   ],
   "source": [
    "def get_appeals(v):\n",
    "    return v.split(', ')[1].split('. ')[0]\n",
    "\n",
    "df_processed = df_numerical.copy()\n",
    "unique_appeals = df['name'].apply(get_appeals).unique()\n",
    "unique_appeals"
   ],
   "metadata": {
    "collapsed": false,
    "ExecuteTime": {
     "end_time": "2023-12-23T09:04:04.534482500Z",
     "start_time": "2023-12-23T09:04:04.494509500Z"
    }
   },
   "id": "276235c1086aa4ff"
  },
  {
   "cell_type": "code",
   "execution_count": 124,
   "outputs": [
    {
     "data": {
      "text/plain": "     pclass  survived   age      fare  fam_size honorific\n0         3         1   NaN    7.7333         0      Miss\n1         3         1   NaN    7.7500         0      Miss\n2         3         1  38.0    7.2292         0       Mrs\n3         3         0  22.0    7.8958         0        Mr\n4         3         0  16.0    9.5000         0        Mr\n..      ...       ...   ...       ...       ...       ...\n976       3         1   NaN    8.0500         0      Miss\n977       3         1  19.0    8.0500         0        Mr\n978       2         0  34.0   13.0000         0        Mr\n979       3         0  22.0    8.0500         0        Mr\n980       1         0   2.0  151.5500         3      Miss\n\n[981 rows x 6 columns]",
      "text/html": "<div>\n<style scoped>\n    .dataframe tbody tr th:only-of-type {\n        vertical-align: middle;\n    }\n\n    .dataframe tbody tr th {\n        vertical-align: top;\n    }\n\n    .dataframe thead th {\n        text-align: right;\n    }\n</style>\n<table border=\"1\" class=\"dataframe\">\n  <thead>\n    <tr style=\"text-align: right;\">\n      <th></th>\n      <th>pclass</th>\n      <th>survived</th>\n      <th>age</th>\n      <th>fare</th>\n      <th>fam_size</th>\n      <th>honorific</th>\n    </tr>\n  </thead>\n  <tbody>\n    <tr>\n      <th>0</th>\n      <td>3</td>\n      <td>1</td>\n      <td>NaN</td>\n      <td>7.7333</td>\n      <td>0</td>\n      <td>Miss</td>\n    </tr>\n    <tr>\n      <th>1</th>\n      <td>3</td>\n      <td>1</td>\n      <td>NaN</td>\n      <td>7.7500</td>\n      <td>0</td>\n      <td>Miss</td>\n    </tr>\n    <tr>\n      <th>2</th>\n      <td>3</td>\n      <td>1</td>\n      <td>38.0</td>\n      <td>7.2292</td>\n      <td>0</td>\n      <td>Mrs</td>\n    </tr>\n    <tr>\n      <th>3</th>\n      <td>3</td>\n      <td>0</td>\n      <td>22.0</td>\n      <td>7.8958</td>\n      <td>0</td>\n      <td>Mr</td>\n    </tr>\n    <tr>\n      <th>4</th>\n      <td>3</td>\n      <td>0</td>\n      <td>16.0</td>\n      <td>9.5000</td>\n      <td>0</td>\n      <td>Mr</td>\n    </tr>\n    <tr>\n      <th>...</th>\n      <td>...</td>\n      <td>...</td>\n      <td>...</td>\n      <td>...</td>\n      <td>...</td>\n      <td>...</td>\n    </tr>\n    <tr>\n      <th>976</th>\n      <td>3</td>\n      <td>1</td>\n      <td>NaN</td>\n      <td>8.0500</td>\n      <td>0</td>\n      <td>Miss</td>\n    </tr>\n    <tr>\n      <th>977</th>\n      <td>3</td>\n      <td>1</td>\n      <td>19.0</td>\n      <td>8.0500</td>\n      <td>0</td>\n      <td>Mr</td>\n    </tr>\n    <tr>\n      <th>978</th>\n      <td>2</td>\n      <td>0</td>\n      <td>34.0</td>\n      <td>13.0000</td>\n      <td>0</td>\n      <td>Mr</td>\n    </tr>\n    <tr>\n      <th>979</th>\n      <td>3</td>\n      <td>0</td>\n      <td>22.0</td>\n      <td>8.0500</td>\n      <td>0</td>\n      <td>Mr</td>\n    </tr>\n    <tr>\n      <th>980</th>\n      <td>1</td>\n      <td>0</td>\n      <td>2.0</td>\n      <td>151.5500</td>\n      <td>3</td>\n      <td>Miss</td>\n    </tr>\n  </tbody>\n</table>\n<p>981 rows × 6 columns</p>\n</div>"
     },
     "execution_count": 124,
     "metadata": {},
     "output_type": "execute_result"
    }
   ],
   "source": [
    "df_processed['honorific'] = df['name'].apply(get_appeals)\n",
    "df_processed"
   ],
   "metadata": {
    "collapsed": false,
    "ExecuteTime": {
     "end_time": "2023-12-23T09:04:05.528746600Z",
     "start_time": "2023-12-23T09:04:05.470746900Z"
    }
   },
   "id": "f6e35ca3e7a55edd"
  },
  {
   "cell_type": "code",
   "execution_count": 125,
   "outputs": [
    {
     "data": {
      "text/plain": "     pclass  survived   age      fare  fam_size honorific\n0         3         1   NaN    7.7333         0      Miss\n1         3         1   NaN    7.7500         0      Miss\n2         3         1  38.0    7.2292         0       Mrs\n3         3         0  22.0    7.8958         0        Mr\n4         3         0  16.0    9.5000         0        Mr\n..      ...       ...   ...       ...       ...       ...\n976       3         1   NaN    8.0500         0      Miss\n977       3         1  19.0    8.0500         0        Mr\n978       2         0  34.0   13.0000         0        Mr\n979       3         0  22.0    8.0500         0        Mr\n980       1         0   2.0  151.5500         3      Miss\n\n[981 rows x 6 columns]",
      "text/html": "<div>\n<style scoped>\n    .dataframe tbody tr th:only-of-type {\n        vertical-align: middle;\n    }\n\n    .dataframe tbody tr th {\n        vertical-align: top;\n    }\n\n    .dataframe thead th {\n        text-align: right;\n    }\n</style>\n<table border=\"1\" class=\"dataframe\">\n  <thead>\n    <tr style=\"text-align: right;\">\n      <th></th>\n      <th>pclass</th>\n      <th>survived</th>\n      <th>age</th>\n      <th>fare</th>\n      <th>fam_size</th>\n      <th>honorific</th>\n    </tr>\n  </thead>\n  <tbody>\n    <tr>\n      <th>0</th>\n      <td>3</td>\n      <td>1</td>\n      <td>NaN</td>\n      <td>7.7333</td>\n      <td>0</td>\n      <td>Miss</td>\n    </tr>\n    <tr>\n      <th>1</th>\n      <td>3</td>\n      <td>1</td>\n      <td>NaN</td>\n      <td>7.7500</td>\n      <td>0</td>\n      <td>Miss</td>\n    </tr>\n    <tr>\n      <th>2</th>\n      <td>3</td>\n      <td>1</td>\n      <td>38.0</td>\n      <td>7.2292</td>\n      <td>0</td>\n      <td>Mrs</td>\n    </tr>\n    <tr>\n      <th>3</th>\n      <td>3</td>\n      <td>0</td>\n      <td>22.0</td>\n      <td>7.8958</td>\n      <td>0</td>\n      <td>Mr</td>\n    </tr>\n    <tr>\n      <th>4</th>\n      <td>3</td>\n      <td>0</td>\n      <td>16.0</td>\n      <td>9.5000</td>\n      <td>0</td>\n      <td>Mr</td>\n    </tr>\n    <tr>\n      <th>...</th>\n      <td>...</td>\n      <td>...</td>\n      <td>...</td>\n      <td>...</td>\n      <td>...</td>\n      <td>...</td>\n    </tr>\n    <tr>\n      <th>976</th>\n      <td>3</td>\n      <td>1</td>\n      <td>NaN</td>\n      <td>8.0500</td>\n      <td>0</td>\n      <td>Miss</td>\n    </tr>\n    <tr>\n      <th>977</th>\n      <td>3</td>\n      <td>1</td>\n      <td>19.0</td>\n      <td>8.0500</td>\n      <td>0</td>\n      <td>Mr</td>\n    </tr>\n    <tr>\n      <th>978</th>\n      <td>2</td>\n      <td>0</td>\n      <td>34.0</td>\n      <td>13.0000</td>\n      <td>0</td>\n      <td>Mr</td>\n    </tr>\n    <tr>\n      <th>979</th>\n      <td>3</td>\n      <td>0</td>\n      <td>22.0</td>\n      <td>8.0500</td>\n      <td>0</td>\n      <td>Mr</td>\n    </tr>\n    <tr>\n      <th>980</th>\n      <td>1</td>\n      <td>0</td>\n      <td>2.0</td>\n      <td>151.5500</td>\n      <td>3</td>\n      <td>Miss</td>\n    </tr>\n  </tbody>\n</table>\n<p>981 rows × 6 columns</p>\n</div>"
     },
     "execution_count": 125,
     "metadata": {},
     "output_type": "execute_result"
    }
   ],
   "source": [
    "mapper = {\n",
    "    'Rev': 'Mr',\n",
    "    'Col': 'Mr',\n",
    "    'Dr': 'Mr',\n",
    "    'Major': 'Mr',\n",
    "    'Don': 'Mr',\n",
    "    'Capt': 'Mr',\n",
    "    \n",
    "    'Dona': 'Mrs',\n",
    "    'the Countess': 'Mrs',\n",
    "    \n",
    "    'Mlle': 'Miss',\n",
    "    'Ms': 'Miss'\n",
    "}\n",
    "\n",
    "df_processed['honorific'] = df_processed['honorific'].apply(lambda x: mapper.get(x, x))\n",
    "df_processed"
   ],
   "metadata": {
    "collapsed": false,
    "ExecuteTime": {
     "end_time": "2023-12-23T09:04:05.705745400Z",
     "start_time": "2023-12-23T09:04:05.642744300Z"
    }
   },
   "id": "d12464f89b0b04af"
  },
  {
   "cell_type": "code",
   "execution_count": 126,
   "outputs": [
    {
     "data": {
      "text/plain": "0.072"
     },
     "execution_count": 126,
     "metadata": {},
     "output_type": "execute_result"
    }
   ],
   "source": [
    "np.round(df_processed['honorific'].value_counts()['Master'] / df['sex'].value_counts()['male'], 3) "
   ],
   "metadata": {
    "collapsed": false,
    "ExecuteTime": {
     "end_time": "2023-12-23T09:04:05.936590400Z",
     "start_time": "2023-12-23T09:04:05.888591100Z"
    }
   },
   "id": "11dcd9e437e6aade"
  },
  {
   "cell_type": "code",
   "execution_count": 127,
   "outputs": [
    {
     "data": {
      "text/plain": "5.128"
     },
     "execution_count": 127,
     "metadata": {},
     "output_type": "execute_result"
    }
   ],
   "source": [
    "np.round(df_processed[df_processed['honorific'] == 'Master']['age'].mean(), 3)"
   ],
   "metadata": {
    "collapsed": false,
    "ExecuteTime": {
     "end_time": "2023-12-23T09:04:06.853466800Z",
     "start_time": "2023-12-23T09:04:06.827977900Z"
    }
   },
   "id": "dc728a9af9de391e"
  },
  {
   "cell_type": "code",
   "execution_count": 132,
   "outputs": [
    {
     "data": {
      "text/plain": "     pclass  survived        age      fare  fam_size honorific\n0         3         1  22.005765    7.7333         0      Miss\n1         3         1  22.005765    7.7500         0      Miss\n2         3         1  38.000000    7.2292         0       Mrs\n3         3         0  22.000000    7.8958         0        Mr\n4         3         0  16.000000    9.5000         0        Mr\n..      ...       ...        ...       ...       ...       ...\n976       3         1  22.005765    8.0500         0      Miss\n977       3         1  19.000000    8.0500         0        Mr\n978       2         0  34.000000   13.0000         0        Mr\n979       3         0  22.000000    8.0500         0        Mr\n980       1         0   2.000000  151.5500         3      Miss\n\n[981 rows x 6 columns]",
      "text/html": "<div>\n<style scoped>\n    .dataframe tbody tr th:only-of-type {\n        vertical-align: middle;\n    }\n\n    .dataframe tbody tr th {\n        vertical-align: top;\n    }\n\n    .dataframe thead th {\n        text-align: right;\n    }\n</style>\n<table border=\"1\" class=\"dataframe\">\n  <thead>\n    <tr style=\"text-align: right;\">\n      <th></th>\n      <th>pclass</th>\n      <th>survived</th>\n      <th>age</th>\n      <th>fare</th>\n      <th>fam_size</th>\n      <th>honorific</th>\n    </tr>\n  </thead>\n  <tbody>\n    <tr>\n      <th>0</th>\n      <td>3</td>\n      <td>1</td>\n      <td>22.005765</td>\n      <td>7.7333</td>\n      <td>0</td>\n      <td>Miss</td>\n    </tr>\n    <tr>\n      <th>1</th>\n      <td>3</td>\n      <td>1</td>\n      <td>22.005765</td>\n      <td>7.7500</td>\n      <td>0</td>\n      <td>Miss</td>\n    </tr>\n    <tr>\n      <th>2</th>\n      <td>3</td>\n      <td>1</td>\n      <td>38.000000</td>\n      <td>7.2292</td>\n      <td>0</td>\n      <td>Mrs</td>\n    </tr>\n    <tr>\n      <th>3</th>\n      <td>3</td>\n      <td>0</td>\n      <td>22.000000</td>\n      <td>7.8958</td>\n      <td>0</td>\n      <td>Mr</td>\n    </tr>\n    <tr>\n      <th>4</th>\n      <td>3</td>\n      <td>0</td>\n      <td>16.000000</td>\n      <td>9.5000</td>\n      <td>0</td>\n      <td>Mr</td>\n    </tr>\n    <tr>\n      <th>...</th>\n      <td>...</td>\n      <td>...</td>\n      <td>...</td>\n      <td>...</td>\n      <td>...</td>\n      <td>...</td>\n    </tr>\n    <tr>\n      <th>976</th>\n      <td>3</td>\n      <td>1</td>\n      <td>22.005765</td>\n      <td>8.0500</td>\n      <td>0</td>\n      <td>Miss</td>\n    </tr>\n    <tr>\n      <th>977</th>\n      <td>3</td>\n      <td>1</td>\n      <td>19.000000</td>\n      <td>8.0500</td>\n      <td>0</td>\n      <td>Mr</td>\n    </tr>\n    <tr>\n      <th>978</th>\n      <td>2</td>\n      <td>0</td>\n      <td>34.000000</td>\n      <td>13.0000</td>\n      <td>0</td>\n      <td>Mr</td>\n    </tr>\n    <tr>\n      <th>979</th>\n      <td>3</td>\n      <td>0</td>\n      <td>22.000000</td>\n      <td>8.0500</td>\n      <td>0</td>\n      <td>Mr</td>\n    </tr>\n    <tr>\n      <th>980</th>\n      <td>1</td>\n      <td>0</td>\n      <td>2.000000</td>\n      <td>151.5500</td>\n      <td>3</td>\n      <td>Miss</td>\n    </tr>\n  </tbody>\n</table>\n<p>981 rows × 6 columns</p>\n</div>"
     },
     "execution_count": 132,
     "metadata": {},
     "output_type": "execute_result"
    }
   ],
   "source": [
    "import math\n",
    "\n",
    "means = {appeal: df_processed[df_processed['honorific'] == appeal]['age'].mean() for appeal in unique_appeals}\n",
    "\n",
    "def fill_age(row):\n",
    "    if not math.isnan(row['age']):\n",
    "        return row['age']\n",
    "    return means[row['honorific']]\n",
    "\n",
    "df_processed['age'] = df_processed[['age', 'honorific']].apply(fill_age, axis=1)\n",
    "df_processed"
   ],
   "metadata": {
    "collapsed": false,
    "ExecuteTime": {
     "end_time": "2023-12-23T09:11:08.549598500Z",
     "start_time": "2023-12-23T09:11:08.512600100Z"
    }
   },
   "id": "3e7706a159de2805"
  },
  {
   "cell_type": "code",
   "execution_count": 136,
   "outputs": [
    {
     "data": {
      "text/plain": "0.466"
     },
     "execution_count": 136,
     "metadata": {},
     "output_type": "execute_result"
    }
   ],
   "source": [
    "df_processed_dropped = df_processed.drop('honorific', axis=1)\n",
    "\n",
    "get_f1_score(df_processed_dropped, 'survived')"
   ],
   "metadata": {
    "collapsed": false,
    "ExecuteTime": {
     "end_time": "2023-12-23T09:12:20.659225500Z",
     "start_time": "2023-12-23T09:12:20.595031700Z"
    }
   },
   "id": "7df8c4ed9c360fa2"
  },
  {
   "cell_type": "code",
   "execution_count": 145,
   "outputs": [
    {
     "data": {
      "text/plain": "     pclass  survived     sex        age      fare embarked  fam_size\n0         3         1  female  22.005765    7.7333        Q         0\n1         3         1  female  22.005765    7.7500        Q         0\n2         3         1  female  38.000000    7.2292        C         0\n3         3         0    male  22.000000    7.8958        S         0\n4         3         0    male  16.000000    9.5000        S         0\n..      ...       ...     ...        ...       ...      ...       ...\n976       3         1  female  22.005765    8.0500        S         0\n977       3         1    male  19.000000    8.0500        S         0\n978       2         0    male  34.000000   13.0000        S         0\n979       3         0    male  22.000000    8.0500        S         0\n980       1         0  female   2.000000  151.5500        S         3\n\n[981 rows x 7 columns]",
      "text/html": "<div>\n<style scoped>\n    .dataframe tbody tr th:only-of-type {\n        vertical-align: middle;\n    }\n\n    .dataframe tbody tr th {\n        vertical-align: top;\n    }\n\n    .dataframe thead th {\n        text-align: right;\n    }\n</style>\n<table border=\"1\" class=\"dataframe\">\n  <thead>\n    <tr style=\"text-align: right;\">\n      <th></th>\n      <th>pclass</th>\n      <th>survived</th>\n      <th>sex</th>\n      <th>age</th>\n      <th>fare</th>\n      <th>embarked</th>\n      <th>fam_size</th>\n    </tr>\n  </thead>\n  <tbody>\n    <tr>\n      <th>0</th>\n      <td>3</td>\n      <td>1</td>\n      <td>female</td>\n      <td>22.005765</td>\n      <td>7.7333</td>\n      <td>Q</td>\n      <td>0</td>\n    </tr>\n    <tr>\n      <th>1</th>\n      <td>3</td>\n      <td>1</td>\n      <td>female</td>\n      <td>22.005765</td>\n      <td>7.7500</td>\n      <td>Q</td>\n      <td>0</td>\n    </tr>\n    <tr>\n      <th>2</th>\n      <td>3</td>\n      <td>1</td>\n      <td>female</td>\n      <td>38.000000</td>\n      <td>7.2292</td>\n      <td>C</td>\n      <td>0</td>\n    </tr>\n    <tr>\n      <th>3</th>\n      <td>3</td>\n      <td>0</td>\n      <td>male</td>\n      <td>22.000000</td>\n      <td>7.8958</td>\n      <td>S</td>\n      <td>0</td>\n    </tr>\n    <tr>\n      <th>4</th>\n      <td>3</td>\n      <td>0</td>\n      <td>male</td>\n      <td>16.000000</td>\n      <td>9.5000</td>\n      <td>S</td>\n      <td>0</td>\n    </tr>\n    <tr>\n      <th>...</th>\n      <td>...</td>\n      <td>...</td>\n      <td>...</td>\n      <td>...</td>\n      <td>...</td>\n      <td>...</td>\n      <td>...</td>\n    </tr>\n    <tr>\n      <th>976</th>\n      <td>3</td>\n      <td>1</td>\n      <td>female</td>\n      <td>22.005765</td>\n      <td>8.0500</td>\n      <td>S</td>\n      <td>0</td>\n    </tr>\n    <tr>\n      <th>977</th>\n      <td>3</td>\n      <td>1</td>\n      <td>male</td>\n      <td>19.000000</td>\n      <td>8.0500</td>\n      <td>S</td>\n      <td>0</td>\n    </tr>\n    <tr>\n      <th>978</th>\n      <td>2</td>\n      <td>0</td>\n      <td>male</td>\n      <td>34.000000</td>\n      <td>13.0000</td>\n      <td>S</td>\n      <td>0</td>\n    </tr>\n    <tr>\n      <th>979</th>\n      <td>3</td>\n      <td>0</td>\n      <td>male</td>\n      <td>22.000000</td>\n      <td>8.0500</td>\n      <td>S</td>\n      <td>0</td>\n    </tr>\n    <tr>\n      <th>980</th>\n      <td>1</td>\n      <td>0</td>\n      <td>female</td>\n      <td>2.000000</td>\n      <td>151.5500</td>\n      <td>S</td>\n      <td>3</td>\n    </tr>\n  </tbody>\n</table>\n<p>981 rows × 7 columns</p>\n</div>"
     },
     "execution_count": 145,
     "metadata": {},
     "output_type": "execute_result"
    }
   ],
   "source": [
    "df_original_with_fixed_age = df.copy()\n",
    "df_original_with_fixed_age['age'] = df_processed['age']\n",
    "df_original_with_fixed_age.drop(['name', 'cabin', 'home.dest'], axis=1, inplace=True)\n",
    "df_original_with_fixed_age"
   ],
   "metadata": {
    "collapsed": false,
    "ExecuteTime": {
     "end_time": "2023-12-23T09:48:29.817012900Z",
     "start_time": "2023-12-23T09:48:29.771865900Z"
    }
   },
   "id": "87c0dcf78d7cd5f7"
  },
  {
   "cell_type": "code",
   "execution_count": 146,
   "outputs": [],
   "source": [
    "df_original_with_fixed_age = pd.get_dummies(df_original_with_fixed_age, drop_first=True)"
   ],
   "metadata": {
    "collapsed": false,
    "ExecuteTime": {
     "end_time": "2023-12-23T09:48:33.138689100Z",
     "start_time": "2023-12-23T09:48:33.116689400Z"
    }
   },
   "id": "bd8e2d4c4aea70ed"
  },
  {
   "cell_type": "code",
   "execution_count": 147,
   "outputs": [
    {
     "data": {
      "text/plain": "0.71"
     },
     "execution_count": 147,
     "metadata": {},
     "output_type": "execute_result"
    }
   ],
   "source": [
    "get_f1_score(df_original_with_fixed_age, 'survived')"
   ],
   "metadata": {
    "collapsed": false,
    "ExecuteTime": {
     "end_time": "2023-12-23T09:48:33.448277Z",
     "start_time": "2023-12-23T09:48:33.413130900Z"
    }
   },
   "id": "2309b5bb3584f4f5"
  },
  {
   "cell_type": "code",
   "execution_count": null,
   "outputs": [],
   "source": [],
   "metadata": {
    "collapsed": false
   },
   "id": "fcedf20bfb4f966"
  }
 ],
 "metadata": {
  "kernelspec": {
   "display_name": "Python 3",
   "language": "python",
   "name": "python3"
  },
  "language_info": {
   "codemirror_mode": {
    "name": "ipython",
    "version": 2
   },
   "file_extension": ".py",
   "mimetype": "text/x-python",
   "name": "python",
   "nbconvert_exporter": "python",
   "pygments_lexer": "ipython2",
   "version": "2.7.6"
  }
 },
 "nbformat": 4,
 "nbformat_minor": 5
}
